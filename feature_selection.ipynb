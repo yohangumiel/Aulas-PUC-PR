{
  "nbformat": 4,
  "nbformat_minor": 0,
  "metadata": {
    "colab": {
      "name": "feature selection.ipynb",
      "provenance": [],
      "authorship_tag": "ABX9TyP8EsixSDoQmqXNr6XnBsmy",
      "include_colab_link": true
    },
    "kernelspec": {
      "name": "python3",
      "display_name": "Python 3"
    },
    "language_info": {
      "name": "python"
    }
  },
  "cells": [
    {
      "cell_type": "markdown",
      "metadata": {
        "id": "view-in-github",
        "colab_type": "text"
      },
      "source": [
        "<a href=\"https://colab.research.google.com/github/yohangumiel/Aulas-PUC-PR/blob/main/feature_selection.ipynb\" target=\"_parent\"><img src=\"https://colab.research.google.com/assets/colab-badge.svg\" alt=\"Open In Colab\"/></a>"
      ]
    },
    {
      "cell_type": "markdown",
      "source": [
        "https://pythonguides.com/scikit-learn-genetic-algorithm/"
      ],
      "metadata": {
        "id": "S_KXox6uq5yH"
      }
    },
    {
      "cell_type": "code",
      "source": [
        "!pip install sklearn-genetic"
      ],
      "metadata": {
        "colab": {
          "base_uri": "https://localhost:8080/"
        },
        "id": "BIcbztbdlzU-",
        "outputId": "17e1daa0-247a-44a4-f764-558d493da557"
      },
      "execution_count": 2,
      "outputs": [
        {
          "output_type": "stream",
          "name": "stdout",
          "text": [
            "Requirement already satisfied: sklearn-genetic in /usr/local/lib/python3.7/dist-packages (0.5.1)\n",
            "Requirement already satisfied: multiprocess in /usr/local/lib/python3.7/dist-packages (from sklearn-genetic) (0.70.12.2)\n",
            "Requirement already satisfied: scikit-learn>=0.23 in /usr/local/lib/python3.7/dist-packages (from sklearn-genetic) (1.0.2)\n",
            "Requirement already satisfied: deap>=1.0.2 in /usr/local/lib/python3.7/dist-packages (from sklearn-genetic) (1.3.1)\n",
            "Requirement already satisfied: numpy in /usr/local/lib/python3.7/dist-packages (from sklearn-genetic) (1.21.5)\n",
            "Requirement already satisfied: scipy>=1.1.0 in /usr/local/lib/python3.7/dist-packages (from scikit-learn>=0.23->sklearn-genetic) (1.4.1)\n",
            "Requirement already satisfied: threadpoolctl>=2.0.0 in /usr/local/lib/python3.7/dist-packages (from scikit-learn>=0.23->sklearn-genetic) (3.1.0)\n",
            "Requirement already satisfied: joblib>=0.11 in /usr/local/lib/python3.7/dist-packages (from scikit-learn>=0.23->sklearn-genetic) (1.1.0)\n",
            "Requirement already satisfied: dill>=0.3.4 in /usr/local/lib/python3.7/dist-packages (from multiprocess->sklearn-genetic) (0.3.4)\n"
          ]
        }
      ]
    },
    {
      "cell_type": "code",
      "execution_count": 16,
      "metadata": {
        "id": "7wjXrbKElIr2"
      },
      "outputs": [],
      "source": [
        "from __future__ import print_function\n",
        "import numpy as np\n",
        "from sklearn import datasets, linear_model\n",
        "from sklearn.svm import SVC\n",
        "from genetic_selection import GeneticSelectionCV\n",
        "import urllib.request\n",
        "from sklearn import tree\n",
        "from sklearn import  model_selection\n",
        "from sklearn.metrics import confusion_matrix\n",
        "from sklearn.model_selection import train_test_split\n",
        "from sklearn import svm\n",
        "from sklearn.metrics import classification_report\n"
      ]
    },
    {
      "cell_type": "code",
      "source": [
        "url = \"http://archive.ics.uci.edu/ml/machine-learning-databases/wine/wine.data\"\n",
        "raw_data = urllib.request.urlopen(url)\n",
        "\n",
        "# Carrega arquivo como uma matriz\n",
        "dataset = np.loadtxt(raw_data, delimiter=\",\")\n",
        "\n",
        "# Observe que na base Wine a classe eh primeiro atributo \n",
        "X = dataset[:,1:13]\n",
        "y = dataset[:,0]\n",
        "\n",
        "\n"
      ],
      "metadata": {
        "id": "c8DjKtP1lvXl"
      },
      "execution_count": 4,
      "outputs": []
    },
    {
      "cell_type": "code",
      "source": [
        "X"
      ],
      "metadata": {
        "colab": {
          "base_uri": "https://localhost:8080/"
        },
        "id": "8rBnvexepAG8",
        "outputId": "694c2e47-d844-46df-bd06-8ee4d8368247"
      },
      "execution_count": 5,
      "outputs": [
        {
          "output_type": "execute_result",
          "data": {
            "text/plain": [
              "array([[14.23,  1.71,  2.43, ...,  5.64,  1.04,  3.92],\n",
              "       [13.2 ,  1.78,  2.14, ...,  4.38,  1.05,  3.4 ],\n",
              "       [13.16,  2.36,  2.67, ...,  5.68,  1.03,  3.17],\n",
              "       ...,\n",
              "       [13.27,  4.28,  2.26, ..., 10.2 ,  0.59,  1.56],\n",
              "       [13.17,  2.59,  2.37, ...,  9.3 ,  0.6 ,  1.62],\n",
              "       [14.13,  4.1 ,  2.74, ...,  9.2 ,  0.61,  1.6 ]])"
            ]
          },
          "metadata": {},
          "execution_count": 5
        }
      ]
    },
    {
      "cell_type": "code",
      "source": [
        "y"
      ],
      "metadata": {
        "colab": {
          "base_uri": "https://localhost:8080/"
        },
        "id": "udSeX5gCpOS7",
        "outputId": "c5f41680-983e-4163-b037-66f6a5c86a34"
      },
      "execution_count": 6,
      "outputs": [
        {
          "output_type": "execute_result",
          "data": {
            "text/plain": [
              "array([1., 1., 1., 1., 1., 1., 1., 1., 1., 1., 1., 1., 1., 1., 1., 1., 1.,\n",
              "       1., 1., 1., 1., 1., 1., 1., 1., 1., 1., 1., 1., 1., 1., 1., 1., 1.,\n",
              "       1., 1., 1., 1., 1., 1., 1., 1., 1., 1., 1., 1., 1., 1., 1., 1., 1.,\n",
              "       1., 1., 1., 1., 1., 1., 1., 1., 2., 2., 2., 2., 2., 2., 2., 2., 2.,\n",
              "       2., 2., 2., 2., 2., 2., 2., 2., 2., 2., 2., 2., 2., 2., 2., 2., 2.,\n",
              "       2., 2., 2., 2., 2., 2., 2., 2., 2., 2., 2., 2., 2., 2., 2., 2., 2.,\n",
              "       2., 2., 2., 2., 2., 2., 2., 2., 2., 2., 2., 2., 2., 2., 2., 2., 2.,\n",
              "       2., 2., 2., 2., 2., 2., 2., 2., 2., 2., 2., 3., 3., 3., 3., 3., 3.,\n",
              "       3., 3., 3., 3., 3., 3., 3., 3., 3., 3., 3., 3., 3., 3., 3., 3., 3.,\n",
              "       3., 3., 3., 3., 3., 3., 3., 3., 3., 3., 3., 3., 3., 3., 3., 3., 3.,\n",
              "       3., 3., 3., 3., 3., 3., 3., 3.])"
            ]
          },
          "metadata": {},
          "execution_count": 6
        }
      ]
    },
    {
      "cell_type": "code",
      "source": [
        "np.unique(y)"
      ],
      "metadata": {
        "colab": {
          "base_uri": "https://localhost:8080/"
        },
        "id": "W5-8MAyBpBdn",
        "outputId": "b08f9cfd-462f-4a32-b23c-b55290ce0635"
      },
      "execution_count": 7,
      "outputs": [
        {
          "output_type": "execute_result",
          "data": {
            "text/plain": [
              "array([1., 2., 3.])"
            ]
          },
          "metadata": {},
          "execution_count": 7
        }
      ]
    },
    {
      "cell_type": "code",
      "source": [
        "X_train, X_test, y_train, y_test = train_test_split(X,y,test_size=.2, random_state=42, stratify=y)\n"
      ],
      "metadata": {
        "id": "2MfZ7r50o_zw"
      },
      "execution_count": 8,
      "outputs": []
    },
    {
      "cell_type": "code",
      "source": [
        "\n",
        "\n",
        "estimators = svm.SVC()\n",
        "\n",
        "selectors = GeneticSelectionCV(estimators,\n",
        "                                cv=6,\n",
        "                                verbose=1,\n",
        "                                scoring=\"f1_micro\",\n",
        "                                n_jobs=-1)\n",
        "\n",
        "selectors = selectors.fit(X_train, y_train)\n",
        "\n",
        "print(selectors.support_)"
      ],
      "metadata": {
        "colab": {
          "base_uri": "https://localhost:8080/"
        },
        "id": "YjSJGhT3mQrV",
        "outputId": "e232c509-a62f-4ca9-ee36-cf909c07268b"
      },
      "execution_count": 9,
      "outputs": [
        {
          "output_type": "stream",
          "name": "stdout",
          "text": [
            "Selecting features with genetic algorithm.\n",
            "gen\tnevals\tavg                            \tstd                            \tmin                            \tmax                               \n",
            "0  \t300   \t[ 0.648113  6.74      0.057709]\t[ 0.140981  3.344508  0.01885 ]\t[ 0.513285  1.        0.017334]\t[  0.943841  12.         0.123963]\n",
            "1  \t179   \t[ 0.774731  5.713333  0.062724]\t[ 0.141817  2.772091  0.023547]\t[ 0.528986  1.        0.017334]\t[  0.950785  12.         0.123963]\n",
            "2  \t192   \t[ 0.877769  5.413333  0.06415 ]\t[ 0.076103  1.998955  0.024567]\t[ 0.528986  1.        0.017334]\t[  0.950785  11.         0.123963]\n",
            "3  \t165   \t[ 0.91518  5.92     0.06022]   \t[ 0.055807  1.593821  0.022932]\t[ 0.522041  2.        0.017334]\t[ 0.950785  9.        0.123963]   \n",
            "4  \t194   \t[ 0.927225  6.493333  0.057246]\t[ 0.059754  1.066125  0.014618]\t[ 0.543176  3.        0.021178]\t[ 0.957729  9.        0.123963]   \n",
            "5  \t167   \t[ 0.941938  6.476667  0.05505 ]\t[ 0.03406   0.977815  0.009081]\t[ 0.53593   4.        0.031389]\t[ 0.957729  9.        0.10921 ]   \n",
            "6  \t160   \t[ 0.944255  6.17      0.053251]\t[ 0.035391  0.966661  0.007311]\t[ 0.53593   3.        0.031621]\t[ 0.957729  9.        0.100292]   \n",
            "7  \t187   \t[ 0.939903  5.886667  0.05136 ]\t[ 0.058399  0.840925  0.005877]\t[ 0.53593   4.        0.031354]\t[ 0.957729  9.        0.092644]   \n",
            "8  \t196   \t[ 0.948063  5.696667  0.050769]\t[ 0.017564  0.944099  0.006852]\t[ 0.761171  3.        0.030559]\t[ 0.957729  8.        0.084224]   \n",
            "9  \t178   \t[ 0.943494  6.02      0.048691]\t[ 0.055417  1.128243  0.007792]\t[ 0.53593  3.       0.02994]   \t[ 0.957729  9.        0.106075]   \n",
            "10 \t167   \t[ 0.950711  6.613333  0.045847]\t[ 0.035283  0.92942   0.006947]\t[ 0.543176  4.        0.034862]\t[ 0.957729  9.        0.088518]   \n",
            "11 \t179   \t[ 0.953452  6.96      0.043411]\t[ 0.034562  0.467333  0.004932]\t[ 0.543176  4.        0.037533]\t[ 0.957729  9.        0.085334]   \n",
            "12 \t172   \t[ 0.950165  6.99      0.043173]\t[ 0.048434  0.321299  0.003874]\t[ 0.543176  5.        0.03952 ]\t[ 0.957729  9.        0.072718]   \n",
            "13 \t187   \t[ 0.951467  6.97      0.043696]\t[ 0.042208  0.368465  0.006316]\t[ 0.536232  5.        0.03952 ]\t[ 0.957729  9.        0.085334]   \n",
            "14 \t204   \t[ 0.951443  6.956667  0.043719]\t[ 0.042227  0.328819  0.006308]\t[ 0.543176  5.        0.021178]\t[ 0.957729  8.        0.083552]   \n",
            "15 \t189   \t[ 0.951575  6.983333  0.043601]\t[ 0.042716  0.299537  0.007121]\t[ 0.543176  5.        0.030559]\t[ 0.957729  8.        0.109086]   \n",
            "16 \t183   \t[ 0.954246  6.983333  0.042926]\t[ 0.02588   0.288194  0.003563]\t[ 0.543176  6.        0.039294]\t[ 0.957729  9.        0.073577]   \n",
            "17 \t172   \t[ 0.952319  7.        0.043355]\t[ 0.036334  0.282843  0.005118]\t[ 0.536232  6.        0.03952 ]\t[ 0.957729  9.        0.084367]   \n",
            "18 \t195   \t[ 0.951108  6.953333  0.043659]\t[ 0.042563  0.397268  0.006522]\t[ 0.543176  5.        0.039294]\t[ 0.957729  9.        0.109086]   \n",
            "19 \t192   \t[ 0.952899  7.        0.043712]\t[ 0.027566  0.326599  0.006618]\t[ 0.543176  5.        0.03952 ]\t[ 0.957729  9.        0.088439]   \n",
            "20 \t175   \t[ 0.953764  6.943333  0.044095]\t[ 0.025843  0.326786  0.007234]\t[ 0.543176  5.        0.037533]\t[ 0.957729  8.        0.103807]   \n",
            "21 \t155   \t[ 0.950403  6.986667  0.04315 ]\t[ 0.048436  0.282528  0.003955]\t[ 0.536232  5.        0.03952 ]\t[ 0.957729  8.        0.078686]   \n",
            "22 \t185   \t[ 0.949511  6.993333  0.043187]\t[ 0.049748  0.270719  0.004297]\t[ 0.543176  6.        0.02994 ]\t[ 0.957729  8.        0.073577]   \n",
            "23 \t194   \t[ 0.952063  7.003333  0.043322]\t[ 0.042017  0.299981  0.004826]\t[ 0.543176  4.        0.042288]\t[ 0.957729  8.        0.081156]   \n",
            "24 \t163   \t[ 0.952329  7.        0.043541]\t[ 0.03557   0.270801  0.006032]\t[ 0.543176  5.        0.03952 ]\t[ 0.957729  8.        0.084367]   \n",
            "25 \t185   \t[ 0.951574  6.996667  0.043135]\t[ 0.042405  0.341549  0.003981]\t[ 0.543176  5.        0.042288]\t[ 0.957729  9.        0.081156]   \n",
            "26 \t188   \t[ 0.94968   7.02      0.043754]\t[ 0.045401  0.391067  0.006863]\t[ 0.543176  5.        0.02994 ]\t[  0.957729  10.         0.109086]\n",
            "27 \t161   \t[ 0.95036   6.986667  0.043491]\t[ 0.048506  0.282528  0.006568]\t[ 0.543176  5.        0.042288]\t[ 0.957729  9.        0.109086]   \n",
            "28 \t183   \t[ 0.952355  6.973333  0.043656]\t[ 0.03549   0.304339  0.005895]\t[ 0.536232  5.        0.03952 ]\t[ 0.957729  8.        0.081156]   \n",
            "29 \t185   \t[ 0.951081  6.983333  0.043431]\t[ 0.042779  0.321023  0.004918]\t[ 0.536232  5.        0.034862]\t[ 0.957729  8.        0.081156]   \n",
            "30 \t180   \t[ 0.954763  6.976667  0.043174]\t[ 0.025275  0.263544  0.005536]\t[ 0.543176  5.        0.021178]\t[ 0.957729  8.        0.096097]   \n",
            "31 \t196   \t[ 0.949926  6.943333  0.044109]\t[ 0.044243  0.400153  0.007144]\t[ 0.543176  5.        0.02994 ]\t[ 0.957729  9.        0.083552]   \n",
            "32 \t178   \t[ 0.944955  6.963333  0.043825]\t[ 0.066803  0.367862  0.006243]\t[ 0.543176  5.        0.03952 ]\t[ 0.957729  8.        0.081156]   \n",
            "33 \t163   \t[ 0.952414  6.976667  0.043704]\t[ 0.035935  0.330841  0.006036]\t[ 0.543176  5.        0.034862]\t[ 0.957729  8.        0.085334]   \n",
            "34 \t185   \t[ 0.951107  6.983333  0.043319]\t[ 0.043055  0.26405   0.005046]\t[ 0.536232  5.        0.03952 ]\t[ 0.957729  8.        0.085334]   \n",
            "35 \t172   \t[ 0.950987  6.986667  0.043424]\t[ 0.044022  0.336386  0.005631]\t[ 0.543176  5.        0.02994 ]\t[ 0.957729  9.        0.088439]   \n",
            "36 \t180   \t[ 0.955067  6.963333  0.043842]\t[ 0.010604  0.308743  0.006003]\t[ 0.880435  6.        0.03952 ]\t[ 0.957729  8.        0.081156]   \n",
            "37 \t190   \t[ 0.953356  6.99      0.043858]\t[ 0.027153  0.310752  0.006188]\t[ 0.536232  5.        0.03952 ]\t[ 0.957729  9.        0.084367]   \n",
            "38 \t170   \t[ 0.95338   6.996667  0.043125]\t[ 0.034753  0.264554  0.003952]\t[ 0.543176  6.        0.039294]\t[ 0.957729  9.        0.081156]   \n",
            "39 \t180   \t[ 0.951679  6.976667  0.043539]\t[ 0.042122  0.320607  0.005767]\t[ 0.543176  5.        0.037533]\t[ 0.957729  8.        0.081156]   \n",
            "40 \t167   \t[ 0.949017  7.        0.043143]\t[ 0.054473  0.305505  0.004352]\t[ 0.543176  6.        0.02994 ]\t[ 0.957729  9.        0.07964 ]   \n",
            "[ True  True  True False False False  True  True False  True False  True]\n"
          ]
        }
      ]
    },
    {
      "cell_type": "code",
      "source": [
        "print(selectors.support_)"
      ],
      "metadata": {
        "colab": {
          "base_uri": "https://localhost:8080/"
        },
        "id": "1YIBqapCmP60",
        "outputId": "6fbfbe15-8a66-45e2-e691-fdcf75c5da09"
      },
      "execution_count": 10,
      "outputs": [
        {
          "output_type": "stream",
          "name": "stdout",
          "text": [
            "[ True  True  True False False False  True  True False  True False  True]\n"
          ]
        }
      ]
    },
    {
      "cell_type": "code",
      "source": [
        "y_pred = selectors.predict(X_test)"
      ],
      "metadata": {
        "id": "0ZKGNx7NmS_B"
      },
      "execution_count": 13,
      "outputs": []
    },
    {
      "cell_type": "code",
      "source": [
        "confusion_matrix(y_test,y_pred)"
      ],
      "metadata": {
        "colab": {
          "base_uri": "https://localhost:8080/"
        },
        "id": "A-a_kuJjsgJg",
        "outputId": "8e244a23-5a77-4910-8b93-7742b43b1ef9"
      },
      "execution_count": 14,
      "outputs": [
        {
          "output_type": "execute_result",
          "data": {
            "text/plain": [
              "array([[11,  1,  0],\n",
              "       [ 2, 12,  0],\n",
              "       [ 0,  1,  9]])"
            ]
          },
          "metadata": {},
          "execution_count": 14
        }
      ]
    },
    {
      "cell_type": "code",
      "source": [
        "print(classification_report(y_test,y_pred))"
      ],
      "metadata": {
        "colab": {
          "base_uri": "https://localhost:8080/"
        },
        "id": "8fQn2KDSsp4U",
        "outputId": "858fbb31-cbda-47d6-b499-c164e0add237"
      },
      "execution_count": 18,
      "outputs": [
        {
          "output_type": "stream",
          "name": "stdout",
          "text": [
            "              precision    recall  f1-score   support\n",
            "\n",
            "         1.0       0.85      0.92      0.88        12\n",
            "         2.0       0.86      0.86      0.86        14\n",
            "         3.0       1.00      0.90      0.95        10\n",
            "\n",
            "    accuracy                           0.89        36\n",
            "   macro avg       0.90      0.89      0.89        36\n",
            "weighted avg       0.89      0.89      0.89        36\n",
            "\n"
          ]
        }
      ]
    },
    {
      "cell_type": "markdown",
      "source": [
        "## SEM FEATURE SELECTION"
      ],
      "metadata": {
        "id": "yZ4bbI0ntQOa"
      }
    },
    {
      "cell_type": "code",
      "source": [
        "estimators1 = svm.SVC()\n",
        "estimators1.fit(X_train,y_train)\n",
        "y_pred1 = estimators1.predict(X_test)"
      ],
      "metadata": {
        "id": "iT7aoZKTtLVk"
      },
      "execution_count": 20,
      "outputs": []
    },
    {
      "cell_type": "code",
      "source": [
        "confusion_matrix(y_test,y_pred1)"
      ],
      "metadata": {
        "colab": {
          "base_uri": "https://localhost:8080/"
        },
        "id": "YkxzLqYmtecq",
        "outputId": "607c36e7-8390-4de1-d667-5e9463c9e7ce"
      },
      "execution_count": 21,
      "outputs": [
        {
          "output_type": "execute_result",
          "data": {
            "text/plain": [
              "array([[10,  2,  0],\n",
              "       [ 4, 10,  0],\n",
              "       [ 3,  7,  0]])"
            ]
          },
          "metadata": {},
          "execution_count": 21
        }
      ]
    },
    {
      "cell_type": "code",
      "source": [
        "print(classification_report(y_test,y_pred1))"
      ],
      "metadata": {
        "colab": {
          "base_uri": "https://localhost:8080/"
        },
        "id": "uUcnITvftjaL",
        "outputId": "cf54ce4d-1acd-4e01-bb37-53daa74a4f5e"
      },
      "execution_count": 22,
      "outputs": [
        {
          "output_type": "stream",
          "name": "stdout",
          "text": [
            "              precision    recall  f1-score   support\n",
            "\n",
            "         1.0       0.59      0.83      0.69        12\n",
            "         2.0       0.53      0.71      0.61        14\n",
            "         3.0       0.00      0.00      0.00        10\n",
            "\n",
            "    accuracy                           0.56        36\n",
            "   macro avg       0.37      0.52      0.43        36\n",
            "weighted avg       0.40      0.56      0.47        36\n",
            "\n"
          ]
        },
        {
          "output_type": "stream",
          "name": "stderr",
          "text": [
            "/usr/local/lib/python3.7/dist-packages/sklearn/metrics/_classification.py:1318: UndefinedMetricWarning: Precision and F-score are ill-defined and being set to 0.0 in labels with no predicted samples. Use `zero_division` parameter to control this behavior.\n",
            "  _warn_prf(average, modifier, msg_start, len(result))\n",
            "/usr/local/lib/python3.7/dist-packages/sklearn/metrics/_classification.py:1318: UndefinedMetricWarning: Precision and F-score are ill-defined and being set to 0.0 in labels with no predicted samples. Use `zero_division` parameter to control this behavior.\n",
            "  _warn_prf(average, modifier, msg_start, len(result))\n",
            "/usr/local/lib/python3.7/dist-packages/sklearn/metrics/_classification.py:1318: UndefinedMetricWarning: Precision and F-score are ill-defined and being set to 0.0 in labels with no predicted samples. Use `zero_division` parameter to control this behavior.\n",
            "  _warn_prf(average, modifier, msg_start, len(result))\n"
          ]
        }
      ]
    },
    {
      "cell_type": "code",
      "source": [
        ""
      ],
      "metadata": {
        "id": "dB6etFhNtk4M"
      },
      "execution_count": null,
      "outputs": []
    }
  ]
}