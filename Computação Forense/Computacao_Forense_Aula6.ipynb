{
  "cells": [
    {
      "cell_type": "markdown",
      "metadata": {
        "id": "view-in-github",
        "colab_type": "text"
      },
      "source": [
        "<a href=\"https://colab.research.google.com/github/yohangumiel/Aulas-PUC-PR/blob/main/Computa%C3%A7%C3%A3o%20Forense/Computacao_Forense_Aula6.ipynb\" target=\"_parent\"><img src=\"https://colab.research.google.com/assets/colab-badge.svg\" alt=\"Open In Colab\"/></a>"
      ]
    },
    {
      "cell_type": "markdown",
      "metadata": {
        "id": "H9j6P6sFSADA"
      },
      "source": [
        "# Hashing\n",
        "\n",
        "- Summarize file content while maintaining a signature. The signature represent that file and is repeatable, meaning that a file with the same data will have the same signature.\n",
        "\n",
        "- Some applications of hashing: information-security applications (message authentication), bitcoin mining process and bitcoin keys and addresses generation.\n",
        "\n",
        "- Algorithms: MD5, SHA1, SHA256, NTLM, and LANMAN\n",
        "\n",
        "- Advantange: hash algorithms are valuable since a small modification to the file content will produce a total different hash\n",
        "\n",
        "- \n",
        "\n",
        "## Credits:\n",
        "- MILLER, Preston; BRYCE, Chapin. Learning Python for Forensics: Leverage the power of Python in forensic investigations. Packt Publishing Ltd, 2019.\n",
        "- https://academy.binance.com/en/articles/what-is-hashing\n",
        "\n"
      ]
    },
    {
      "cell_type": "code",
      "execution_count": 4,
      "metadata": {
        "id": "7uUWj52xSEDw"
      },
      "outputs": [],
      "source": [
        "import cv2\n",
        "import dlib\n",
        "from time import time\n",
        "import matplotlib.pyplot as plt\n",
        "from google.colab.patches import cv2_imshow\n",
        "import cv2\n",
        "import imutils\n",
        "import numpy as np\n",
        "from imutils.object_detection import non_max_suppression\n",
        "import os"
      ]
    },
    {
      "cell_type": "markdown",
      "metadata": {
        "id": "NgkFnptoY-wN"
      },
      "source": [
        "# MD5\n",
        "\n",
        "- Produces a 128-bit hash (short hash - popular)\n",
        "\n",
        "- Issue: hash collisions (two different inputs result in the same hash)\n",
        "\n",
        "\n",
        "### Credits:\n",
        "- MILLER, Preston; BRYCE, Chapin. Learning Python for Forensics: Leverage the power of Python in forensic investigations. Packt Publishing Ltd, 2019."
      ]
    },
    {
      "cell_type": "markdown",
      "source": [
        "### LOAD THE MD5 LIBRARY AND HASH A SENTENCE (ENCODE TO AVOID ENCODING ERRORS)"
      ],
      "metadata": {
        "id": "56pgsg4BdzLH"
      }
    },
    {
      "cell_type": "code",
      "execution_count": 5,
      "metadata": {
        "id": "F2ZC5IEZXjyt",
        "colab": {
          "base_uri": "https://localhost:8080/",
          "height": 35
        },
        "outputId": "1545a4d3-34a2-474e-9e2d-aae78a06c4cc"
      },
      "outputs": [
        {
          "output_type": "execute_result",
          "data": {
            "text/plain": [
              "'3409f19501489782547a7b5260ca3066'"
            ],
            "application/vnd.google.colaboratory.intrinsic+json": {
              "type": "string"
            }
          },
          "metadata": {},
          "execution_count": 5
        }
      ],
      "source": [
        "import hashlib\n",
        "\n",
        "\n",
        "hashlib.md5('quero fazer um hash'.encode('utf-8')).hexdigest()\n"
      ]
    },
    {
      "cell_type": "code",
      "source": [
        "hashlib.algorithms_available\n"
      ],
      "metadata": {
        "colab": {
          "base_uri": "https://localhost:8080/"
        },
        "id": "3ZYLmi8afyUL",
        "outputId": "d9747819-b888-4d24-f1d8-dbff25441342"
      },
      "execution_count": 6,
      "outputs": [
        {
          "output_type": "execute_result",
          "data": {
            "text/plain": [
              "{'blake2b',\n",
              " 'blake2s',\n",
              " 'md5',\n",
              " 'sha1',\n",
              " 'sha224',\n",
              " 'sha256',\n",
              " 'sha384',\n",
              " 'sha3_224',\n",
              " 'sha3_256',\n",
              " 'sha3_384',\n",
              " 'sha3_512',\n",
              " 'sha512',\n",
              " 'shake_128',\n",
              " 'shake_256'}"
            ]
          },
          "metadata": {},
          "execution_count": 6
        }
      ]
    },
    {
      "cell_type": "code",
      "source": [
        "hashlib.md5('quero fazer um hash'.encode('utf-8')).hexdigest()\n"
      ],
      "metadata": {
        "colab": {
          "base_uri": "https://localhost:8080/",
          "height": 35
        },
        "id": "hdINsPu3d_Gy",
        "outputId": "8c85b42d-8b77-48eb-bfd6-96c8ebc68b67"
      },
      "execution_count": 7,
      "outputs": [
        {
          "output_type": "execute_result",
          "data": {
            "text/plain": [
              "'3409f19501489782547a7b5260ca3066'"
            ],
            "application/vnd.google.colaboratory.intrinsic+json": {
              "type": "string"
            }
          },
          "metadata": {},
          "execution_count": 7
        }
      ]
    },
    {
      "cell_type": "code",
      "source": [
        "hashlib.md5('quero fazer um hash!'.encode('utf-8')).hexdigest()\n"
      ],
      "metadata": {
        "colab": {
          "base_uri": "https://localhost:8080/",
          "height": 35
        },
        "id": "npx92JVGeD4W",
        "outputId": "e23040e6-b54c-4784-a539-2a38e71720cc"
      },
      "execution_count": 8,
      "outputs": [
        {
          "output_type": "execute_result",
          "data": {
            "text/plain": [
              "'d51f92ac232ea0ed3c180d90c5d00943'"
            ],
            "application/vnd.google.colaboratory.intrinsic+json": {
              "type": "string"
            }
          },
          "metadata": {},
          "execution_count": 8
        }
      ]
    },
    {
      "cell_type": "markdown",
      "source": [
        "As expected, keeping the same string keeps the same hash\n",
        "\n",
        "A small change, adding \"!\", modified the whole hash "
      ],
      "metadata": {
        "id": "xVPRHhkWeGiz"
      }
    },
    {
      "cell_type": "markdown",
      "source": [
        "### USING THE SHA1 AND SHAD256 TO HASH A SENTENCE (ENCODE TO AVOID ENCODING ERRORS)\n",
        "\n",
        "- SHA1 is a 160-bit hash\n",
        "\n",
        "- SHA256 is a 256-bit hash"
      ],
      "metadata": {
        "id": "hgergVrieWpz"
      }
    },
    {
      "cell_type": "code",
      "source": [
        "hashlib.md5('quero fazer um hash'.encode('utf-8')).hexdigest()"
      ],
      "metadata": {
        "colab": {
          "base_uri": "https://localhost:8080/",
          "height": 35
        },
        "id": "JEp-IIVlfAVf",
        "outputId": "f791208e-d2c7-40e9-88ad-78e5fc9fba4f"
      },
      "execution_count": 11,
      "outputs": [
        {
          "output_type": "execute_result",
          "data": {
            "text/plain": [
              "'3409f19501489782547a7b5260ca3066'"
            ],
            "application/vnd.google.colaboratory.intrinsic+json": {
              "type": "string"
            }
          },
          "metadata": {},
          "execution_count": 11
        }
      ]
    },
    {
      "cell_type": "code",
      "source": [
        "hashlib.sha1('quero fazer um hash'.encode('utf-8')).hexdigest()\n"
      ],
      "metadata": {
        "colab": {
          "base_uri": "https://localhost:8080/",
          "height": 35
        },
        "id": "wlbQFt3adaB7",
        "outputId": "68447253-75f7-4b92-b799-1f4152a628e9"
      },
      "execution_count": 12,
      "outputs": [
        {
          "output_type": "execute_result",
          "data": {
            "text/plain": [
              "'bea024541f9a09274d19eb38f839aae257bf2e86'"
            ],
            "application/vnd.google.colaboratory.intrinsic+json": {
              "type": "string"
            }
          },
          "metadata": {},
          "execution_count": 12
        }
      ]
    },
    {
      "cell_type": "code",
      "source": [
        "hashlib.sha256('quero fazer um hash'.encode('utf-8')).hexdigest()"
      ],
      "metadata": {
        "colab": {
          "base_uri": "https://localhost:8080/",
          "height": 35
        },
        "id": "Dfd9RvIvezKp",
        "outputId": "58d07f9d-f534-41d8-8dfd-d8e361aefeef"
      },
      "execution_count": 13,
      "outputs": [
        {
          "output_type": "execute_result",
          "data": {
            "text/plain": [
              "'154a902e1db3876ae32bdd9c34bc81f663772de54eaf229bffa1da3f3e9c47c5'"
            ],
            "application/vnd.google.colaboratory.intrinsic+json": {
              "type": "string"
            }
          },
          "metadata": {},
          "execution_count": 13
        }
      ]
    },
    {
      "cell_type": "markdown",
      "source": [
        "We verify the difference in hash lenght, with: sha256 (256) > sha1 (160) > md5 (128)"
      ],
      "metadata": {
        "id": "5qhZ4K2Ue8RR"
      }
    },
    {
      "cell_type": "markdown",
      "source": [
        "## DOWNLOAD THE HARRY POTTER AND THE CHAMBER OF SECRETS (BOOK)"
      ],
      "metadata": {
        "id": "f7fIrz_7iTTt"
      }
    },
    {
      "cell_type": "code",
      "source": [
        "!wget https://raw.githubusercontent.com/yohangumiel/Data-analysis/main/HarryPotter/Harry%20Potter%20and%20the%20chamber%20of%20secrets.txt\n",
        "\n"
      ],
      "metadata": {
        "colab": {
          "base_uri": "https://localhost:8080/"
        },
        "id": "-O7NOMoHhZv9",
        "outputId": "9609f3f1-5c2c-4e1f-ca96-81ab9a958407"
      },
      "execution_count": 14,
      "outputs": [
        {
          "output_type": "stream",
          "name": "stdout",
          "text": [
            "--2022-06-09 16:57:17--  https://raw.githubusercontent.com/yohangumiel/Data-analysis/main/HarryPotter/Harry%20Potter%20and%20the%20chamber%20of%20secrets.txt\n",
            "Resolving raw.githubusercontent.com (raw.githubusercontent.com)... 185.199.108.133, 185.199.109.133, 185.199.110.133, ...\n",
            "Connecting to raw.githubusercontent.com (raw.githubusercontent.com)|185.199.108.133|:443... connected.\n",
            "HTTP request sent, awaiting response... 200 OK\n",
            "Length: 495564 (484K) [text/plain]\n",
            "Saving to: ‘Harry Potter and the chamber of secrets.txt’\n",
            "\n",
            "\r          Harry Pot   0%[                    ]       0  --.-KB/s               \rHarry Potter and th 100%[===================>] 483.95K  --.-KB/s    in 0.01s   \n",
            "\n",
            "2022-06-09 16:57:17 (35.8 MB/s) - ‘Harry Potter and the chamber of secrets.txt’ saved [495564/495564]\n",
            "\n"
          ]
        }
      ]
    },
    {
      "cell_type": "code",
      "source": [
        "with open('/content/Harry Potter and the chamber of secrets.txt', encoding='utf8', mode = \"r\") as f:\n",
        "    text_file = f.read()\n"
      ],
      "metadata": {
        "id": "SUwhtcBFhZty"
      },
      "execution_count": 15,
      "outputs": []
    },
    {
      "cell_type": "code",
      "source": [
        "segment = text_file[0:1000]\n",
        "print(segment)"
      ],
      "metadata": {
        "colab": {
          "base_uri": "https://localhost:8080/"
        },
        "id": "OOVefgEOhZrZ",
        "outputId": "199be75a-bf7a-432a-d786-d7fc93e75738"
      },
      "execution_count": 16,
      "outputs": [
        {
          "output_type": "stream",
          "name": "stdout",
          "text": [
            "﻿<título> THE WORST BIRTHDAY. \n",
            "\n",
            "Not for the first time, an argument had broken out over breakfast at number four, Privet Drive. Mr Vernon Dursley had been woken in the early hours of the morning by a loud, hooting noise from his nephew Harry's room. \n",
            "\n",
            "\"Third time this week?\" he roared across the table. If you can't control that owl, it'll have to go!\" \n",
            "\n",
            "Harry tried, yet again, to explain. \n",
            "\n",
            "\"She's bored,\" he said. \"She´s used to flying around outside. If I could just let her out at night -\" \n",
            "\n",
            "\"Do I look stupid?\" snarled Uncle Vernon, a bit of fried egg dangling from his bushy mustache. \"I know what'll happen if that owl's let out.\"  \n",
            "\n",
            "He exchanged dark looks with his wife, Petunia. \n",
            "\n",
            "Harry tried to argue back but his words were drowned by a long, loud belch from the Dursleys' son, Dudley. \n",
            "\n",
            "\"I want more bacon.\" \n",
            "\n",
            "\"There's more in the frying pan, sweetums, said Aunt Petunia, turning misty eyes on her massive son. \"We must build you up while we've got the chance... I don't like the sound\n"
          ]
        }
      ]
    },
    {
      "cell_type": "markdown",
      "source": [
        "## HASH KEEPING THE ELAPSED TIME"
      ],
      "metadata": {
        "id": "CsiyfCpwllPa"
      }
    },
    {
      "cell_type": "code",
      "source": [
        "import time\n",
        "from datetime import timedelta"
      ],
      "metadata": {
        "id": "v2iRrffVkxmH"
      },
      "execution_count": 17,
      "outputs": []
    },
    {
      "cell_type": "code",
      "source": [
        "start = time.monotonic()\n",
        "hash = hashlib.md5(segment.encode('utf-8')).hexdigest()\n",
        "end = time.monotonic()\n",
        "print(hash)\n",
        "print('Elapsed time: {} seconds'.format(timedelta(seconds= end - start)))"
      ],
      "metadata": {
        "colab": {
          "base_uri": "https://localhost:8080/"
        },
        "id": "PtVT2qh6hZmN",
        "outputId": "4f45ffcd-1c1b-4426-8893-e4a6096efddb"
      },
      "execution_count": 18,
      "outputs": [
        {
          "output_type": "stream",
          "name": "stdout",
          "text": [
            "d3cdc61454ebc5f3adb2f738a7d4109c\n",
            "Elapsed time: 0:00:00.000065 seconds\n"
          ]
        }
      ]
    },
    {
      "cell_type": "code",
      "source": [
        "start = time.monotonic()\n",
        "hash = hashlib.sha256(segment.encode('utf-8')).hexdigest()\n",
        "end = time.monotonic()\n",
        "print(hash)\n",
        "print('Elapsed time: {} seconds'.format(timedelta(seconds= end - start)))"
      ],
      "metadata": {
        "colab": {
          "base_uri": "https://localhost:8080/"
        },
        "id": "t_lCVlM6ndo_",
        "outputId": "17e9f410-1d8f-4bf2-84c4-b3c8012db59a"
      },
      "execution_count": 19,
      "outputs": [
        {
          "output_type": "stream",
          "name": "stdout",
          "text": [
            "634ca07afe750a27f7cca08b81dcc61caf03e195821872af28da5228379c0f3b\n",
            "Elapsed time: 0:00:00.000041 seconds\n"
          ]
        }
      ]
    },
    {
      "cell_type": "code",
      "source": [
        "start = time.monotonic()\n",
        "hash = hashlib.md5(text_file.encode('utf-8')).hexdigest()\n",
        "end = time.monotonic()\n",
        "print(hash)\n",
        "print('Elapsed time: {} seconds'.format(timedelta(seconds= end - start)))"
      ],
      "metadata": {
        "colab": {
          "base_uri": "https://localhost:8080/"
        },
        "id": "yD5_YSgIhZi2",
        "outputId": "4bb2cef5-0719-402f-dea9-5cff00360e42"
      },
      "execution_count": 20,
      "outputs": [
        {
          "output_type": "stream",
          "name": "stdout",
          "text": [
            "327dbdad4d8ff1a5e76f06df399f2cc3\n",
            "Elapsed time: 0:00:00.001779 seconds\n"
          ]
        }
      ]
    },
    {
      "cell_type": "code",
      "source": [
        "start = time.monotonic()\n",
        "hash = hashlib.sha256(text_file.encode('utf-8')).hexdigest()\n",
        "end = time.monotonic()\n",
        "print(hash)\n",
        "print('Elapsed time: {} seconds'.format(timedelta(seconds= end - start)))"
      ],
      "metadata": {
        "colab": {
          "base_uri": "https://localhost:8080/"
        },
        "id": "p7lm8VeInh9q",
        "outputId": "a57faa93-4253-4c5e-f9c7-0f32cd327206"
      },
      "execution_count": 21,
      "outputs": [
        {
          "output_type": "stream",
          "name": "stdout",
          "text": [
            "6c167e1250e1c6fcacad5158fb86742389abdde4a40d298d543fe8b85ff6847b\n",
            "Elapsed time: 0:00:00.001573 seconds\n"
          ]
        }
      ]
    },
    {
      "cell_type": "markdown",
      "source": [
        "MD5 computational time was low for both segment and whole text. However, for longer files computational time and memory can be an issue\n",
        "\n"
      ],
      "metadata": {
        "id": "BNOIDb_3nmrZ"
      }
    },
    {
      "cell_type": "markdown",
      "source": [
        "## CONTEXT TRIGGED PIECEWISE HASHING (CTPH)\n",
        "\n",
        "- Comparing hashs with produced with a SHA1 algorithm allow us to find EQUAL files, that are exactly the same. However, files that are \"almost\" the same are treated as different.\n",
        "\n",
        "- Another alternative is working with fixed-sized segments, each segment has its own hash. However, if bytes are insertred or deleted, we can make no further comparison.\n",
        "\n",
        "- Hence, there is CTPH, which is robust to recognize similarity between hashs even if they are slightly different. It can handle deletes and inserts over the file. \n",
        "\n",
        "Credits: \n",
        "- https://stackoverflow.com/questions/13325758/what-is-benefit-to-use-context-trigger-piecewise-hashing-over-traditional-piecew"
      ],
      "metadata": {
        "id": "09qh86i3Tzjg"
      }
    },
    {
      "cell_type": "markdown",
      "source": [
        "# CTPH DESCRIPTION\n",
        "\n",
        "- Uses rolling hash\n",
        "\n",
        "- Rolling cash: while processing the data, both traditional hash and rolling hash are computed. When the rolling hash produces a triiger value (certain value), we stop the traditional hash and keep its value as the CTPH signature. The traditional hash is reset.\n",
        "\n",
        "- Advantange: if we modify a certain part of the file, most of the CTPH signatures remain the same.\n",
        "\n",
        "- Advantange: Files with modifications can still be correlaed with the CTPH isgnatures of known files.\n",
        "\n",
        "Description based on the original paper: \n",
        "- https://reader.elsevier.com/reader/sd/pii/S1742287606000764?token=4CAED5CC49882E209683FC16AC92D3F28D4058963CF7EB4064D26D2BFEE7702D920155F44736576ECF638F935E74DF35&originRegion=us-east-1&originCreation=20220608172934\n"
      ],
      "metadata": {
        "id": "RNxvMf0LZZrz"
      }
    },
    {
      "cell_type": "markdown",
      "source": [
        "## PPDEEP LIBRARY\n",
        "\n",
        "- Computes CTPH, identifying similarities between sequences of identical bytes in the same order.\n",
        "\n",
        "- We define the signature with xxxx and compare with the \"compare\" method. The \"compare\" method returns an integer (values between 0 and 100), with the confidence of botf files having similar content.\n",
        "\n",
        "- Library link: https://github.com/elceef/ppdeep#:~:text=This%20is%20a%20pure%2DPython,are%20similar%2C%20rather%20than%20identical\n",
        "\n",
        "Credits: \n",
        "- https://ssdeep-project.github.io/ssdeep/\n",
        "- https://github.com/elceef/ppdeep#:~:text=This%20is%20a%20pure%2DPython,are%20similar%2C%20rather%20than%20identical\n",
        "- MILLER, Preston; BRYCE, Chapin. Learning Python for Forensics: Leverage the power of Python in forensic investigations. Packt Publishing Ltd, 2019.\n"
      ],
      "metadata": {
        "id": "SYONRzDxboM1"
      }
    },
    {
      "cell_type": "markdown",
      "source": [
        "## USE THE HARRY POTTER SEGMENT"
      ],
      "metadata": {
        "id": "CtfvqPnOL0rb"
      }
    },
    {
      "cell_type": "code",
      "source": [
        "!pip install ppdeep"
      ],
      "metadata": {
        "colab": {
          "base_uri": "https://localhost:8080/"
        },
        "id": "t_E3GaRBMC3T",
        "outputId": "b3b2566e-dd1a-4cbb-9ae3-227c2e9f5913"
      },
      "execution_count": 23,
      "outputs": [
        {
          "output_type": "stream",
          "name": "stdout",
          "text": [
            "Looking in indexes: https://pypi.org/simple, https://us-python.pkg.dev/colab-wheels/public/simple/\n",
            "Requirement already satisfied: ppdeep in /usr/local/lib/python3.7/dist-packages (20200505)\n"
          ]
        }
      ]
    },
    {
      "cell_type": "code",
      "source": [
        "import ppdeep"
      ],
      "metadata": {
        "id": "92dNBrA3ga4c"
      },
      "execution_count": 24,
      "outputs": []
    },
    {
      "cell_type": "code",
      "source": [
        "print(segment)"
      ],
      "metadata": {
        "colab": {
          "base_uri": "https://localhost:8080/"
        },
        "id": "hnjYcw7XLLyb",
        "outputId": "dc909707-ec22-426a-c36a-1f45ebb802f6"
      },
      "execution_count": 25,
      "outputs": [
        {
          "output_type": "stream",
          "name": "stdout",
          "text": [
            "﻿<título> THE WORST BIRTHDAY. \n",
            "\n",
            "Not for the first time, an argument had broken out over breakfast at number four, Privet Drive. Mr Vernon Dursley had been woken in the early hours of the morning by a loud, hooting noise from his nephew Harry's room. \n",
            "\n",
            "\"Third time this week?\" he roared across the table. If you can't control that owl, it'll have to go!\" \n",
            "\n",
            "Harry tried, yet again, to explain. \n",
            "\n",
            "\"She's bored,\" he said. \"She´s used to flying around outside. If I could just let her out at night -\" \n",
            "\n",
            "\"Do I look stupid?\" snarled Uncle Vernon, a bit of fried egg dangling from his bushy mustache. \"I know what'll happen if that owl's let out.\"  \n",
            "\n",
            "He exchanged dark looks with his wife, Petunia. \n",
            "\n",
            "Harry tried to argue back but his words were drowned by a long, loud belch from the Dursleys' son, Dudley. \n",
            "\n",
            "\"I want more bacon.\" \n",
            "\n",
            "\"There's more in the frying pan, sweetums, said Aunt Petunia, turning misty eyes on her massive son. \"We must build you up while we've got the chance... I don't like the sound\n"
          ]
        }
      ]
    },
    {
      "cell_type": "markdown",
      "source": [
        "## CREATE A SMALL MODIFICATION TO THE FILE"
      ],
      "metadata": {
        "id": "_fPqCP6gL5xh"
      }
    },
    {
      "cell_type": "code",
      "source": [
        "modified_segment = segment.replace(\"outside\", \"inside\").replace(\"Dudley\", \"Dud\")"
      ],
      "metadata": {
        "id": "MGdRDNvXLQXs"
      },
      "execution_count": 26,
      "outputs": []
    },
    {
      "cell_type": "code",
      "source": [
        "print(modified_segment)"
      ],
      "metadata": {
        "colab": {
          "base_uri": "https://localhost:8080/"
        },
        "id": "HQ866_4HLfII",
        "outputId": "e5277b2c-99e4-46ea-ea90-0ce615f07107"
      },
      "execution_count": 27,
      "outputs": [
        {
          "output_type": "stream",
          "name": "stdout",
          "text": [
            "﻿<título> THE WORST BIRTHDAY. \n",
            "\n",
            "Not for the first time, an argument had broken out over breakfast at number four, Privet Drive. Mr Vernon Dursley had been woken in the early hours of the morning by a loud, hooting noise from his nephew Harry's room. \n",
            "\n",
            "\"Third time this week?\" he roared across the table. If you can't control that owl, it'll have to go!\" \n",
            "\n",
            "Harry tried, yet again, to explain. \n",
            "\n",
            "\"She's bored,\" he said. \"She´s used to flying around inside. If I could just let her out at night -\" \n",
            "\n",
            "\"Do I look stupid?\" snarled Uncle Vernon, a bit of fried egg dangling from his bushy mustache. \"I know what'll happen if that owl's let out.\"  \n",
            "\n",
            "He exchanged dark looks with his wife, Petunia. \n",
            "\n",
            "Harry tried to argue back but his words were drowned by a long, loud belch from the Dursleys' son, Dud. \n",
            "\n",
            "\"I want more bacon.\" \n",
            "\n",
            "\"There's more in the frying pan, sweetums, said Aunt Petunia, turning misty eyes on her massive son. \"We must build you up while we've got the chance... I don't like the sound\n"
          ]
        }
      ]
    },
    {
      "cell_type": "markdown",
      "source": [
        "## GENERATE HASHS AND COMPARE"
      ],
      "metadata": {
        "id": "AbRU5w8WL91E"
      }
    },
    {
      "cell_type": "code",
      "source": [
        "hash1 = ppdeep.hash(segment)\n",
        "hash1\n"
      ],
      "metadata": {
        "id": "CLSB1J-6bmbp",
        "colab": {
          "base_uri": "https://localhost:8080/",
          "height": 35
        },
        "outputId": "0fb4b6c0-7d95-4544-bcfa-0091da0cfe02"
      },
      "execution_count": 29,
      "outputs": [
        {
          "output_type": "execute_result",
          "data": {
            "text/plain": [
              "'24:HUsDtjbIfKFcyLbA9STFhRvZxPZdU0FCOwYP8h/Eknz+qVb:HtDtHGKFVVDRvZhZdU8xfPA8kzBb'"
            ],
            "application/vnd.google.colaboratory.intrinsic+json": {
              "type": "string"
            }
          },
          "metadata": {},
          "execution_count": 29
        }
      ]
    },
    {
      "cell_type": "code",
      "source": [
        "hash2 = ppdeep.hash(modified_segment)\n",
        "hash2"
      ],
      "metadata": {
        "colab": {
          "base_uri": "https://localhost:8080/",
          "height": 35
        },
        "id": "09qxuDZpLJUE",
        "outputId": "a5cfcfe6-3a0f-4160-ee90-fda373e2b2df"
      },
      "execution_count": 30,
      "outputs": [
        {
          "output_type": "execute_result",
          "data": {
            "text/plain": [
              "'24:HUsDtjbIfKFcyLbA9STFhQlZxPZdU0FCOwYP8h/qVknz+qVb:HtDtHGKFVVDQlZhZdU8xfPAiVkzBb'"
            ],
            "application/vnd.google.colaboratory.intrinsic+json": {
              "type": "string"
            }
          },
          "metadata": {},
          "execution_count": 30
        }
      ]
    },
    {
      "cell_type": "markdown",
      "source": [
        "## DIFFERENT CHARACTERS IN STRING"
      ],
      "metadata": {
        "id": "d7m1qnZzgqxd"
      }
    },
    {
      "cell_type": "code",
      "source": [
        "str_match = ''\n",
        "str_nonmatch = ''\n",
        "for char1, char2 in zip(hash1,hash2):\n",
        "    if char1 == char2:\n",
        "        str_match += char1\n",
        "        str_nonmatch += '|'\n",
        "    else:\n",
        "        str_match += '|'\n",
        "        str_nonmatch += char1"
      ],
      "metadata": {
        "id": "dfxOhFjxgt5B"
      },
      "execution_count": 31,
      "outputs": []
    },
    {
      "cell_type": "code",
      "source": [
        "str_match"
      ],
      "metadata": {
        "colab": {
          "base_uri": "https://localhost:8080/",
          "height": 35
        },
        "id": "sf-9tuXOiawe",
        "outputId": "8d797218-a3d3-4dc1-b661-c212b40da70f"
      },
      "execution_count": 32,
      "outputs": [
        {
          "output_type": "execute_result",
          "data": {
            "text/plain": [
              "'24:HUsDtjbIfKFcyLbA9STFh||ZxPZdU0FCOwYP8h/||||||||||||||||||V||||||||||||||||||'"
            ],
            "application/vnd.google.colaboratory.intrinsic+json": {
              "type": "string"
            }
          },
          "metadata": {},
          "execution_count": 32
        }
      ]
    },
    {
      "cell_type": "code",
      "source": [
        "str_nonmatch"
      ],
      "metadata": {
        "colab": {
          "base_uri": "https://localhost:8080/",
          "height": 35
        },
        "id": "uObtGCA5ifov",
        "outputId": "bf432f6a-1d35-4d8a-f8a5-0be6ef3f6ea4"
      },
      "execution_count": 33,
      "outputs": [
        {
          "output_type": "execute_result",
          "data": {
            "text/plain": [
              "'||||||||||||||||||||||||Rv||||||||||||||||Eknz+qVb:HtDtHGKFV|DRvZhZdU8xfPA8kzBb'"
            ],
            "application/vnd.google.colaboratory.intrinsic+json": {
              "type": "string"
            }
          },
          "metadata": {},
          "execution_count": 33
        }
      ]
    },
    {
      "cell_type": "markdown",
      "source": [
        "Differences between two signatures\n",
        "\n"
      ],
      "metadata": {
        "id": "_ot0n1uoimrT"
      }
    },
    {
      "cell_type": "code",
      "source": [
        "ppdeep.compare(hash1,hash2)"
      ],
      "metadata": {
        "colab": {
          "base_uri": "https://localhost:8080/"
        },
        "id": "7y8B4B_AixZP",
        "outputId": "239c42ad-db01-4a45-a2ab-a57436377ff4"
      },
      "execution_count": 34,
      "outputs": [
        {
          "output_type": "execute_result",
          "data": {
            "text/plain": [
              "97"
            ]
          },
          "metadata": {},
          "execution_count": 34
        }
      ]
    },
    {
      "cell_type": "markdown",
      "source": [
        "Using the compare method we achieved a similarity score of 97"
      ],
      "metadata": {
        "id": "rVE2KjWHi4e7"
      }
    },
    {
      "cell_type": "markdown",
      "source": [
        "## CREATE A GREATER MODIFICATION TO THE FILE"
      ],
      "metadata": {
        "id": "JXB-w96WrGCf"
      }
    },
    {
      "cell_type": "code",
      "source": [
        "modified_segment = segment.replace(\"She\", \"He\").replace(\"an\", \"en\").replace(\"the\", \"tha\")"
      ],
      "metadata": {
        "id": "C2lJXdmZrGCf"
      },
      "execution_count": 35,
      "outputs": []
    },
    {
      "cell_type": "code",
      "source": [
        "print(modified_segment)"
      ],
      "metadata": {
        "colab": {
          "base_uri": "https://localhost:8080/"
        },
        "outputId": "d4b65f4d-bcb4-4092-d4e9-2d9aabe5db6c",
        "id": "AK9a_XSorGCf"
      },
      "execution_count": 36,
      "outputs": [
        {
          "output_type": "stream",
          "name": "stdout",
          "text": [
            "﻿<título> THE WORST BIRTHDAY. \n",
            "\n",
            "Not for tha first time, en argument had broken out over breakfast at number four, Privet Drive. Mr Vernon Dursley had been woken in tha early hours of tha morning by a loud, hooting noise from his nephew Harry's room. \n",
            "\n",
            "\"Third time this week?\" he roared across tha table. If you cen't control that owl, it'll have to go!\" \n",
            "\n",
            "Harry tried, yet again, to explain. \n",
            "\n",
            "\"He's bored,\" he said. \"He´s used to flying around outside. If I could just let her out at night -\" \n",
            "\n",
            "\"Do I look stupid?\" snarled Uncle Vernon, a bit of fried egg dengling from his bushy mustache. \"I know what'll happen if that owl's let out.\"  \n",
            "\n",
            "He exchenged dark looks with his wife, Petunia. \n",
            "\n",
            "Harry tried to argue back but his words were drowned by a long, loud belch from tha Dursleys' son, Dudley. \n",
            "\n",
            "\"I went more bacon.\" \n",
            "\n",
            "\"There's more in tha frying pen, sweetums, said Aunt Petunia, turning misty eyes on her massive son. \"We must build you up while we've got tha chence... I don't like tha sound\n"
          ]
        }
      ]
    },
    {
      "cell_type": "markdown",
      "source": [
        "## GENERATE HASHS AND COMPARE"
      ],
      "metadata": {
        "id": "qu9uxd2xrGCg"
      }
    },
    {
      "cell_type": "code",
      "source": [
        "hash2 = ppdeep.hash(modified_segment)\n",
        "hash2"
      ],
      "metadata": {
        "colab": {
          "base_uri": "https://localhost:8080/",
          "height": 35
        },
        "outputId": "f3adb2a8-d2f4-4e2e-f972-3b35acd0e94d",
        "id": "bj3o4e_BrGCg"
      },
      "execution_count": 37,
      "outputs": [
        {
          "output_type": "execute_result",
          "data": {
            "text/plain": [
              "'24:HUMDtj/5wKFcjKnbA9SjSdSvZxPTXZdU0F1MOwYP8hDIAz+qV/:HlDtj5wKFR9vZhddU81XfPAxB/'"
            ],
            "application/vnd.google.colaboratory.intrinsic+json": {
              "type": "string"
            }
          },
          "metadata": {},
          "execution_count": 37
        }
      ]
    },
    {
      "cell_type": "markdown",
      "source": [
        "## DIFFERENT CHARACTERS IN STRING"
      ],
      "metadata": {
        "id": "C8sNvzZPrGCg"
      }
    },
    {
      "cell_type": "code",
      "source": [
        "str_match = ''\n",
        "str_nonmatch = ''\n",
        "for char1, char2 in zip(hash1,hash2):\n",
        "    if char1 == char2:\n",
        "        str_match += char1\n",
        "        str_nonmatch += '|'\n",
        "    else:\n",
        "        str_match += '|'\n",
        "        str_nonmatch += char1"
      ],
      "metadata": {
        "id": "b6pZlfazrGCg"
      },
      "execution_count": 38,
      "outputs": []
    },
    {
      "cell_type": "code",
      "source": [
        "str_match"
      ],
      "metadata": {
        "colab": {
          "base_uri": "https://localhost:8080/",
          "height": 35
        },
        "outputId": "087bc784-ac9c-413a-8500-10c42d4afbb5",
        "id": "wbV5BSNOrGCg"
      },
      "execution_count": 39,
      "outputs": [
        {
          "output_type": "execute_result",
          "data": {
            "text/plain": [
              "'24:HU|Dtj|||KFc|||||||||||||||||||||||||||||||||||||||||||||||||||Z||||||||||||'"
            ],
            "application/vnd.google.colaboratory.intrinsic+json": {
              "type": "string"
            }
          },
          "metadata": {},
          "execution_count": 39
        }
      ]
    },
    {
      "cell_type": "code",
      "source": [
        "str_nonmatch"
      ],
      "metadata": {
        "colab": {
          "base_uri": "https://localhost:8080/",
          "height": 35
        },
        "outputId": "23c260fc-3cf2-4d24-e681-2a0fcc5f05fa",
        "id": "G6aFozH1rGCg"
      },
      "execution_count": 40,
      "outputs": [
        {
          "output_type": "execute_result",
          "data": {
            "text/plain": [
              "'|||||s|||bIf|||yLbA9STFhRvZxPZdU0FCOwYP8h/Eknz+qVb:HtDtHGKFVVDRvZh|dU8xfPA8kzBb'"
            ],
            "application/vnd.google.colaboratory.intrinsic+json": {
              "type": "string"
            }
          },
          "metadata": {},
          "execution_count": 40
        }
      ]
    },
    {
      "cell_type": "markdown",
      "source": [
        "Differences between two signatures\n",
        "\n"
      ],
      "metadata": {
        "id": "MhIlyjfarGCg"
      }
    },
    {
      "cell_type": "code",
      "source": [
        "ppdeep.compare(hash1,hash2)"
      ],
      "metadata": {
        "colab": {
          "base_uri": "https://localhost:8080/"
        },
        "outputId": "078a82c5-2c64-45c3-abd3-313bc81ebfa1",
        "id": "YV_1FYT3rGCg"
      },
      "execution_count": 41,
      "outputs": [
        {
          "output_type": "execute_result",
          "data": {
            "text/plain": [
              "0"
            ]
          },
          "metadata": {},
          "execution_count": 41
        }
      ]
    },
    {
      "cell_type": "markdown",
      "source": [
        "Using the compare method we achieved a similarity score of 0"
      ],
      "metadata": {
        "id": "fhDEko7vrGCh"
      }
    },
    {
      "cell_type": "code",
      "source": [
        ""
      ],
      "metadata": {
        "id": "v2KdKUAJwt5p"
      },
      "execution_count": 41,
      "outputs": []
    }
  ],
  "metadata": {
    "colab": {
      "collapsed_sections": [],
      "name": "Computacao_Forense_Aula6",
      "provenance": [],
      "authorship_tag": "ABX9TyMJMLyEIvaT2ez21b94qV+f",
      "include_colab_link": true
    },
    "kernelspec": {
      "display_name": "Python 3",
      "name": "python3"
    },
    "language_info": {
      "name": "python"
    }
  },
  "nbformat": 4,
  "nbformat_minor": 0
}