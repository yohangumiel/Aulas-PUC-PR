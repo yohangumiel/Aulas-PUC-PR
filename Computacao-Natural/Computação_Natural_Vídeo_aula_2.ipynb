{
  "nbformat": 4,
  "nbformat_minor": 0,
  "metadata": {
    "colab": {
      "name": "Computação Natural - Vídeo aula 2.ipynb",
      "provenance": [],
      "collapsed_sections": [],
      "authorship_tag": "ABX9TyM/bynJg1L2r5GAHTuf3NZL",
      "include_colab_link": true
    },
    "kernelspec": {
      "name": "python3",
      "display_name": "Python 3"
    },
    "language_info": {
      "name": "python"
    }
  },
  "cells": [
    {
      "cell_type": "markdown",
      "metadata": {
        "id": "view-in-github",
        "colab_type": "text"
      },
      "source": [
        "<a href=\"https://colab.research.google.com/github/yohangumiel/Aulas-PUC-PR/blob/main/Computacao-Natural/Computa%C3%A7%C3%A3o_Natural_V%C3%ADdeo_aula_2.ipynb\" target=\"_parent\"><img src=\"https://colab.research.google.com/assets/colab-badge.svg\" alt=\"Open In Colab\"/></a>"
      ]
    },
    {
      "cell_type": "markdown",
      "source": [
        "Credits to WIRSANKY et al (2020)\n",
        "\n",
        "WIRSANSKY, Eyal. Hands-on genetic algorithms with Python: applying genetic algorithms to solve real-world deep learning and artificial intelligence problems. Packt Publishing Ltd, 2020.\n",
        "\n",
        "Original code: https://github.com/PacktPublishing/Hands-On-Genetic-Algorithms-with-Python/blob/master/Chapter03/02-OneMax-short.py\n",
        "\n"
      ],
      "metadata": {
        "id": "Kx8ZO0ceHESM"
      }
    },
    {
      "cell_type": "code",
      "source": [
        "!pip install deap"
      ],
      "metadata": {
        "colab": {
          "base_uri": "https://localhost:8080/"
        },
        "id": "DcqMLPr3hjLO",
        "outputId": "315d1309-0f0c-47b1-e514-e48f39c56dfc"
      },
      "execution_count": null,
      "outputs": [
        {
          "output_type": "stream",
          "name": "stdout",
          "text": [
            "Requirement already satisfied: deap in /usr/local/lib/python3.7/dist-packages (1.3.1)\n",
            "Requirement already satisfied: numpy in /usr/local/lib/python3.7/dist-packages (from deap) (1.19.5)\n"
          ]
        }
      ]
    },
    {
      "cell_type": "code",
      "execution_count": null,
      "metadata": {
        "id": "FR-4Dqjcwgls"
      },
      "outputs": [],
      "source": [
        "from deap import base\n",
        "from deap import creator\n",
        "from deap import tools\n",
        "from deap import algorithms\n",
        "\n",
        "import random\n",
        "import numpy\n",
        "\n",
        "import matplotlib.pyplot as plt\n",
        "import seaborn as sns\n",
        "\n"
      ]
    },
    {
      "cell_type": "markdown",
      "source": [
        "## PARAMETROS DE ENTRADA"
      ],
      "metadata": {
        "id": "3_CskqS_kT-Y"
      }
    },
    {
      "cell_type": "code",
      "source": [
        ""
      ],
      "metadata": {
        "id": "hLUi1FojiMMZ"
      },
      "execution_count": null,
      "outputs": []
    },
    {
      "cell_type": "code",
      "source": [
        "\n",
        "ONE_MAX_LENGTH = 100  # tamanho do vetor a ser otimizado (string com 100 caracteres)\n",
        "\n",
        "POPULATION_SIZE = 200 # tamanho da população\n",
        "P_CROSSOVER = 0.9  # probabilidade de um cruzamento\n",
        "P_MUTATION = 0.1   # probabilidade de uma mutação\n",
        "MAX_GENERATIONS = 50 # número máximo de gerações (quantidade de ciclos do algoritmo)\n",
        "\n",
        "RANDOM_SEED = 42 # para replicabilidade\n",
        "random.seed(RANDOM_SEED)"
      ],
      "metadata": {
        "id": "Ey5Tf9mPhfXm"
      },
      "execution_count": null,
      "outputs": []
    },
    {
      "cell_type": "markdown",
      "source": [
        "## FUNÇÕES\n",
        "\n",
        "https://deap.readthedocs.io/en/master/tutorials/basic/part1.html"
      ],
      "metadata": {
        "id": "mCKDXarkk0V0"
      }
    },
    {
      "cell_type": "markdown",
      "source": [
        "Vetor de 100 elementos com valores entre 0 e 1:\n",
        " [0, 1, 0, 1, ........., 1]"
      ],
      "metadata": {
        "id": "MuE8Vq1Sl2du"
      }
    },
    {
      "cell_type": "markdown",
      "source": [
        "## Fitness"
      ],
      "metadata": {
        "id": "2H_8dhouq-0p"
      }
    },
    {
      "cell_type": "code",
      "source": [
        "# define que teremos uma única função objetivo, maximizando o fitness\n",
        "\n",
        "\n",
        "creator.create(\"FitnessMax\", base.Fitness, weights=(1.0,))\n",
        "\n",
        "# exemplo de minimização do fitness\n",
        "# creator.create(\"FitnessMin\", base.Fitness, weights=(-1.0,))"
      ],
      "metadata": {
        "colab": {
          "base_uri": "https://localhost:8080/"
        },
        "id": "f9eYREDipq8y",
        "outputId": "554a62ab-8f20-4b26-b3dd-da9d274c6c9a"
      },
      "execution_count": null,
      "outputs": [
        {
          "output_type": "stream",
          "name": "stderr",
          "text": [
            "/usr/local/lib/python3.7/dist-packages/deap/creator.py:141: RuntimeWarning: A class named 'FitnessMax' has already been created and it will be overwritten. Consider deleting previous creation of that class or rename it.\n",
            "  RuntimeWarning)\n"
          ]
        }
      ]
    },
    {
      "cell_type": "markdown",
      "source": [
        "### Indivíduos"
      ],
      "metadata": {
        "id": "pZ4FrZbLrCJq"
      }
    },
    {
      "cell_type": "code",
      "source": [
        "# o indivíduo é composto de uma lista, herdando do tipo de dado LISTA, tendo um atributo de fitness\n",
        "\n",
        "creator.create(\"Individual\", list, fitness = creator.FitnessMax)"
      ],
      "metadata": {
        "colab": {
          "base_uri": "https://localhost:8080/"
        },
        "id": "xE6iqDClrBGg",
        "outputId": "1eedf290-bb19-4054-99a4-c41b1124751f"
      },
      "execution_count": null,
      "outputs": [
        {
          "output_type": "stream",
          "name": "stderr",
          "text": [
            "/usr/local/lib/python3.7/dist-packages/deap/creator.py:141: RuntimeWarning: A class named 'Individual' has already been created and it will be overwritten. Consider deleting previous creation of that class or rename it.\n",
            "  RuntimeWarning)\n"
          ]
        }
      ]
    },
    {
      "cell_type": "code",
      "source": [
        "toolbox = base.Toolbox()\n",
        "\n",
        "# são criadas duas funções/comandos na toolbox \"zeroOrOne\" e \"individualCreator\"\n",
        "\n",
        "# operador que retorna 0 ou 1, é usado para criar a população\n",
        "toolbox.register(\"zeroOrOne\", random.randint, 0, 1) # random.randint(0,1)\n",
        "\n",
        "# operador que preenche os dados do indivíduo\n",
        "# initRepeat() - chama a função N vezes e retorna o resultado em um container do tipo container\n",
        "\n",
        "toolbox.register(\"individualCreator\", tools.initRepeat, creator.Individual, toolbox.zeroOrOne, ONE_MAX_LENGTH)"
      ],
      "metadata": {
        "id": "IwgoRNjtiq6R"
      },
      "execution_count": null,
      "outputs": []
    },
    {
      "cell_type": "code",
      "source": [
        "random.randint(0,1)"
      ],
      "metadata": {
        "colab": {
          "base_uri": "https://localhost:8080/"
        },
        "id": "3CvT89AToP-W",
        "outputId": "c8c006f7-8dd8-49e4-c4d5-913012926104"
      },
      "execution_count": null,
      "outputs": [
        {
          "output_type": "execute_result",
          "data": {
            "text/plain": [
              "1"
            ]
          },
          "metadata": {},
          "execution_count": 25
        }
      ]
    },
    {
      "cell_type": "markdown",
      "source": [
        "### População"
      ],
      "metadata": {
        "id": "k58fAzjStPyw"
      }
    },
    {
      "cell_type": "code",
      "source": [
        "# cria o operador da população para gerar a lista de individuos\n",
        "toolbox.register(\"populationCreator\", tools.initRepeat, list, toolbox.individualCreator)\n",
        "\n"
      ],
      "metadata": {
        "id": "rZXY03KbjiLE"
      },
      "execution_count": null,
      "outputs": []
    },
    {
      "cell_type": "code",
      "source": [
        "toolbox.populationCreator(n=2)"
      ],
      "metadata": {
        "colab": {
          "base_uri": "https://localhost:8080/"
        },
        "id": "A3QP5jVUmOqd",
        "outputId": "192882b4-d397-4957-df9e-050e71f15a73"
      },
      "execution_count": null,
      "outputs": [
        {
          "output_type": "execute_result",
          "data": {
            "text/plain": [
              "[[0,\n",
              "  0,\n",
              "  0,\n",
              "  0,\n",
              "  0,\n",
              "  1,\n",
              "  0,\n",
              "  0,\n",
              "  0,\n",
              "  0,\n",
              "  0,\n",
              "  0,\n",
              "  0,\n",
              "  1,\n",
              "  0,\n",
              "  1,\n",
              "  1,\n",
              "  0,\n",
              "  0,\n",
              "  1,\n",
              "  1,\n",
              "  1,\n",
              "  0,\n",
              "  0,\n",
              "  1,\n",
              "  0,\n",
              "  0,\n",
              "  1,\n",
              "  0,\n",
              "  1,\n",
              "  1,\n",
              "  1,\n",
              "  0,\n",
              "  1,\n",
              "  0,\n",
              "  1,\n",
              "  0,\n",
              "  1,\n",
              "  1,\n",
              "  0,\n",
              "  0,\n",
              "  0,\n",
              "  0,\n",
              "  1,\n",
              "  0,\n",
              "  0,\n",
              "  0,\n",
              "  1,\n",
              "  1,\n",
              "  1,\n",
              "  1,\n",
              "  0,\n",
              "  1,\n",
              "  1,\n",
              "  0,\n",
              "  1,\n",
              "  0,\n",
              "  0,\n",
              "  0,\n",
              "  0,\n",
              "  1,\n",
              "  1,\n",
              "  1,\n",
              "  0,\n",
              "  1,\n",
              "  0,\n",
              "  0,\n",
              "  0,\n",
              "  1,\n",
              "  1,\n",
              "  1,\n",
              "  0,\n",
              "  0,\n",
              "  1,\n",
              "  0,\n",
              "  1,\n",
              "  1,\n",
              "  1,\n",
              "  0,\n",
              "  1,\n",
              "  0,\n",
              "  0,\n",
              "  1,\n",
              "  1,\n",
              "  1,\n",
              "  1,\n",
              "  0,\n",
              "  0,\n",
              "  1,\n",
              "  0,\n",
              "  0,\n",
              "  0,\n",
              "  0,\n",
              "  0,\n",
              "  1,\n",
              "  0,\n",
              "  1,\n",
              "  1,\n",
              "  1,\n",
              "  1],\n",
              " [0,\n",
              "  0,\n",
              "  1,\n",
              "  1,\n",
              "  0,\n",
              "  1,\n",
              "  1,\n",
              "  0,\n",
              "  1,\n",
              "  0,\n",
              "  1,\n",
              "  0,\n",
              "  0,\n",
              "  1,\n",
              "  0,\n",
              "  0,\n",
              "  1,\n",
              "  0,\n",
              "  0,\n",
              "  1,\n",
              "  1,\n",
              "  0,\n",
              "  0,\n",
              "  1,\n",
              "  1,\n",
              "  0,\n",
              "  0,\n",
              "  0,\n",
              "  0,\n",
              "  0,\n",
              "  1,\n",
              "  0,\n",
              "  0,\n",
              "  0,\n",
              "  1,\n",
              "  0,\n",
              "  1,\n",
              "  1,\n",
              "  0,\n",
              "  0,\n",
              "  1,\n",
              "  1,\n",
              "  1,\n",
              "  1,\n",
              "  1,\n",
              "  0,\n",
              "  0,\n",
              "  0,\n",
              "  0,\n",
              "  1,\n",
              "  0,\n",
              "  0,\n",
              "  0,\n",
              "  0,\n",
              "  0,\n",
              "  0,\n",
              "  0,\n",
              "  0,\n",
              "  0,\n",
              "  1,\n",
              "  0,\n",
              "  0,\n",
              "  1,\n",
              "  1,\n",
              "  0,\n",
              "  0,\n",
              "  1,\n",
              "  0,\n",
              "  1,\n",
              "  1,\n",
              "  0,\n",
              "  0,\n",
              "  0,\n",
              "  1,\n",
              "  1,\n",
              "  1,\n",
              "  1,\n",
              "  1,\n",
              "  0,\n",
              "  0,\n",
              "  0,\n",
              "  1,\n",
              "  1,\n",
              "  0,\n",
              "  0,\n",
              "  0,\n",
              "  0,\n",
              "  1,\n",
              "  0,\n",
              "  1,\n",
              "  0,\n",
              "  1,\n",
              "  1,\n",
              "  0,\n",
              "  0,\n",
              "  1,\n",
              "  0,\n",
              "  0,\n",
              "  0,\n",
              "  0]]"
            ]
          },
          "metadata": {},
          "execution_count": 28
        }
      ]
    },
    {
      "cell_type": "code",
      "source": [
        "len(toolbox.populationCreator(n=2))"
      ],
      "metadata": {
        "colab": {
          "base_uri": "https://localhost:8080/"
        },
        "id": "G0meyEfKtkiD",
        "outputId": "121a2d7c-2a4e-468a-f17b-1d40ac3308d8"
      },
      "execution_count": null,
      "outputs": [
        {
          "output_type": "execute_result",
          "data": {
            "text/plain": [
              "2"
            ]
          },
          "metadata": {},
          "execution_count": 29
        }
      ]
    },
    {
      "cell_type": "code",
      "source": [
        "len(toolbox.populationCreator(n=2)[1])"
      ],
      "metadata": {
        "colab": {
          "base_uri": "https://localhost:8080/"
        },
        "id": "-dKYneKKtsvi",
        "outputId": "65684185-74c1-4c9e-d40f-7c3200ff10c0"
      },
      "execution_count": null,
      "outputs": [
        {
          "output_type": "execute_result",
          "data": {
            "text/plain": [
              "100"
            ]
          },
          "metadata": {},
          "execution_count": 31
        }
      ]
    },
    {
      "cell_type": "markdown",
      "source": [
        "### Função de fitness"
      ],
      "metadata": {
        "id": "n-sMV7aKtxEu"
      }
    },
    {
      "cell_type": "code",
      "source": [
        "# soma todos os valores dos vetores (valor máximo da soma igual a 100)\n",
        "def oneMaxFitness(individual):\n",
        "    return sum(individual),"
      ],
      "metadata": {
        "id": "tm08o5dQt2Rz"
      },
      "execution_count": null,
      "outputs": []
    },
    {
      "cell_type": "code",
      "source": [
        "\n",
        "toolbox.register(\"evaluate\", oneMaxFitness) # indicando a operador para avaliação"
      ],
      "metadata": {
        "id": "VrxeQ6PFvjjR"
      },
      "execution_count": null,
      "outputs": []
    },
    {
      "cell_type": "markdown",
      "source": [
        "### Operadores Genéticos"
      ],
      "metadata": {
        "id": "IrIwyTAmuOm_"
      }
    },
    {
      "cell_type": "code",
      "source": [
        "# seleção por torneio com tamanho de 3 participantes\n",
        "toolbox.register(\"select\", tools.selTournament, tournsize=3)\n",
        "\n",
        "# cruzamento de ponto único\n",
        "toolbox.register(\"mate\", tools.cxOnePoint)\n",
        "\n",
        "# mutação por troca de bit, com a probabilidade de mudança de cada atributo sendo definida por indpd\n",
        "toolbox.register(\"mutate\", tools.mutFlipBit, indpb=1.0/ONE_MAX_LENGTH)\n",
        "\n",
        "# documentação: os nomes usuais para ferramentas evolucionárias são mate(), mutate(), evaluate() e select()\n"
      ],
      "metadata": {
        "id": "cE3nqTt0ik3Y"
      },
      "execution_count": null,
      "outputs": []
    },
    {
      "cell_type": "markdown",
      "source": [
        "## ALGORITMO"
      ],
      "metadata": {
        "id": "OPjGC5FU0d-g"
      }
    },
    {
      "cell_type": "code",
      "source": [
        "# cria uma população inicial (geração 0)\n",
        "population = toolbox.populationCreator(n=POPULATION_SIZE)\n",
        "\n",
        "# seleciona quais estatísticas necessitamos\n",
        "stats = tools.Statistics(lambda ind: ind.fitness.values)\n",
        "stats.register(\"max\", numpy.max)\n",
        "stats.register(\"avg\", numpy.mean)\n",
        "\n",
        "# roda o algoritmo genético\n",
        "population, logbook = algorithms.eaSimple(population, toolbox, cxpb= P_CROSSOVER, mutpb= P_MUTATION, ngen= MAX_GENERATIONS, stats= stats, verbose= True)\n"
      ],
      "metadata": {
        "colab": {
          "base_uri": "https://localhost:8080/"
        },
        "id": "v8BMCgowujB_",
        "outputId": "67899356-ce68-482a-a087-6722ce25d6a5"
      },
      "execution_count": null,
      "outputs": [
        {
          "output_type": "stream",
          "name": "stdout",
          "text": [
            "gen\tnevals\tmax\tavg   \n",
            "0  \t200   \t59 \t49.615\n",
            "1  \t186   \t61 \t54.045\n",
            "2  \t177   \t63 \t57.025\n",
            "3  \t183   \t69 \t59.595\n",
            "4  \t179   \t70 \t62.1  \n",
            "5  \t181   \t74 \t64.34 \n",
            "6  \t173   \t75 \t67.075\n",
            "7  \t183   \t76 \t69.175\n",
            "8  \t191   \t80 \t71.57 \n",
            "9  \t177   \t80 \t73.835\n",
            "10 \t185   \t83 \t75.885\n",
            "11 \t185   \t84 \t78.02 \n",
            "12 \t182   \t86 \t79.77 \n",
            "13 \t184   \t88 \t81.415\n",
            "14 \t183   \t88 \t83.235\n",
            "15 \t177   \t88 \t84.7  \n",
            "16 \t174   \t89 \t85.71 \n",
            "17 \t187   \t89 \t86.735\n",
            "18 \t187   \t90 \t87.505\n",
            "19 \t180   \t90 \t88.08 \n",
            "20 \t170   \t91 \t88.68 \n",
            "21 \t180   \t92 \t89.215\n",
            "22 \t177   \t92 \t90    \n",
            "23 \t182   \t92 \t90.575\n",
            "24 \t179   \t92 \t90.975\n",
            "25 \t179   \t93 \t91.315\n",
            "26 \t189   \t94 \t91.69 \n",
            "27 \t182   \t95 \t92.155\n",
            "28 \t186   \t95 \t92.525\n",
            "29 \t179   \t96 \t93.135\n",
            "30 \t187   \t96 \t93.84 \n",
            "31 \t187   \t96 \t94.5  \n",
            "32 \t175   \t97 \t95.12 \n",
            "33 \t177   \t97 \t95.625\n",
            "34 \t181   \t99 \t96.085\n",
            "35 \t170   \t99 \t96.5  \n",
            "36 \t182   \t99 \t97.01 \n",
            "37 \t178   \t99 \t97.445\n",
            "38 \t187   \t99 \t98.135\n",
            "39 \t180   \t99 \t98.58 \n",
            "40 \t184   \t99 \t98.825\n",
            "41 \t177   \t99 \t98.93 \n",
            "42 \t188   \t100\t98.905\n",
            "43 \t182   \t100\t98.895\n",
            "44 \t186   \t100\t98.89 \n",
            "45 \t182   \t100\t98.95 \n",
            "46 \t165   \t100\t98.96 \n",
            "47 \t189   \t100\t99.08 \n",
            "48 \t180   \t100\t99.375\n",
            "49 \t188   \t100\t99.715\n",
            "50 \t178   \t100\t99.865\n"
          ]
        }
      ]
    },
    {
      "cell_type": "markdown",
      "source": [
        "## ESTATÍSTICAS"
      ],
      "metadata": {
        "id": "-rb2PkP_zfhl"
      }
    },
    {
      "cell_type": "code",
      "source": [
        "# estatísticas\n",
        "maxFitnessValues, meanFitnessValues = logbook.select(\"max\", \"avg\")"
      ],
      "metadata": {
        "id": "USgBXYvrvTz7"
      },
      "execution_count": null,
      "outputs": []
    },
    {
      "cell_type": "code",
      "source": [
        "# gráfico:\n",
        "sns.set_style(\"whitegrid\")\n",
        "plt.plot(maxFitnessValues, color='red')\n",
        "plt.plot(meanFitnessValues, color='green')\n",
        "plt.xlabel('Geração')\n",
        "plt.ylabel('Valores de fitness')\n",
        "plt.show()"
      ],
      "metadata": {
        "colab": {
          "base_uri": "https://localhost:8080/",
          "height": 279
        },
        "id": "9Ja-DwXWzkBj",
        "outputId": "654a6ed9-37a5-406c-82e2-d3f65d0b3b4e"
      },
      "execution_count": null,
      "outputs": [
        {
          "output_type": "display_data",
          "data": {
            "image/png": "[encoded data removed]",
            "text/plain": [
              "<Figure size 432x288 with 1 Axes>"
            ]
          },
          "metadata": {}
        }
      ]
    },
    {
      "cell_type": "code",
      "source": [
        ""
      ],
      "metadata": {
        "id": "dl2a6w6M0loj"
      },
      "execution_count": null,
      "outputs": []
    }
  ]
}