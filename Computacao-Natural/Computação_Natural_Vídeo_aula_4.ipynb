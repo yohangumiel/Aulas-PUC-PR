{
  "nbformat": 4,
  "nbformat_minor": 0,
  "metadata": {
    "colab": {
      "name": " Computação Natural - Vídeo aula 4.ipynb",
      "provenance": [],
      "collapsed_sections": [],
      "authorship_tag": "ABX9TyNVnFA1plLX5+C81qB1YHSa",
      "include_colab_link": true
    },
    "kernelspec": {
      "name": "python3",
      "display_name": "Python 3"
    },
    "language_info": {
      "name": "python"
    }
  },
  "cells": [
    {
      "cell_type": "markdown",
      "metadata": {
        "id": "view-in-github",
        "colab_type": "text"
      },
      "source": [
        "<a href=\"https://colab.research.google.com/github/yohangumiel/Aulas-PUC-PR/blob/main/Computacao-Natural/Computa%C3%A7%C3%A3o_Natural_V%C3%ADdeo_aula_4.ipynb\" target=\"_parent\"><img src=\"https://colab.research.google.com/assets/colab-badge.svg\" alt=\"Open In Colab\"/></a>"
      ]
    },
    {
      "cell_type": "markdown",
      "source": [
        "Credits to WIRSANKY et al (2020)\n",
        "\n",
        "WIRSANSKY, Eyal. Hands-on genetic algorithms with Python: applying genetic algorithms to solve real-world deep learning and artificial intelligence problems. Packt Publishing Ltd, 2020.\n",
        "\n",
        "Original codes: https://github.com/PacktPublishing/Hands-On-Genetic-Algorithms-with-Python/blob/master/Chapter04/knapsack.py\n",
        "\n",
        "https://github.com/PacktPublishing/Hands-On-Genetic-Algorithms-with-Python/blob/master/Chapter04/01-solve-knapsack.py\n",
        "\n",
        "Biblioteca: https://github.com/ecrl/ecabc\n"
      ],
      "metadata": {
        "id": "Kx8ZO0ceHESM"
      }
    },
    {
      "cell_type": "code",
      "source": [
        "!pip install ecabc"
      ],
      "metadata": {
        "colab": {
          "base_uri": "https://localhost:8080/"
        },
        "id": "DcqMLPr3hjLO",
        "outputId": "91b2e54f-6361-46ff-cdc0-efa9e04bfc26"
      },
      "execution_count": 1,
      "outputs": [
        {
          "output_type": "stream",
          "name": "stdout",
          "text": [
            "Collecting ecabc\n",
            "  Downloading ecabc-3.0.0-py2.py3-none-any.whl (8.5 kB)\n",
            "Installing collected packages: ecabc\n",
            "Successfully installed ecabc-3.0.0\n"
          ]
        }
      ]
    },
    {
      "cell_type": "code",
      "source": [
        "\n",
        "import numpy as np\n",
        "\n",
        "class Knapsack01Problem:\n",
        "    \"\"\"This class encapsulates the Knapsack 0-1 Problem from RosettaCode.org\n",
        "       Developed by https://github.com/PacktPublishing/Hands-On-Genetic-Algorithms-with-Python/blob/master/Chapter04/knapsack.py\n",
        "       Translated to portuguese by Yohan Gumiel\n",
        "    \"\"\"\n",
        "\n",
        "    def __init__(self):\n",
        "\n",
        "        # initialize instance variables:\n",
        "        self.items = []\n",
        "        self.maxCapacity = 0\n",
        "\n",
        "        # initialize the data:\n",
        "        self.__initData()\n",
        "\n",
        "    def __len__(self):\n",
        "        \"\"\"\n",
        "        :return: the total number of items defined in the problem\n",
        "        \"\"\"\n",
        "        return len(self.items)\n",
        "\n",
        "    def __initData(self):\n",
        "        \"\"\"initializes the RosettaCode.org knapsack 0-1 problem data\n",
        "        \"\"\"\n",
        "        self.items = [\n",
        "            (\"mapa\", 9, 150),\n",
        "            (\"compasso\", 13, 35),\n",
        "            (\"agua\", 153, 200),\n",
        "            (\"sanduiche\", 50, 160),\n",
        "            (\"glicose\", 15, 60),\n",
        "            (\"lata\", 68, 45),\n",
        "            (\"banana\", 27, 60),\n",
        "            (\"maça\", 39, 40),\n",
        "            (\"queijo\", 23, 30),\n",
        "            (\"cerveja\", 52, 10),\n",
        "            (\"proteção solar\", 11, 70),\n",
        "            (\"camera\", 32, 30),\n",
        "            (\"camisa\", 24, 15),\n",
        "            (\"calças\", 48, 10),\n",
        "            (\"guarda-chuva\", 73, 40),\n",
        "            (\"calças a prova d'agua\", 42, 70),\n",
        "            (\"roupas a prova d'agua\", 43, 75),\n",
        "            (\"carteira\", 22, 80),\n",
        "            (\"oculos de sol\", 7, 20),\n",
        "            (\"toalha\", 18, 12),\n",
        "            (\"meias\", 4, 50),\n",
        "            (\"livro\", 30, 10)\n",
        "        ]\n",
        "\n",
        "        self.maxCapacity = 400\n",
        "\n",
        "    def getValue(self, zeroOneList):\n",
        "        \"\"\"\n",
        "        Calculates the value of the selected items in the list, while ignoring items that will cause the accumulating weight to exceed the maximum weight\n",
        "        :param zeroOneList: a list of 0/1 values corresponding to the list of the problem's items. '1' means that item was selected.\n",
        "        :return: the calculated value\n",
        "        \"\"\"\n",
        "\n",
        "        totalWeight = totalValue = 0\n",
        "\n",
        "        for i in range(len(zeroOneList)):\n",
        "            item, weight, value = self.items[i]\n",
        "            if totalWeight + weight <= self.maxCapacity:\n",
        "                totalWeight += zeroOneList[i] * weight\n",
        "                totalValue += zeroOneList[i] * value\n",
        "        return totalValue\n",
        "\n",
        "    def printItems(self, zeroOneList):\n",
        "        \"\"\"\n",
        "        Prints the selected items in the list, while ignoring items that will cause the accumulating weight to exceed the maximum weight\n",
        "        :param zeroOneList: a list of 0/1 values corresponding to the list of the problem's items. '1' means that item was selected.\n",
        "        \"\"\"\n",
        "        totalWeight = totalValue = 0\n",
        "\n",
        "        for i in range(len(zeroOneList)):\n",
        "            item, weight, value = self.items[i]\n",
        "            if totalWeight + weight <= self.maxCapacity:\n",
        "                if zeroOneList[i] > 0:\n",
        "                    totalWeight += weight\n",
        "                    totalValue += value\n",
        "                    print(\"- Adicionando {}: peso = {}, valor = {}, peso acumuculado = {}, valor acumulado = {}\".format(item, weight, value, totalWeight, totalValue))\n",
        "        print(\"- Peso total = {}, Valor total = {}\".format(totalWeight, totalValue))\n",
        "\n",
        "\n",
        "# testing the class:\n",
        "def main():\n",
        "    # create a problem instance:\n",
        "    knapsack = Knapsack01Problem()\n",
        "\n",
        "    # creaete a random solution and evaluate it:\n",
        "    randomSolution = np.random.randint(2, size=len(knapsack))\n",
        "    print(\"Solução aleatória = \")\n",
        "    print(randomSolution)\n",
        "    knapsack.printItems(randomSolution)\n",
        "\n",
        "\n",
        "if __name__ == \"__main__\":\n",
        "    main()"
      ],
      "metadata": {
        "colab": {
          "base_uri": "https://localhost:8080/"
        },
        "id": "XTIhGF9BJE1a",
        "outputId": "82f85440-8470-4eae-8fd9-319b48c833ee"
      },
      "execution_count": 4,
      "outputs": [
        {
          "output_type": "stream",
          "name": "stdout",
          "text": [
            "Solução aleatória = \n",
            "[0 1 0 0 1 1 0 1 0 1 0 1 0 1 0 0 0 1 1 1 1 1]\n",
            "- Adicionando compasso: peso = 13, valor = 35, peso acumuculado = 13, valor acumulado = 35\n",
            "- Adicionando glicose: peso = 15, valor = 60, peso acumuculado = 28, valor acumulado = 95\n",
            "- Adicionando lata: peso = 68, valor = 45, peso acumuculado = 96, valor acumulado = 140\n",
            "- Adicionando maça: peso = 39, valor = 40, peso acumuculado = 135, valor acumulado = 180\n",
            "- Adicionando cerveja: peso = 52, valor = 10, peso acumuculado = 187, valor acumulado = 190\n",
            "- Adicionando camera: peso = 32, valor = 30, peso acumuculado = 219, valor acumulado = 220\n",
            "- Adicionando calças: peso = 48, valor = 10, peso acumuculado = 267, valor acumulado = 230\n",
            "- Adicionando carteira: peso = 22, valor = 80, peso acumuculado = 289, valor acumulado = 310\n",
            "- Adicionando oculos de sol: peso = 7, valor = 20, peso acumuculado = 296, valor acumulado = 330\n",
            "- Adicionando toalha: peso = 18, valor = 12, peso acumuculado = 314, valor acumulado = 342\n",
            "- Adicionando meias: peso = 4, valor = 50, peso acumuculado = 318, valor acumulado = 392\n",
            "- Adicionando livro: peso = 30, valor = 10, peso acumuculado = 348, valor acumulado = 402\n",
            "- Peso total = 348, Valor total = 402\n"
          ]
        }
      ]
    },
    {
      "cell_type": "markdown",
      "source": [
        "## FUNÇÃO DE FITNESS"
      ],
      "metadata": {
        "id": "3_CskqS_kT-Y"
      }
    },
    {
      "cell_type": "code",
      "execution_count": 7,
      "metadata": {
        "id": "FR-4Dqjcwgls"
      },
      "outputs": [],
      "source": [
        "from ecabc import ABC\n",
        "knapsack = Knapsack01Problem()\n",
        "\n",
        "def fitness(values):\n",
        "    return knapsack.getValue(values)*-1\n",
        "\n"
      ]
    },
    {
      "cell_type": "markdown",
      "source": [
        "## CÓDIGO"
      ],
      "metadata": {
        "id": "mCKDXarkk0V0"
      }
    },
    {
      "cell_type": "code",
      "source": [
        "abc = ABC(10000, fitness)\n",
        "\n",
        "for i in range(0,22):\n",
        "    abc.add_param(0,2, name='Bin_' + str(i))\n",
        "\n",
        "abc.initialize()\n",
        "for _ in range(100):\n",
        "    abc.search()\n",
        "print('Average fitness: {}'.format(abc.average_fitness))\n",
        "print('Average obj. fn. return value: {}'.format(abc.average_ret_val))\n",
        "print('Best fitness score: {}'.format(abc.best_fitness))\n",
        "print('Best obj. fn. return value: {}'.format(abc.best_ret_val))\n",
        "print('Best parameters: {}\\n'.format(abc.best_params))"
      ],
      "metadata": {
        "id": "hLxleNtZy37O",
        "colab": {
          "base_uri": "https://localhost:8080/"
        },
        "outputId": "2beab72e-49d5-41ec-9fd1-a034d8242196"
      },
      "execution_count": 10,
      "outputs": [
        {
          "output_type": "stream",
          "name": "stdout",
          "text": [
            "Average fitness: 609.5588\n",
            "Average obj. fn. return value: -608.5588\n",
            "Best fitness score: 1031\n",
            "Best obj. fn. return value: -1030\n",
            "Best parameters: {'Bin_0': 1, 'Bin_1': 1, 'Bin_2': 1, 'Bin_3': 1, 'Bin_4': 1, 'Bin_5': 0, 'Bin_6': 1, 'Bin_7': 0, 'Bin_8': 0, 'Bin_9': 0, 'Bin_10': 1, 'Bin_11': 0, 'Bin_12': 0, 'Bin_13': 0, 'Bin_14': 0, 'Bin_15': 1, 'Bin_16': 1, 'Bin_17': 1, 'Bin_18': 1, 'Bin_19': 0, 'Bin_20': 1, 'Bin_21': 1}\n",
            "\n"
          ]
        }
      ]
    },
    {
      "cell_type": "code",
      "source": [
        "print(list(abc.best_params.values()))"
      ],
      "metadata": {
        "colab": {
          "base_uri": "https://localhost:8080/"
        },
        "id": "qeAtyKyWEZMF",
        "outputId": "e6cb3849-640a-4ddb-8c60-3dc0573cdeb2"
      },
      "execution_count": 13,
      "outputs": [
        {
          "output_type": "stream",
          "name": "stdout",
          "text": [
            "[1, 1, 1, 1, 1, 0, 1, 0, 0, 0, 1, 0, 0, 0, 0, 1, 1, 1, 1, 0, 1, 1]\n"
          ]
        }
      ]
    },
    {
      "cell_type": "markdown",
      "source": [
        "## MELHOR RESULTADO"
      ],
      "metadata": {
        "id": "rovNmoR3EJ3o"
      }
    },
    {
      "cell_type": "code",
      "source": [
        "knapsack.printItems(list(abc.best_params.values()))"
      ],
      "metadata": {
        "colab": {
          "base_uri": "https://localhost:8080/"
        },
        "id": "kNC_DvjaD64p",
        "outputId": "7f411f5b-7328-4eeb-a909-7aa6854809dd"
      },
      "execution_count": 14,
      "outputs": [
        {
          "output_type": "stream",
          "name": "stdout",
          "text": [
            "- Adicionando mapa: peso = 9, valor = 150, peso acumuculado = 9, valor acumulado = 150\n",
            "- Adicionando compasso: peso = 13, valor = 35, peso acumuculado = 22, valor acumulado = 185\n",
            "- Adicionando agua: peso = 153, valor = 200, peso acumuculado = 175, valor acumulado = 385\n",
            "- Adicionando sanduiche: peso = 50, valor = 160, peso acumuculado = 225, valor acumulado = 545\n",
            "- Adicionando glicose: peso = 15, valor = 60, peso acumuculado = 240, valor acumulado = 605\n",
            "- Adicionando banana: peso = 27, valor = 60, peso acumuculado = 267, valor acumulado = 665\n",
            "- Adicionando proteção solar: peso = 11, valor = 70, peso acumuculado = 278, valor acumulado = 735\n",
            "- Adicionando calças a prova d'agua: peso = 42, valor = 70, peso acumuculado = 320, valor acumulado = 805\n",
            "- Adicionando roupas a prova d'agua: peso = 43, valor = 75, peso acumuculado = 363, valor acumulado = 880\n",
            "- Adicionando carteira: peso = 22, valor = 80, peso acumuculado = 385, valor acumulado = 960\n",
            "- Adicionando oculos de sol: peso = 7, valor = 20, peso acumuculado = 392, valor acumulado = 980\n",
            "- Adicionando meias: peso = 4, valor = 50, peso acumuculado = 396, valor acumulado = 1030\n",
            "- Peso total = 396, Valor total = 1030\n"
          ]
        }
      ]
    },
    {
      "cell_type": "code",
      "source": [
        ""
      ],
      "metadata": {
        "id": "AzIJzlMtE5_t"
      },
      "execution_count": null,
      "outputs": []
    }
  ]
}