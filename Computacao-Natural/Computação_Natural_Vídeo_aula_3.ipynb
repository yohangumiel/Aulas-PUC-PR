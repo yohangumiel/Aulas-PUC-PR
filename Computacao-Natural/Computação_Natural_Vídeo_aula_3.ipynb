{
  "nbformat": 4,
  "nbformat_minor": 0,
  "metadata": {
    "colab": {
      "name": "Computação Natural - Vídeo aula 3.ipynb",
      "provenance": [],
      "collapsed_sections": [],
      "authorship_tag": "ABX9TyPyhIRm3Mpkf28xFzlsH2V+",
      "include_colab_link": true
    },
    "kernelspec": {
      "name": "python3",
      "display_name": "Python 3"
    },
    "language_info": {
      "name": "python"
    }
  },
  "cells": [
    {
      "cell_type": "markdown",
      "metadata": {
        "id": "view-in-github",
        "colab_type": "text"
      },
      "source": [
        "<a href=\"https://colab.research.google.com/github/yohangumiel/Aulas-PUC-PR/blob/main/Computacao-Natural/Computa%C3%A7%C3%A3o_Natural_V%C3%ADdeo_aula_3.ipynb\" target=\"_parent\"><img src=\"https://colab.research.google.com/assets/colab-badge.svg\" alt=\"Open In Colab\"/></a>"
      ]
    },
    {
      "cell_type": "markdown",
      "source": [
        "Credits to WIRSANKY et al (2020)\n",
        "\n",
        "WIRSANSKY, Eyal. Hands-on genetic algorithms with Python: applying genetic algorithms to solve real-world deep learning and artificial intelligence problems. Packt Publishing Ltd, 2020.\n",
        "\n",
        "Original codes: https://github.com/PacktPublishing/Hands-On-Genetic-Algorithms-with-Python/blob/master/Chapter04/knapsack.py\n",
        "\n",
        "https://github.com/PacktPublishing/Hands-On-Genetic-Algorithms-with-Python/blob/master/Chapter04/01-solve-knapsack.py\n",
        "\n",
        "\n",
        "\n"
      ],
      "metadata": {
        "id": "Kx8ZO0ceHESM"
      }
    },
    {
      "cell_type": "code",
      "source": [
        "!pip install deap"
      ],
      "metadata": {
        "colab": {
          "base_uri": "https://localhost:8080/"
        },
        "id": "DcqMLPr3hjLO",
        "outputId": "628dcf7d-c332-4192-e4ef-dc6262561e67"
      },
      "execution_count": null,
      "outputs": [
        {
          "output_type": "stream",
          "name": "stdout",
          "text": [
            "Collecting deap\n",
            "  Downloading deap-1.3.1-cp37-cp37m-manylinux_2_5_x86_64.manylinux1_x86_64.manylinux_2_12_x86_64.manylinux2010_x86_64.whl (160 kB)\n",
            "\u001b[?25l\r\u001b[K     |██                              | 10 kB 21.1 MB/s eta 0:00:01\r\u001b[K     |████                            | 20 kB 27.1 MB/s eta 0:00:01\r\u001b[K     |██████                          | 30 kB 32.2 MB/s eta 0:00:01\r\u001b[K     |████████▏                       | 40 kB 34.7 MB/s eta 0:00:01\r\u001b[K     |██████████▏                     | 51 kB 35.6 MB/s eta 0:00:01\r\u001b[K     |████████████▏                   | 61 kB 37.9 MB/s eta 0:00:01\r\u001b[K     |██████████████▎                 | 71 kB 32.4 MB/s eta 0:00:01\r\u001b[K     |████████████████▎               | 81 kB 31.7 MB/s eta 0:00:01\r\u001b[K     |██████████████████▎             | 92 kB 32.8 MB/s eta 0:00:01\r\u001b[K     |████████████████████▍           | 102 kB 34.6 MB/s eta 0:00:01\r\u001b[K     |██████████████████████▍         | 112 kB 34.6 MB/s eta 0:00:01\r\u001b[K     |████████████████████████▍       | 122 kB 34.6 MB/s eta 0:00:01\r\u001b[K     |██████████████████████████▌     | 133 kB 34.6 MB/s eta 0:00:01\r\u001b[K     |████████████████████████████▌   | 143 kB 34.6 MB/s eta 0:00:01\r\u001b[K     |██████████████████████████████▌ | 153 kB 34.6 MB/s eta 0:00:01\r\u001b[K     |████████████████████████████████| 160 kB 34.6 MB/s \n",
            "\u001b[?25hRequirement already satisfied: numpy in /usr/local/lib/python3.7/dist-packages (from deap) (1.19.5)\n",
            "Installing collected packages: deap\n",
            "Successfully installed deap-1.3.1\n"
          ]
        }
      ]
    },
    {
      "cell_type": "code",
      "source": [
        "\n",
        "import numpy as np\n",
        "\n",
        "class Knapsack01Problem:\n",
        "    \"\"\"This class encapsulates the Knapsack 0-1 Problem from RosettaCode.org\n",
        "       Developed by https://github.com/PacktPublishing/Hands-On-Genetic-Algorithms-with-Python/blob/master/Chapter04/knapsack.py\n",
        "       Translated to portuguese by Yohan Gumiel\n",
        "    \"\"\"\n",
        "\n",
        "    def __init__(self):\n",
        "\n",
        "        # initialize instance variables:\n",
        "        self.items = []\n",
        "        self.maxCapacity = 0\n",
        "\n",
        "        # initialize the data:\n",
        "        self.__initData()\n",
        "\n",
        "    def __len__(self):\n",
        "        \"\"\"\n",
        "        :return: the total number of items defined in the problem\n",
        "        \"\"\"\n",
        "        return len(self.items)\n",
        "\n",
        "    def __initData(self):\n",
        "        \"\"\"initializes the RosettaCode.org knapsack 0-1 problem data\n",
        "        \"\"\"\n",
        "        self.items = [\n",
        "            (\"mapa\", 9, 150),\n",
        "            (\"compasso\", 13, 35),\n",
        "            (\"agua\", 153, 200),\n",
        "            (\"sanduiche\", 50, 160),\n",
        "            (\"glicose\", 15, 60),\n",
        "            (\"lata\", 68, 45),\n",
        "            (\"banana\", 27, 60),\n",
        "            (\"maça\", 39, 40),\n",
        "            (\"queijo\", 23, 30),\n",
        "            (\"cerveja\", 52, 10),\n",
        "            (\"proteção solar\", 11, 70),\n",
        "            (\"camera\", 32, 30),\n",
        "            (\"camisa\", 24, 15),\n",
        "            (\"calças\", 48, 10),\n",
        "            (\"guarda-chuva\", 73, 40),\n",
        "            (\"calças a prova d'agua\", 42, 70),\n",
        "            (\"roupas a prova d'agua\", 43, 75),\n",
        "            (\"carteira\", 22, 80),\n",
        "            (\"oculos de sol\", 7, 20),\n",
        "            (\"toalha\", 18, 12),\n",
        "            (\"meias\", 4, 50),\n",
        "            (\"livro\", 30, 10)\n",
        "        ]\n",
        "\n",
        "        self.maxCapacity = 400\n",
        "\n",
        "    def getValue(self, zeroOneList):\n",
        "        \"\"\"\n",
        "        Calculates the value of the selected items in the list, while ignoring items that will cause the accumulating weight to exceed the maximum weight\n",
        "        :param zeroOneList: a list of 0/1 values corresponding to the list of the problem's items. '1' means that item was selected.\n",
        "        :return: the calculated value\n",
        "        \"\"\"\n",
        "\n",
        "        totalWeight = totalValue = 0\n",
        "\n",
        "        for i in range(len(zeroOneList)):\n",
        "            item, weight, value = self.items[i]\n",
        "            if totalWeight + weight <= self.maxCapacity:\n",
        "                totalWeight += zeroOneList[i] * weight\n",
        "                totalValue += zeroOneList[i] * value\n",
        "        return totalValue\n",
        "\n",
        "    def printItems(self, zeroOneList):\n",
        "        \"\"\"\n",
        "        Prints the selected items in the list, while ignoring items that will cause the accumulating weight to exceed the maximum weight\n",
        "        :param zeroOneList: a list of 0/1 values corresponding to the list of the problem's items. '1' means that item was selected.\n",
        "        \"\"\"\n",
        "        totalWeight = totalValue = 0\n",
        "\n",
        "        for i in range(len(zeroOneList)):\n",
        "            item, weight, value = self.items[i]\n",
        "            if totalWeight + weight <= self.maxCapacity:\n",
        "                if zeroOneList[i] > 0:\n",
        "                    totalWeight += weight\n",
        "                    totalValue += value\n",
        "                    print(\"- Adicionando {}: peso = {}, valor = {}, peso acumuculado = {}, valor acumulado = {}\".format(item, weight, value, totalWeight, totalValue))\n",
        "        print(\"- Peso total = {}, Valor total = {}\".format(totalWeight, totalValue))\n",
        "\n",
        "\n",
        "# testing the class:\n",
        "def main():\n",
        "    # create a problem instance:\n",
        "    knapsack = Knapsack01Problem()\n",
        "\n",
        "    # creaete a random solution and evaluate it:\n",
        "    randomSolution = np.random.randint(2, size=len(knapsack))\n",
        "    print(\"Solução aleatória = \")\n",
        "    print(randomSolution)\n",
        "    knapsack.printItems(randomSolution)\n",
        "\n",
        "\n",
        "if __name__ == \"__main__\":\n",
        "    main()"
      ],
      "metadata": {
        "colab": {
          "base_uri": "https://localhost:8080/"
        },
        "id": "XTIhGF9BJE1a",
        "outputId": "01835c25-224a-4582-de07-9e23c9e13c81"
      },
      "execution_count": null,
      "outputs": [
        {
          "output_type": "stream",
          "name": "stdout",
          "text": [
            "Solução aleatória = \n",
            "[0 0 0 0 0 1 0 1 0 0 0 0 1 1 0 1 1 1 1 1 1 0]\n",
            "- Adicionando lata: peso = 68, valor = 45, peso acumuculado = 68, valor acumulado = 45\n",
            "- Adicionando maça: peso = 39, valor = 40, peso acumuculado = 107, valor acumulado = 85\n",
            "- Adicionando camisa: peso = 24, valor = 15, peso acumuculado = 131, valor acumulado = 100\n",
            "- Adicionando calças: peso = 48, valor = 10, peso acumuculado = 179, valor acumulado = 110\n",
            "- Adicionando calças a prova d'agua: peso = 42, valor = 70, peso acumuculado = 221, valor acumulado = 180\n",
            "- Adicionando roupas a prova d'agua: peso = 43, valor = 75, peso acumuculado = 264, valor acumulado = 255\n",
            "- Adicionando carteira: peso = 22, valor = 80, peso acumuculado = 286, valor acumulado = 335\n",
            "- Adicionando oculos de sol: peso = 7, valor = 20, peso acumuculado = 293, valor acumulado = 355\n",
            "- Adicionando toalha: peso = 18, valor = 12, peso acumuculado = 311, valor acumulado = 367\n",
            "- Adicionando meias: peso = 4, valor = 50, peso acumuculado = 315, valor acumulado = 417\n",
            "- Peso total = 315, Valor total = 417\n"
          ]
        }
      ]
    },
    {
      "cell_type": "markdown",
      "source": [
        "## PARAMETROS DE ENTRADA"
      ],
      "metadata": {
        "id": "3_CskqS_kT-Y"
      }
    },
    {
      "cell_type": "code",
      "execution_count": null,
      "metadata": {
        "id": "FR-4Dqjcwgls"
      },
      "outputs": [],
      "source": [
        "from deap import base\n",
        "from deap import creator\n",
        "from deap import tools\n",
        "from deap import algorithms\n",
        "\n",
        "import random\n",
        "import numpy\n",
        "\n",
        "import matplotlib.pyplot as plt\n",
        "import seaborn as sns\n",
        "\n"
      ]
    },
    {
      "cell_type": "code",
      "source": [
        "knapsack = Knapsack01Problem()\n",
        "\n",
        "LENGTH = len(knapsack)  # tamanho do vetor a ser otimizado (tamanho 22)\n",
        "\n",
        "POPULATION_SIZE = 200 # tamanho da população\n",
        "P_CROSSOVER = 0.9  # probabilidade de um crossover\n",
        "P_MUTATION = 0.1   # probabilidade de uma mutação\n",
        "MAX_GENERATIONS = 50 # número máximo de gerações (quantidade de ciclos do algoritmo)\n",
        "HALL_OF_FAME_SIZE = 1 # mantém a melhor solução encontrada, mesmo se acabar sendo perdida durante as gerações \n",
        "\n",
        "\n",
        "RANDOM_SEED = 42 # para replicabilidade\n",
        "random.seed(RANDOM_SEED)"
      ],
      "metadata": {
        "id": "Ey5Tf9mPhfXm"
      },
      "execution_count": null,
      "outputs": []
    },
    {
      "cell_type": "markdown",
      "source": [
        "## FUNÇÕES\n",
        "\n",
        "https://deap.readthedocs.io/en/master/tutorials/basic/part1.html"
      ],
      "metadata": {
        "id": "mCKDXarkk0V0"
      }
    },
    {
      "cell_type": "markdown",
      "source": [
        "Vetor de 22 elementos com valores entre 0 e 1:\n",
        " [0, 1, 0, 1, ........., 1]"
      ],
      "metadata": {
        "id": "MuE8Vq1Sl2du"
      }
    },
    {
      "cell_type": "markdown",
      "source": [
        "## Fitness"
      ],
      "metadata": {
        "id": "2H_8dhouq-0p"
      }
    },
    {
      "cell_type": "code",
      "source": [
        "# define que teremos uma única função objetivo, maximizando o fitness\n",
        "\n",
        "\n",
        "creator.create(\"FitnessMax\", base.Fitness, weights=(1.0,))\n",
        "\n",
        "# exemplo de minimização do fitness\n",
        "# creator.create(\"FitnessMin\", base.Fitness, weights=(-1.0,))"
      ],
      "metadata": {
        "id": "f9eYREDipq8y"
      },
      "execution_count": null,
      "outputs": []
    },
    {
      "cell_type": "markdown",
      "source": [
        "### Indivíduos"
      ],
      "metadata": {
        "id": "pZ4FrZbLrCJq"
      }
    },
    {
      "cell_type": "code",
      "source": [
        "# o indivíduo é composto de uma lista, herdando do tipo de dado LISTA, tendo um atributo de fitness\n",
        "\n",
        "creator.create(\"Individual\", list, fitness = creator.FitnessMax)"
      ],
      "metadata": {
        "id": "xE6iqDClrBGg"
      },
      "execution_count": null,
      "outputs": []
    },
    {
      "cell_type": "code",
      "source": [
        "toolbox = base.Toolbox()\n",
        "\n",
        "# são criadas duas funções/comandos na toolbox \"zeroOrOne\" e \"individualCreator\"\n",
        "\n",
        "# operador que retorna 0 ou 1, é usado para criar a população\n",
        "toolbox.register(\"zeroOrOne\", random.randint, 0, 1) # random.randint(0,1)\n",
        "\n",
        "# operador que preenche os dados do indivíduo\n",
        "# initRepeat() - chama a função N vezes e retorna o resultado em um container do tipo container\n",
        "\n",
        "toolbox.register(\"individualCreator\", tools.initRepeat, creator.Individual, toolbox.zeroOrOne, LENGTH) # LENGTH"
      ],
      "metadata": {
        "id": "IwgoRNjtiq6R"
      },
      "execution_count": null,
      "outputs": []
    },
    {
      "cell_type": "markdown",
      "source": [
        "### População"
      ],
      "metadata": {
        "id": "k58fAzjStPyw"
      }
    },
    {
      "cell_type": "code",
      "source": [
        "# create the population operator to generate a list of individuals:\n",
        "toolbox.register(\"populationCreator\", tools.initRepeat, list, toolbox.individualCreator)\n",
        "\n"
      ],
      "metadata": {
        "id": "rZXY03KbjiLE"
      },
      "execution_count": null,
      "outputs": []
    },
    {
      "cell_type": "code",
      "source": [
        "toolbox.populationCreator(n=2)"
      ],
      "metadata": {
        "colab": {
          "base_uri": "https://localhost:8080/"
        },
        "id": "A3QP5jVUmOqd",
        "outputId": "c615b038-0628-4696-b3fc-39d10512cdac"
      },
      "execution_count": null,
      "outputs": [
        {
          "output_type": "execute_result",
          "data": {
            "text/plain": [
              "[[0, 0, 1, 0, 0, 0, 0, 0, 1, 0, 0, 0, 0, 0, 0, 0, 1, 0, 1, 1, 0, 0],\n",
              " [1, 1, 1, 0, 0, 1, 0, 0, 1, 0, 1, 1, 1, 0, 1, 0, 1, 0, 1, 1, 0, 0]]"
            ]
          },
          "metadata": {},
          "execution_count": 9
        }
      ]
    },
    {
      "cell_type": "code",
      "source": [
        "len(toolbox.populationCreator(n=2))"
      ],
      "metadata": {
        "colab": {
          "base_uri": "https://localhost:8080/"
        },
        "id": "G0meyEfKtkiD",
        "outputId": "3d0a86ae-ee30-491d-fe52-17bd991274b2"
      },
      "execution_count": null,
      "outputs": [
        {
          "output_type": "execute_result",
          "data": {
            "text/plain": [
              "2"
            ]
          },
          "metadata": {},
          "execution_count": 10
        }
      ]
    },
    {
      "cell_type": "code",
      "source": [
        "len(toolbox.populationCreator(n=2)[0])"
      ],
      "metadata": {
        "colab": {
          "base_uri": "https://localhost:8080/"
        },
        "id": "-dKYneKKtsvi",
        "outputId": "c9b82a16-e6c1-4be2-8920-279acb4b0e01"
      },
      "execution_count": null,
      "outputs": [
        {
          "output_type": "execute_result",
          "data": {
            "text/plain": [
              "22"
            ]
          },
          "metadata": {},
          "execution_count": 11
        }
      ]
    },
    {
      "cell_type": "markdown",
      "source": [
        "### Função de fitness"
      ],
      "metadata": {
        "id": "n-sMV7aKtxEu"
      }
    },
    {
      "cell_type": "code",
      "source": [
        "# soma todos os valores dos vetores (valor máximo da soma igual a 100)\n",
        "#def oneMaxFitness(individual):\n",
        "#    return sum(individual),\n",
        "\n",
        "# calculo do fitness\n",
        "def knapsackValue(individual):\n",
        "    return knapsack.getValue(individual),"
      ],
      "metadata": {
        "id": "tm08o5dQt2Rz"
      },
      "execution_count": null,
      "outputs": []
    },
    {
      "cell_type": "code",
      "source": [
        "\n",
        "toolbox.register(\"evaluate\", knapsackValue) # indicando a operador para avaliação"
      ],
      "metadata": {
        "id": "VrxeQ6PFvjjR"
      },
      "execution_count": null,
      "outputs": []
    },
    {
      "cell_type": "markdown",
      "source": [
        "### Operadores Genéticos"
      ],
      "metadata": {
        "id": "IrIwyTAmuOm_"
      }
    },
    {
      "cell_type": "code",
      "source": [
        "toolbox.register(\"select\", tools.selTournament, tournsize=3) # seleção por torneio\n",
        "\n",
        "toolbox.register(\"mate\", tools.cxOnePoint) # cruzamento de um ponto único\n",
        "\n",
        "# mutação por rotação de bit, com a probabilidade de mudança de cada atributo sendo definida por indpd\n",
        "\n",
        "toolbox.register(\"mutate\", tools.mutFlipBit, indpb=1.0/LENGTH) # LENGTH\n",
        "\n",
        "# documentação: os nomes usuais para ferramentas evolucionárias são mate(), mutate(), evaluate() e select ()\n"
      ],
      "metadata": {
        "id": "cE3nqTt0ik3Y"
      },
      "execution_count": null,
      "outputs": []
    },
    {
      "cell_type": "markdown",
      "source": [
        "## ALGORITMO"
      ],
      "metadata": {
        "id": "OPjGC5FU0d-g"
      }
    },
    {
      "cell_type": "code",
      "source": [
        "# cria uma população inicial (geração 0)\n",
        "population = toolbox.populationCreator(n=POPULATION_SIZE)\n",
        "\n",
        "# seleciona quais estatísticas necessitamos\n",
        "stats = tools.Statistics(lambda ind: ind.fitness.values)\n",
        "stats.register(\"max\", numpy.max)\n",
        "stats.register(\"avg\", numpy.mean)\n",
        "\n",
        "# cria o objeto do hall da fama:\n",
        "hof = tools.HallOfFame(HALL_OF_FAME_SIZE)\n",
        "\n",
        "# roda o algoritmo genético\n",
        "population, logbook = algorithms.eaSimple(population, toolbox, cxpb= P_CROSSOVER, mutpb= P_MUTATION, ngen= MAX_GENERATIONS, \n",
        "                                          stats= stats, halloffame = hof, verbose= True) # mudança no hof\n"
      ],
      "metadata": {
        "colab": {
          "base_uri": "https://localhost:8080/"
        },
        "id": "v8BMCgowujB_",
        "outputId": "37f517a1-adbe-43a0-cf15-0c847351efa0"
      },
      "execution_count": null,
      "outputs": [
        {
          "output_type": "stream",
          "name": "stdout",
          "text": [
            "gen\tnevals\tmax\tavg    \n",
            "0  \t200   \t895\t573.125\n",
            "1  \t186   \t895\t688.865\n",
            "2  \t177   \t895\t763.7  \n",
            "3  \t170   \t950\t806.115\n",
            "4  \t190   \t970\t831.53 \n",
            "5  \t180   \t970\t842.775\n",
            "6  \t176   \t1000\t863.225\n",
            "7  \t183   \t1000\t889.745\n",
            "8  \t180   \t1000\t913.67 \n",
            "9  \t190   \t1002\t931.965\n",
            "10 \t185   \t1002\t946.085\n",
            "11 \t176   \t1002\t957.405\n",
            "12 \t179   \t1005\t965.37 \n",
            "13 \t194   \t1005\t977.5  \n",
            "14 \t184   \t1005\t986.64 \n",
            "15 \t172   \t1005\t988.015\n",
            "16 \t191   \t1005\t991.33 \n",
            "17 \t191   \t1005\t993.065\n",
            "18 \t179   \t1002\t998.47 \n",
            "19 \t173   \t1002\t995.745\n",
            "20 \t177   \t1002\t997.87 \n",
            "21 \t181   \t1002\t996.265\n",
            "22 \t175   \t1002\t996.17 \n",
            "23 \t182   \t1002\t995.985\n",
            "24 \t187   \t1002\t999.355\n",
            "25 \t198   \t1005\t994.87 \n",
            "26 \t182   \t1002\t991.365\n",
            "27 \t182   \t1002\t997.355\n",
            "28 \t188   \t1002\t998.035\n",
            "29 \t184   \t1002\t995.85 \n",
            "30 \t181   \t1002\t997.775\n",
            "31 \t181   \t1002\t994.28 \n",
            "32 \t185   \t1002\t998.02 \n",
            "33 \t174   \t1002\t995.16 \n",
            "34 \t177   \t1002\t996.155\n",
            "35 \t186   \t1002\t994.12 \n",
            "36 \t175   \t1002\t996.775\n",
            "37 \t186   \t1002\t997.245\n",
            "38 \t182   \t1002\t997.33 \n",
            "39 \t189   \t1002\t995.875\n",
            "40 \t180   \t1002\t997.345\n",
            "41 \t187   \t1002\t998.205\n",
            "42 \t173   \t1002\t996.965\n",
            "43 \t184   \t1002\t995.54 \n",
            "44 \t183   \t1002\t995.305\n",
            "45 \t187   \t1002\t998.845\n",
            "46 \t178   \t1002\t995.995\n",
            "47 \t182   \t1002\t997.36 \n",
            "48 \t177   \t1002\t997.51 \n",
            "49 \t179   \t1002\t996.665\n",
            "50 \t182   \t1002\t997.52 \n"
          ]
        }
      ]
    },
    {
      "cell_type": "markdown",
      "source": [
        "### MELHOR SOLUÇÃO"
      ],
      "metadata": {
        "id": "jsRtqTdfT25p"
      }
    },
    {
      "cell_type": "code",
      "source": [
        "\n",
        "best = hof.items[0]\n",
        "print(\"-- Melhor resultado individual = \", best)\n",
        "print(\"-- Melhor fitness = \", best.fitness.values[0])"
      ],
      "metadata": {
        "colab": {
          "base_uri": "https://localhost:8080/"
        },
        "id": "SMHI0lFtTz_Q",
        "outputId": "a1cfb39c-912f-4ff3-db57-29aa5a3f3660"
      },
      "execution_count": null,
      "outputs": [
        {
          "output_type": "stream",
          "name": "stdout",
          "text": [
            "-- Melhor resultado individual =  [1, 0, 1, 1, 1, 0, 1, 0, 1, 0, 1, 0, 0, 0, 0, 1, 1, 1, 1, 1, 1, 1]\n",
            "-- Melhor fitness =  1005.0\n"
          ]
        }
      ]
    },
    {
      "cell_type": "code",
      "source": [
        "print(\"-- Knapsack Items = \")\n",
        "knapsack.printItems(best)"
      ],
      "metadata": {
        "colab": {
          "base_uri": "https://localhost:8080/"
        },
        "id": "L04YbJRFT9Ku",
        "outputId": "a7b7a4aa-71c8-433d-a9b0-331a7c9e943e"
      },
      "execution_count": null,
      "outputs": [
        {
          "output_type": "stream",
          "name": "stdout",
          "text": [
            "-- Knapsack Items = \n",
            "- Adicionando mapa: peso = 9, valor = 150, peso acumuculado = 9, valor acumulado = 150\n",
            "- Adicionando agua: peso = 153, valor = 200, peso acumuculado = 162, valor acumulado = 350\n",
            "- Adicionando sanduiche: peso = 50, valor = 160, peso acumuculado = 212, valor acumulado = 510\n",
            "- Adicionando glicose: peso = 15, valor = 60, peso acumuculado = 227, valor acumulado = 570\n",
            "- Adicionando banana: peso = 27, valor = 60, peso acumuculado = 254, valor acumulado = 630\n",
            "- Adicionando queijo: peso = 23, valor = 30, peso acumuculado = 277, valor acumulado = 660\n",
            "- Adicionando proteção solar: peso = 11, valor = 70, peso acumuculado = 288, valor acumulado = 730\n",
            "- Adicionando calças a prova d'agua: peso = 42, valor = 70, peso acumuculado = 330, valor acumulado = 800\n",
            "- Adicionando roupas a prova d'agua: peso = 43, valor = 75, peso acumuculado = 373, valor acumulado = 875\n",
            "- Adicionando carteira: peso = 22, valor = 80, peso acumuculado = 395, valor acumulado = 955\n",
            "- Adicionando meias: peso = 4, valor = 50, peso acumuculado = 399, valor acumulado = 1005\n",
            "- Peso total = 399, Valor total = 1005\n"
          ]
        }
      ]
    },
    {
      "cell_type": "markdown",
      "source": [
        "## ESTATÍSTICAS"
      ],
      "metadata": {
        "id": "-rb2PkP_zfhl"
      }
    },
    {
      "cell_type": "code",
      "source": [
        "# estatísticas\n",
        "maxFitnessValues, meanFitnessValues = logbook.select(\"max\", \"avg\")"
      ],
      "metadata": {
        "id": "USgBXYvrvTz7"
      },
      "execution_count": null,
      "outputs": []
    },
    {
      "cell_type": "code",
      "source": [
        "# gráfico:\n",
        "sns.set_style(\"whitegrid\")\n",
        "plt.plot(maxFitnessValues, color='red')\n",
        "plt.plot(meanFitnessValues, color='green')\n",
        "plt.xlabel('Geração')\n",
        "plt.ylabel('Valores de fitness')\n",
        "plt.show()"
      ],
      "metadata": {
        "colab": {
          "base_uri": "https://localhost:8080/",
          "height": 279
        },
        "id": "9Ja-DwXWzkBj",
        "outputId": "c2a108d7-ac31-4f3c-d188-f1c91d0db7cb"
      },
      "execution_count": null,
      "outputs": [
        {
          "output_type": "display_data",
          "data": {
            "image/png": "[encoded data removed]",
            "text/plain": [
              "<Figure size 432x288 with 1 Axes>"
            ]
          },
          "metadata": {}
        }
      ]
    },
    {
      "cell_type": "code",
      "source": [
        ""
      ],
      "metadata": {
        "id": "hLxleNtZy37O"
      },
      "execution_count": null,
      "outputs": []
    }
  ]
}