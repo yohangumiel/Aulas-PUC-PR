{
  "nbformat": 4,
  "nbformat_minor": 0,
  "metadata": {
    "colab": {
      "name": "Aula 2 - chatbot FAQ banco.ipynb",
      "provenance": [],
      "collapsed_sections": [],
      "include_colab_link": true
    },
    "kernelspec": {
      "name": "python3",
      "display_name": "Python 3"
    },
    "language_info": {
      "name": "python"
    }
  },
  "cells": [
    {
      "cell_type": "markdown",
      "metadata": {
        "id": "view-in-github",
        "colab_type": "text"
      },
      "source": [
        "<a href=\"https://colab.research.google.com/github/yohangumiel/Aulas-PUC-PR/blob/main/Agentes%20Conversacionais/Aula_2_chatbot_FAQ_banco.ipynb\" target=\"_parent\"><img src=\"https://colab.research.google.com/assets/colab-badge.svg\" alt=\"Open In Colab\"/></a>"
      ]
    },
    {
      "cell_type": "markdown",
      "metadata": {
        "id": "LZoTRNiT0p2d"
      },
      "source": [
        "# **Chatbot de FAQ bancário**.\n",
        "\n",
        "## Adaptação voltada para responder alguns dos tópicos propostos no código disponível em: https://colab.research.google.com/drive/10XnyVjbKMftXEmpztTZZje-4HwtKBlrO\n",
        "\n",
        "## Código desenvolvido por Prof. [Lucas Oliveira](https://www.linkedin.com/in/lucassilvaoliveira/) (PUC-PR) e Prof. [Yohan Gumiel](https://www.linkedin.com/in/yohan-gumiel-93b33b95/) (PUC-PR/UFMG)\n",
        "\n",
        "\n",
        "\n",
        "\n",
        "\n",
        "\n",
        "\n"
      ]
    },
    {
      "cell_type": "markdown",
      "metadata": {
        "id": "CVhb9sPdK739"
      },
      "source": [
        "## TAREFAS QUE SERÃO IMPLEMENTADAS DURANTE O CÓDIGO:\n",
        "\n",
        "\n",
        "1.   Organizar melhor o chatbot ao utilizar uma função única para gerenciamento de diálogos, removendo, assim, as funções de controle de saudações, agradecimento e despedidas.\n",
        "2.   Atualmente, o corpus de FAQ contém apenas as respostas possíveis. Poderíamos adicionar a ele as perguntas relativas a cada resposta, de modo a verificar a similaridade entre a pergunta feita pelo usuário e a pergunta do FAQ, e não com a possível resposta. Com isso, espera-se que o chatbot seja mais preciso ao encontrar respostas, pois a similaridade encontrada tenderá a ser maior.\n",
        "3. Utilizar web scraping para montar corpus de FAQ automaticamente, ao ler todas as perguntas e respostas diretamente do site do banco\n"
      ]
    },
    {
      "cell_type": "markdown",
      "metadata": {
        "id": "cS70TEjX1HDP"
      },
      "source": [
        "### Implementação utilizada - [Chatbot](https://github.com/kunkaweb/Chatbot)\n",
        "Este chatbot é **híbrido**, que utiliza-se de regras e dados em um corpus. Ele faz uso de tecnicas básicas de Processamento de Linguagem Natural, implementadas nas bibliotecas **nltk** e **scikit-learn**."
      ]
    },
    {
      "cell_type": "code",
      "metadata": {
        "colab": {
          "base_uri": "https://localhost:8080/"
        },
        "id": "TEG1MnWszdEa",
        "outputId": "c9e3cc94-d282-4581-a0da-72f0b62a59f3"
      },
      "source": [
        "import nltk\n",
        "import numpy as np\n",
        "import random\n",
        "import string \n",
        "import warnings\n",
        "import os\n",
        "import re\n",
        "\n",
        "from sklearn.feature_extraction.text import TfidfVectorizer\n",
        "from sklearn.metrics.pairwise import cosine_similarity\n",
        "\n",
        "nltk.download('punkt'); \n",
        "nltk.download('wordnet');\n",
        "nltk.download('rslp')\n",
        "nltk.download('stopwords')\n",
        "\n",
        "# Define se imprimirá em tela informações de DEBUG\n",
        "IS_DEBUG = False"
      ],
      "execution_count": 1,
      "outputs": [
        {
          "output_type": "stream",
          "text": [
            "[nltk_data] Downloading package punkt to /root/nltk_data...\n",
            "[nltk_data]   Unzipping tokenizers/punkt.zip.\n",
            "[nltk_data] Downloading package wordnet to /root/nltk_data...\n",
            "[nltk_data]   Unzipping corpora/wordnet.zip.\n",
            "[nltk_data] Downloading package rslp to /root/nltk_data...\n",
            "[nltk_data]   Unzipping stemmers/rslp.zip.\n",
            "[nltk_data] Downloading package stopwords to /root/nltk_data...\n",
            "[nltk_data]   Unzipping corpora/stopwords.zip.\n"
          ],
          "name": "stdout"
        }
      ]
    },
    {
      "cell_type": "code",
      "metadata": {
        "colab": {
          "base_uri": "https://localhost:8080/"
        },
        "id": "FuzlXmpEBxAD",
        "outputId": "4461b114-d667-4b3b-958e-cb835494016b"
      },
      "source": [
        "!git clone https://github.com/kunkaweb/Chatbot.git"
      ],
      "execution_count": 2,
      "outputs": [
        {
          "output_type": "stream",
          "text": [
            "Cloning into 'Chatbot'...\n",
            "remote: Enumerating objects: 25, done.\u001b[K\n",
            "remote: Counting objects: 100% (7/7), done.\u001b[K\n",
            "remote: Compressing objects: 100% (6/6), done.\u001b[K\n",
            "remote: Total 25 (delta 1), reused 6 (delta 1), pack-reused 18\u001b[K\n",
            "Unpacking objects: 100% (25/25), done.\n"
          ],
          "name": "stdout"
        }
      ]
    },
    {
      "cell_type": "markdown",
      "metadata": {
        "id": "urufmfDx2SuB"
      },
      "source": [
        "#### Carregando corpus do FAQ\n",
        "Aqui nós carregamos um corpus com as perguntas frequentes do banco, disponíveis em arquivo texto. Este documento pode ser editado a qualquer momento, seja para inserir novas questões, ou apagar e editar questões já existentes."
      ]
    },
    {
      "cell_type": "code",
      "metadata": {
        "id": "zMYxvUS22uGI"
      },
      "source": [
        "# Abre arquivo e coloca em minúsculas\n",
        "f = open('Chatbot/faq-corpus.txt','r')\n",
        "raw = f.read().lower()\n",
        "\n",
        "# Segmenta sentenças e tokeniza o corpus\n",
        "sent_tokens = nltk.sent_tokenize(raw)\n",
        "word_tokens = nltk.word_tokenize(raw)"
      ],
      "execution_count": 4,
      "outputs": []
    },
    {
      "cell_type": "code",
      "metadata": {
        "colab": {
          "base_uri": "https://localhost:8080/"
        },
        "id": "O6WcX-9bCzzU",
        "outputId": "f1537bbe-c764-4c1f-8efb-5226e99bff75"
      },
      "source": [
        "print('tamanho da lista: ', len(sent_tokens),'\\n\\n')\n",
        "for item in sent_tokens:\n",
        "    print(item,'\\n')"
      ],
      "execution_count": 5,
      "outputs": [
        {
          "output_type": "stream",
          "text": [
            "tamanho da lista:  6 \n",
            "\n",
            "\n",
            "você pode abrir sua conta em uma de nossas agências ou unidades do correspondente mais bb e banco postal. \n",
            "\n",
            "menores de 18 anos (não emancipados) deverão comparecer à agência acompanhados do responsável legal, munidos dos respectivos documentos. \n",
            "\n",
            "os documentos necessários são cpf, documento de identificação original com foto, comprovante de endereço e renda atualizados (até 90 dias), caso não possua comprovante de residência no próprio nome, é aceita declaração do titular do comprovante com firma reconhecida em cartório. \n",
            "\n",
            "é necessário que você e as pessoas que serão incluídas compareçam à agência, todos os titulares devem apresentar: cpf, documento de identificação original com foto, comprovantes de endereço e renda atualizados (ambos com validade de até 90 dias). \n",
            "\n",
            "sim, será necessário que todos assinem documento específico disponibilizado na agência que mantém a conta ou que estejam presentes e façam a concordância formal mediante carta própria assinada por todos. \n",
            "\n",
            "tomar conhecimento das tarifas cobradas pela aquisição e utilização de produtos e serviços, conforme tabela de tarifas disponível no portal do banco do brasil e afixada nas agências em local visível. \n",
            "\n"
          ],
          "name": "stdout"
        }
      ]
    },
    {
      "cell_type": "markdown",
      "metadata": {
        "id": "Lj-r6fM95Yrh"
      },
      "source": [
        "#### Normalização e redução de dimensionalidade\n",
        "Aqui definimos funções que utilizam o processo de Stemming nos textos, para normalizar termos similares a uma única forma. Exemplo: \"gato\", \"gatos\", \"gata\" e \"gatas\" são normalizados para \"gat\"."
      ]
    },
    {
      "cell_type": "code",
      "metadata": {
        "id": "bZ8-WJoX5Yyo",
        "colab": {
          "base_uri": "https://localhost:8080/"
        },
        "outputId": "628cc206-1652-4b2f-c079-813208f6d46a"
      },
      "source": [
        "stemmer = nltk.stem.RSLPStemmer()\n",
        "\n",
        "def LemTokens(tokens):\n",
        "    return [stemmer.stem(token) for token in tokens]\n",
        "\n",
        "remove_punct_dict = dict((ord(punct), None) for punct in string.punctuation)\n",
        "\n",
        "def LemNormalize(text):\n",
        "    return LemTokens(nltk.word_tokenize(text.lower().translate(remove_punct_dict)))\n",
        "\n",
        "LemNormalize('oi como você vai.!!! nada, então')"
      ],
      "execution_count": 6,
      "outputs": [
        {
          "output_type": "execute_result",
          "data": {
            "text/plain": [
              "['oi', 'com', 'voc', 'vai', 'nad', 'ent']"
            ]
          },
          "metadata": {
            "tags": []
          },
          "execution_count": 6
        }
      ]
    },
    {
      "cell_type": "code",
      "metadata": {
        "colab": {
          "base_uri": "https://localhost:8080/"
        },
        "id": "TpV1v2e3TIig",
        "outputId": "80782491-6691-4a1b-f7f1-66be619d895a"
      },
      "source": [
        "LemNormalize('estudar estudo estudamos estudei')"
      ],
      "execution_count": 7,
      "outputs": [
        {
          "output_type": "execute_result",
          "data": {
            "text/plain": [
              "['estud', 'estud', 'estud', 'estud']"
            ]
          },
          "metadata": {
            "tags": []
          },
          "execution_count": 7
        }
      ]
    },
    {
      "cell_type": "markdown",
      "metadata": {
        "id": "wLhPr_MR8pGb"
      },
      "source": [
        "## **Primeira tarefa**: Poderíamos organizar melhor nosso chatbot ao utilizar uma **função única para gerenciamento de diálogos**, assim poderíamos remover as funções de controle de saudações, agradecimento e despedidas.\n",
        "\n",
        "#### **Resposta**: A função dialog mostrada abaixo gerencia todos os diálogos, e usa de expressões regulares para buscar ocorrências das saudações, agradecimentos e despedidas na string (entrada)\n",
        "\n",
        "2.   Atualmente, o corpus de FAQ contém apenas as respostas possíveis. Poderíamos adicionar a ele as perguntas relativas a cada resposta, de modo a verificar a similaridade entre a pergunta feita pelo usuário e a pergunta do FAQ, e não com a possível resposta. Com isso, espera-se que o chatbot seja mais preciso ao encontrar respostas, pois a similaridade encontrada tenderá a ser maior.\n",
        "3. Utilizar web scraping para montar corpus de FAQ automaticamente, ao ler todas as perguntas e respostas diretamente do site do banco\n",
        "\n"
      ]
    },
    {
      "cell_type": "code",
      "metadata": {
        "id": "18goB6e0EkIg"
      },
      "source": [
        "saudacoes = (\"olá\", \"oi\", \"ei\", \"blz\", \"bom dia\", \"boa tarde\", \"boa noite\")\n",
        "agradecimentos = (\"obrigado\", \"muito obrigado\", \"obrigada\", \"muito obrigada\", \"agradecido\", \"agradecida\")\n",
        "despedidas = (\"tchau\", \"até logo\", \"fui\", \"adeus\", \"até mais\")\n",
        "\n",
        "respostas_bot = (\"Oi\", \"Olá\")\n",
        "\n",
        "def dialog(sentence):\n",
        "    saudacao_bool = False\n",
        "    agradecimento_bool = False\n",
        "    despedida_bool = False\n",
        "\n",
        "    for saudacao in saudacoes:\n",
        "        if re.findall(r'\\b' + saudacao + r'\\b', sentence):\n",
        "            saudacao_bool = True\n",
        "            break\n",
        "\n",
        "    for agradecimento in agradecimentos:\n",
        "        if re.findall(r'\\b' + agradecimento + r'\\b', sentence):\n",
        "            agradecimento_bool = True\n",
        "            break\n",
        "\n",
        "    for despedida in despedidas:\n",
        "        if re.findall(r'\\b' + despedida + r'\\b', sentence):\n",
        "            despedida_bool = True\n",
        "            break\n",
        "\n",
        "    return saudacao_bool, agradecimento_bool, despedida_bool\n",
        "\n"
      ],
      "execution_count": 8,
      "outputs": []
    },
    {
      "cell_type": "code",
      "metadata": {
        "colab": {
          "base_uri": "https://localhost:8080/"
        },
        "id": "sUtBgbcMWXFu",
        "outputId": "da12091a-c8c7-488d-dac5-d2bffb4b9d99"
      },
      "source": [
        "dialog('oi tudo bem?')"
      ],
      "execution_count": 9,
      "outputs": [
        {
          "output_type": "execute_result",
          "data": {
            "text/plain": [
              "(True, False, False)"
            ]
          },
          "metadata": {
            "tags": []
          },
          "execution_count": 9
        }
      ]
    },
    {
      "cell_type": "code",
      "metadata": {
        "colab": {
          "base_uri": "https://localhost:8080/"
        },
        "id": "vSK7UNF-WaRE",
        "outputId": "a8c02e71-027e-48b1-8fa4-3077e4573063"
      },
      "source": [
        "dialog('oi obrigado tchau')"
      ],
      "execution_count": 10,
      "outputs": [
        {
          "output_type": "execute_result",
          "data": {
            "text/plain": [
              "(True, True, True)"
            ]
          },
          "metadata": {
            "tags": []
          },
          "execution_count": 10
        }
      ]
    },
    {
      "cell_type": "code",
      "metadata": {
        "colab": {
          "base_uri": "https://localhost:8080/"
        },
        "id": "35CNaMZOWcec",
        "outputId": "753dc483-cdfb-4f1c-c5bc-cc2bc535d016"
      },
      "source": [
        "dialog('até mais, muito obrigado')"
      ],
      "execution_count": 11,
      "outputs": [
        {
          "output_type": "execute_result",
          "data": {
            "text/plain": [
              "(False, True, True)"
            ]
          },
          "metadata": {
            "tags": []
          },
          "execution_count": 11
        }
      ]
    },
    {
      "cell_type": "code",
      "metadata": {
        "colab": {
          "base_uri": "https://localhost:8080/"
        },
        "id": "A4mTpyfRWgx7",
        "outputId": "4a6c13d4-7765-43ba-8aa5-3c99e92862eb"
      },
      "source": [
        "dialog('bom dia queria informações')"
      ],
      "execution_count": 12,
      "outputs": [
        {
          "output_type": "execute_result",
          "data": {
            "text/plain": [
              "(True, False, False)"
            ]
          },
          "metadata": {
            "tags": []
          },
          "execution_count": 12
        }
      ]
    },
    {
      "cell_type": "markdown",
      "metadata": {
        "id": "OAkNu6CZ7MPi"
      },
      "source": [
        "#### Controle de respostas\n",
        "Definimos uma função para controlar as respostas dadas ao usuário. Para tal, utilizamos a métrica do **TF-IDF** e a **similaridade de cosseno**, para encontrar em nosso corpus a resposta que mais se encaixa na pergunta feita pelo usuário, ou seja, **a resposta cujo texto seja mais similar ao texto da pergunta**."
      ]
    },
    {
      "cell_type": "code",
      "metadata": {
        "id": "-EA2vt-17MYj"
      },
      "source": [
        "IS_DEBUG = False\n",
        "\n",
        "def response(user_response):\n",
        "    warnings.simplefilter('ignore')\n",
        "    robo_response=''\n",
        "    \n",
        "    # Cria uma lista contendo todas sentenças do corpus + a sentença enviada pelo usuário. Assim geramos o TF-IDF de tudo.\n",
        "    sentencas = sent_tokens + [user_response]\n",
        "    # print(sentencas)\n",
        "\n",
        "    # Inicia tranformação do texto em uma matriz TF-IDF - normaliza texto e retira stop-words\n",
        "    TfidfVec = TfidfVectorizer(tokenizer=LemNormalize, stop_words=nltk.corpus.stopwords.words('portuguese'))\n",
        "\n",
        "    tfidf = TfidfVec.fit_transform(sentencas)\n",
        "    # Efetua cálculo de similaridade de cosseno entre o texto do usuário, e as sentenças do corpus\n",
        "    vals = cosine_similarity(tfidf[-1], tfidf)\n",
        "    # Obtém índice/posição da termo com maior grau de similaridade com o texto do usuário\n",
        "    idx = vals.argsort()[0][-2]\n",
        "    # Ordena vetor de similaridade\n",
        "    flat = vals.flatten()\n",
        "    flat.sort()\n",
        "    # Obtém o valor de similaridade do penúltimo item no vetor\n",
        "    # Pois o último item é o próprio texto do usuário, que obtém sempre grau máximo de similaridade\n",
        "    # Portanto, obtemos a segunda maior similaridade, pois não queremos o próprio texto enviado pelo usuário\n",
        "    req_tfidf = flat[-2]\n",
        "\n",
        "    if IS_DEBUG:\n",
        "      print(\"Vetor de similaridade (último valor é o próprio texto do usuário): \")\n",
        "      print(vals)\n",
        "      print(\"Índice da maior similaridade: \")\n",
        "      print(idx)\n",
        "      print(\"Vetor de similaridade ordenado: \")\n",
        "      print(flat)\n",
        "      print(\"Similaridade da sentença mais similar encontrada: \")\n",
        "      print(req_tfidf)\n",
        "\n",
        "    # Caso não seja encontrada similaridade para nenhum item do corpus\n",
        "    if(req_tfidf==0):\n",
        "        robo_response=robo_response+\"Você poderia reformular sua pergunta?\"\n",
        "        return robo_response\n",
        "    else:\n",
        "        robo_response = robo_response+sent_tokens[idx]\n",
        "        return robo_response\n"
      ],
      "execution_count": 13,
      "outputs": []
    },
    {
      "cell_type": "code",
      "metadata": {
        "colab": {
          "base_uri": "https://localhost:8080/",
          "height": 35
        },
        "id": "xR505Db9TWT8",
        "outputId": "7649cf6b-7cf2-444b-bd17-cab39ecb0035"
      },
      "source": [
        "response('oi')"
      ],
      "execution_count": 14,
      "outputs": [
        {
          "output_type": "execute_result",
          "data": {
            "application/vnd.google.colaboratory.intrinsic+json": {
              "type": "string"
            },
            "text/plain": [
              "'Você poderia reformular sua pergunta?'"
            ]
          },
          "metadata": {
            "tags": []
          },
          "execution_count": 14
        }
      ]
    },
    {
      "cell_type": "code",
      "metadata": {
        "colab": {
          "base_uri": "https://localhost:8080/",
          "height": 35
        },
        "id": "M7Tq2WpQTXIB",
        "outputId": "b9c1a7ad-3f9c-4607-f705-2028d380c051"
      },
      "source": [
        "response('onde posso abrir minha conta do bb?')"
      ],
      "execution_count": 15,
      "outputs": [
        {
          "output_type": "execute_result",
          "data": {
            "application/vnd.google.colaboratory.intrinsic+json": {
              "type": "string"
            },
            "text/plain": [
              "'você pode abrir sua conta em uma de nossas agências ou unidades do correspondente mais bb e banco postal.'"
            ]
          },
          "metadata": {
            "tags": []
          },
          "execution_count": 15
        }
      ]
    },
    {
      "cell_type": "code",
      "metadata": {
        "colab": {
          "base_uri": "https://localhost:8080/",
          "height": 52
        },
        "id": "vNFKb2tETl8E",
        "outputId": "4ce65ee7-ce7a-4268-9823-d493b9165971"
      },
      "source": [
        "response('quais documentos são necessários?')"
      ],
      "execution_count": 16,
      "outputs": [
        {
          "output_type": "execute_result",
          "data": {
            "application/vnd.google.colaboratory.intrinsic+json": {
              "type": "string"
            },
            "text/plain": [
              "'os documentos necessários são cpf, documento de identificação original com foto, comprovante de endereço e renda atualizados (até 90 dias), caso não possua comprovante de residência no próprio nome, é aceita declaração do titular do comprovante com firma reconhecida em cartório.'"
            ]
          },
          "metadata": {
            "tags": []
          },
          "execution_count": 16
        }
      ]
    },
    {
      "cell_type": "markdown",
      "metadata": {
        "id": "AWxxdt7B8PRE"
      },
      "source": [
        "#### Executando o chatbot\n",
        "Trecho de código que controla a aplicação de maneira geral. A seguir algumas perguntas que você pode fazer ao chatbot:\n",
        "\n",
        "\n",
        "\n",
        "1.   Como faço para abrir uma conta corrente?\n",
        "2.   Quais são os documentos necessários?\n",
        "3.   Do que devo tomar conhecimento?\n",
        "4.   Quero incluir outra pessoa como titular em minha conta, o que devo fazer?\n"
      ]
    },
    {
      "cell_type": "code",
      "metadata": {
        "id": "xL9rxeNP8PYd",
        "colab": {
          "base_uri": "https://localhost:8080/"
        },
        "outputId": "f70fc2f9-77df-479d-ee5a-b0625fb2cd8b"
      },
      "source": [
        "flag=True\n",
        "\n",
        "print(\"FAQBOT: Olá, eu sou o faqbot. Posso responder suas perguntas referentes a abertura de conta no banco.\")\n",
        "\n",
        "while(flag==True):\n",
        "    # Obtém entrada do usuário\n",
        "    user_response = input()\n",
        "    user_response=user_response.lower()\n",
        "\n",
        "    saudacao, agradecimento, despedida = dialog(user_response)\n",
        "\n",
        "    if despedida == False:\n",
        "        if agradecimento == True:\n",
        "            flag = False\n",
        "            print(\"FAQBOT: Disponha. Estou aqui para lhe ajudar.\")\n",
        "        else:\n",
        "            if saudacao == True:\n",
        "                print(\"FAQBOT: \" +  random.choice(respostas_bot))\n",
        "            else:\n",
        "                # Caso seja um pergunta válida\n",
        "                print(\"FAQBOT: \",end=\"\")\n",
        "                print('\\x1b[1;31m'+response(user_response)+'\\x1b[0m')\n",
        "    else:\n",
        "        flag = False\n",
        "        print(\"FAQBOT: Até mais!\")\n"
      ],
      "execution_count": 18,
      "outputs": [
        {
          "output_type": "stream",
          "text": [
            "FAQBOT: Olá, eu sou o faqbot. Posso responder suas perguntas referentes a abertura de conta no banco.\n",
            "olá\n",
            "FAQBOT: Oi\n",
            "tudo bem?\n",
            "FAQBOT: \u001b[1;31mVocê poderia reformular sua pergunta?\u001b[0m\n",
            "como posso abrir uma conta?\n",
            "FAQBOT: \u001b[1;31mvocê pode abrir sua conta em uma de nossas agências ou unidades do correspondente mais bb e banco postal.\u001b[0m\n",
            "tchau\n",
            "FAQBOT: Até mais!\n"
          ],
          "name": "stdout"
        }
      ]
    },
    {
      "cell_type": "markdown",
      "metadata": {
        "id": "q-baavlgSRhB"
      },
      "source": [
        "## **Segunda tarefa**: Atualmente, o corpus de FAQ contém apenas as respostas possíveis. Poderíamos adicionar a ele as perguntas relativas a cada resposta, de modo a verificar a similaridade entre a pergunta feita pelo usuário e a pergunta do FAQ, e não com a possível resposta. Com isso, espera-se que o chatbot seja mais preciso ao encontrar respostas, pois a similaridade encontrada tenderá a ser maior.\n",
        "\n",
        "#### **Resposta**: A função dialog mostrada abaixo gerencia todos os diálogos, e usa de expressões regulares para buscar ocorrências das saudações, agradecimentos e despedidas na string (entrada)\n",
        "\n",
        "\n",
        "\n",
        "\n",
        "3. Utilizar web scraping para montar corpus de FAQ automaticamente, ao ler todas as perguntas e respostas diretamente do site do banco"
      ]
    },
    {
      "cell_type": "code",
      "metadata": {
        "id": "lGEMiNG5ScNU"
      },
      "source": [
        "import pandas as pd"
      ],
      "execution_count": 19,
      "outputs": []
    },
    {
      "cell_type": "code",
      "metadata": {
        "colab": {
          "base_uri": "https://localhost:8080/"
        },
        "id": "JUiPq53dXpU-",
        "outputId": "1a2707ff-bada-4bf2-a962-fe3cc754f1a9"
      },
      "source": [
        "!git clone https://github.com/yohangumiel/Aulas-PUC-PR"
      ],
      "execution_count": 20,
      "outputs": [
        {
          "output_type": "stream",
          "text": [
            "Cloning into 'Aulas-PUC-PR'...\n",
            "remote: Enumerating objects: 44, done.\u001b[K\n",
            "remote: Counting objects: 100% (44/44), done.\u001b[K\n",
            "remote: Compressing objects: 100% (41/41), done.\u001b[K\n",
            "remote: Total 44 (delta 11), reused 0 (delta 0), pack-reused 0\u001b[K\n",
            "Unpacking objects: 100% (44/44), done.\n"
          ],
          "name": "stdout"
        }
      ]
    },
    {
      "cell_type": "code",
      "metadata": {
        "id": "8vcOfUjiVX08"
      },
      "source": [
        "faq = pd.read_excel('Aulas-PUC-PR/Agentes Conversacionais/fag_perguntas_resposta.xlsx')\n",
        "\n",
        "perguntas = faq['Pergunta'].values.tolist()\n",
        "respostas = faq['Resposta'].values.tolist()"
      ],
      "execution_count": 21,
      "outputs": []
    },
    {
      "cell_type": "code",
      "metadata": {
        "colab": {
          "base_uri": "https://localhost:8080/",
          "height": 204
        },
        "id": "dbwM_m7DL3pR",
        "outputId": "44c1bb42-9de3-4941-e451-57e07a2e9f81"
      },
      "source": [
        "faq.head()"
      ],
      "execution_count": null,
      "outputs": [
        {
          "output_type": "execute_result",
          "data": {
            "text/html": [
              "<div>\n",
              "<style scoped>\n",
              "    .dataframe tbody tr th:only-of-type {\n",
              "        vertical-align: middle;\n",
              "    }\n",
              "\n",
              "    .dataframe tbody tr th {\n",
              "        vertical-align: top;\n",
              "    }\n",
              "\n",
              "    .dataframe thead th {\n",
              "        text-align: right;\n",
              "    }\n",
              "</style>\n",
              "<table border=\"1\" class=\"dataframe\">\n",
              "  <thead>\n",
              "    <tr style=\"text-align: right;\">\n",
              "      <th></th>\n",
              "      <th>Pergunta</th>\n",
              "      <th>Resposta</th>\n",
              "    </tr>\n",
              "  </thead>\n",
              "  <tbody>\n",
              "    <tr>\n",
              "      <th>0</th>\n",
              "      <td>Como faço para abrir uma conta corrente?</td>\n",
              "      <td>Você pode abrir sua conta em uma de nossas agê...</td>\n",
              "    </tr>\n",
              "    <tr>\n",
              "      <th>1</th>\n",
              "      <td>Quais são os principais documentos necessários...</td>\n",
              "      <td>Os documentos necessários são CPF, documento d...</td>\n",
              "    </tr>\n",
              "    <tr>\n",
              "      <th>2</th>\n",
              "      <td>Quero incluir outra pessoa como titular em min...</td>\n",
              "      <td>É necessário que você e as pessoas que serão i...</td>\n",
              "    </tr>\n",
              "    <tr>\n",
              "      <th>3</th>\n",
              "      <td>Posteriormente poderei excluir um desses titul...</td>\n",
              "      <td>Será necessário que todos assinem documento es...</td>\n",
              "    </tr>\n",
              "    <tr>\n",
              "      <th>4</th>\n",
              "      <td>Quais os cuidados que devo ter no momento da a...</td>\n",
              "      <td>Tomar conhecimento das tarifas cobradas pela a...</td>\n",
              "    </tr>\n",
              "  </tbody>\n",
              "</table>\n",
              "</div>"
            ],
            "text/plain": [
              "                                            Pergunta                                           Resposta\n",
              "0           Como faço para abrir uma conta corrente?  Você pode abrir sua conta em uma de nossas agê...\n",
              "1  Quais são os principais documentos necessários...  Os documentos necessários são CPF, documento d...\n",
              "2  Quero incluir outra pessoa como titular em min...  É necessário que você e as pessoas que serão i...\n",
              "3  Posteriormente poderei excluir um desses titul...  Será necessário que todos assinem documento es...\n",
              "4  Quais os cuidados que devo ter no momento da a...  Tomar conhecimento das tarifas cobradas pela a..."
            ]
          },
          "metadata": {
            "tags": []
          },
          "execution_count": 128
        }
      ]
    },
    {
      "cell_type": "code",
      "metadata": {
        "id": "sZffftDDV_ej",
        "colab": {
          "base_uri": "https://localhost:8080/"
        },
        "outputId": "33869a54-4f08-45e6-cc51-b6a39172608b"
      },
      "source": [
        "perguntas"
      ],
      "execution_count": 22,
      "outputs": [
        {
          "output_type": "execute_result",
          "data": {
            "text/plain": [
              "['Como faço para abrir uma conta corrente?',\n",
              " 'Quais são os principais documentos necessários para a abertura da conta?',\n",
              " 'Quero incluir outra pessoa como titular em minha conta, o que devo fazer?',\n",
              " 'Posteriormente poderei excluir um desses titulares?',\n",
              " 'Quais os cuidados que devo ter no momento da abertura da conta?']"
            ]
          },
          "metadata": {
            "tags": []
          },
          "execution_count": 22
        }
      ]
    },
    {
      "cell_type": "code",
      "metadata": {
        "id": "96neqBNHSM7Q",
        "colab": {
          "base_uri": "https://localhost:8080/"
        },
        "outputId": "093efc0c-ab35-45dd-8192-fff965cf8e49"
      },
      "source": [
        "respostas"
      ],
      "execution_count": 23,
      "outputs": [
        {
          "output_type": "execute_result",
          "data": {
            "text/plain": [
              "['Você pode abrir sua conta em uma de nossas agências ou unidades do Correspondente Mais BB e Banco Postal. Menores de 18 anos (não emancipados) deverão comparecer à agência acompanhados do responsável legal, munidos dos respectivos documentos.',\n",
              " 'Os documentos necessários são CPF, documento de identificação original com foto, comprovante de endereço e renda atualizados (até 90 dias), caso não possua comprovante de residência no próprio nome, é aceita declaração do titular do comprovante com firma reconhecida em cartório.',\n",
              " 'É necessário que você e as pessoas que serão incluídas compareçam à agência, Todos os titulares devem apresentar: CPF, documento de identificação original com foto, comprovantes de endereço e renda atualizados (ambos com validade de até 90 dias).',\n",
              " 'Será necessário que todos assinem documento específico disponibilizado na agência que mantém a conta ou que estejam presentes e façam a concordância formal mediante carta própria assinada por todos.',\n",
              " 'Tomar conhecimento das tarifas cobradas pela aquisição e utilização de produtos e serviços, conforme tabela de tarifas disponível no Portal do Banco do Brasil e afixada nas agências em local visível.']"
            ]
          },
          "metadata": {
            "tags": []
          },
          "execution_count": 23
        }
      ]
    },
    {
      "cell_type": "code",
      "metadata": {
        "id": "FV4GxNp3S29y"
      },
      "source": [
        "IS_DEBUG = False\n",
        "\n",
        "def response_v1(user_response):\n",
        "    warnings.simplefilter('ignore')\n",
        "    robo_response=''\n",
        "    \n",
        "    # Cria uma lista contendo todas sentenças do corpus + a sentença enviada pelo usuário. Assim geramos o TF-IDF de tudo.\n",
        "    sentencas = perguntas + [user_response]\n",
        "    \n",
        "    print('Perguntas disponíveis na base:\\n')\n",
        "    \n",
        "    [print(sentenca) for sentenca in sentencas[:-1]]\n",
        "\n",
        "    print('\\n\\n\\n\\n')\n",
        "    # Inicia tranformação do texto em uma matriz TF-IDF - normaliza texto e retira stop-words\n",
        "    TfidfVec = TfidfVectorizer(tokenizer=LemNormalize, stop_words=nltk.corpus.stopwords.words('portuguese'))\n",
        "\n",
        "    tfidf = TfidfVec.fit_transform(sentencas)\n",
        "    # Efetua cálculo de similaridade de cosseno entre o texto do usuário, e as sentenças do corpus\n",
        "    vals = cosine_similarity(tfidf[-1], tfidf)\n",
        "    # Obtém índice/posição da termo com maior grau de similaridade com o texto do usuário\n",
        "    idx = vals.argsort()[0][-2]\n",
        "    # Ordena vetor de similaridade\n",
        "    flat = vals.flatten()\n",
        "    flat.sort()\n",
        "    # Obtém o valor de similaridade do penúltimo item no vetor\n",
        "    # Pois o último item é o próprio texto do usuário, que obtém sempre grau máximo de similaridade\n",
        "    # Portanto, obtemos a segunda maior similaridade, pois não queremos o próprio texto enviado pelo usuário\n",
        "    req_tfidf = flat[-2]\n",
        "\n",
        "    if IS_DEBUG:\n",
        "      print(\"Vetor de similaridade (último valor é o próprio texto do usuário): \")\n",
        "      print(vals)\n",
        "      print(\"Índice da maior similaridade: \")\n",
        "      print(idx)\n",
        "      print(\"Vetor de similaridade ordenado: \")\n",
        "      print(flat)\n",
        "      print(\"Similaridade da sentença mais similar encontrada: \")\n",
        "      print(req_tfidf)\n",
        "\n",
        "    # Caso não seja encontrada similaridade para nenhum item do corpus\n",
        "    if(req_tfidf==0):\n",
        "        robo_response=robo_response+\"Você poderia reformular sua pergunta?\"\n",
        "        return robo_response\n",
        "    else:\n",
        "        robo_response = robo_response+ 'PERGUNTA SELECIONADA: ' + perguntas[idx] + ' RESPOSTA SELECIONADA: ' + respostas[idx]\n",
        "        return robo_response"
      ],
      "execution_count": 69,
      "outputs": []
    },
    {
      "cell_type": "code",
      "metadata": {
        "colab": {
          "base_uri": "https://localhost:8080/",
          "height": 256
        },
        "id": "RDpXL88NTdVv",
        "outputId": "6bc32a75-30ab-4643-eeb6-e375b8c44266"
      },
      "source": [
        "response_v1('Abrir conta bb?')"
      ],
      "execution_count": 70,
      "outputs": [
        {
          "output_type": "stream",
          "text": [
            "Perguntas disponíveis na base:\n",
            "\n",
            "Como faço para abrir uma conta corrente?\n",
            "Quais são os principais documentos necessários para a abertura da conta?\n",
            "Quero incluir outra pessoa como titular em minha conta, o que devo fazer?\n",
            "Posteriormente poderei excluir um desses titulares?\n",
            "Quais os cuidados que devo ter no momento da abertura da conta?\n",
            "\n",
            "\n",
            "\n",
            "\n",
            "\n"
          ],
          "name": "stdout"
        },
        {
          "output_type": "execute_result",
          "data": {
            "application/vnd.google.colaboratory.intrinsic+json": {
              "type": "string"
            },
            "text/plain": [
              "'PERGUNTA SELECIONADA: Como faço para abrir uma conta corrente? RESPOSTA SELECIONADA: Você pode abrir sua conta em uma de nossas agências ou unidades do Correspondente Mais BB e Banco Postal. Menores de 18 anos (não emancipados) deverão comparecer à agência acompanhados do responsável legal, munidos dos respectivos documentos.'"
            ]
          },
          "metadata": {
            "tags": []
          },
          "execution_count": 70
        }
      ]
    },
    {
      "cell_type": "code",
      "metadata": {
        "colab": {
          "base_uri": "https://localhost:8080/"
        },
        "id": "fK-z0OpCVYUp",
        "outputId": "e74fec31-58f5-47f5-8f16-8a42884ea4d2"
      },
      "source": [
        "flag=True\n",
        "\n",
        "print(\"FAQBOT: Olá, eu sou o faqbot. Posso responder suas perguntas referentes a abertura de conta no banco.\")\n",
        "\n",
        "while(flag==True):\n",
        "    # Obtém entrada do usuário\n",
        "    user_response = input()\n",
        "    user_response=user_response.lower()\n",
        "\n",
        "    saudacao, agradecimento, despedida = dialog(user_response)\n",
        "    if despedida == False:\n",
        "        if agradecimento == True:\n",
        "            flag = False\n",
        "            print(\"FAQBOT: Disponha. Estou aqui para lhe ajudar.\")\n",
        "        else:\n",
        "            if saudacao == True:\n",
        "                print(\"FAQBOT: \" +  random.choice(respostas_bot))\n",
        "            else:\n",
        "                # Caso seja um pergunta válida\n",
        "                print(\"FAQBOT: \",end=\"\")\n",
        "                print('\\x1b[1;31m'+ response_v1(user_response) +'\\x1b[0m')\n",
        "    else:\n",
        "        flag = False\n",
        "        print(\"FAQBOT: Até mais!\")"
      ],
      "execution_count": 71,
      "outputs": [
        {
          "output_type": "stream",
          "text": [
            "FAQBOT: Olá, eu sou o faqbot. Posso responder suas perguntas referentes a abertura de conta no banco.\n",
            "olá\n",
            "FAQBOT: Oi\n",
            "tudo bem?\n",
            "FAQBOT: Perguntas disponíveis na base:\n",
            "\n",
            "Como faço para abrir uma conta corrente?\n",
            "Quais são os principais documentos necessários para a abertura da conta?\n",
            "Quero incluir outra pessoa como titular em minha conta, o que devo fazer?\n",
            "Posteriormente poderei excluir um desses titulares?\n",
            "Quais os cuidados que devo ter no momento da abertura da conta?\n",
            "\n",
            "\n",
            "\n",
            "\n",
            "\n",
            "\u001b[1;31mVocê poderia reformular sua pergunta?\u001b[0m\n",
            "quero abrir uma conta?\n",
            "FAQBOT: Perguntas disponíveis na base:\n",
            "\n",
            "Como faço para abrir uma conta corrente?\n",
            "Quais são os principais documentos necessários para a abertura da conta?\n",
            "Quero incluir outra pessoa como titular em minha conta, o que devo fazer?\n",
            "Posteriormente poderei excluir um desses titulares?\n",
            "Quais os cuidados que devo ter no momento da abertura da conta?\n",
            "\n",
            "\n",
            "\n",
            "\n",
            "\n",
            "\u001b[1;31mPERGUNTA SELECIONADA: Como faço para abrir uma conta corrente? RESPOSTA SELECIONADA: Você pode abrir sua conta em uma de nossas agências ou unidades do Correspondente Mais BB e Banco Postal. Menores de 18 anos (não emancipados) deverão comparecer à agência acompanhados do responsável legal, munidos dos respectivos documentos.\u001b[0m\n",
            "tchau\n",
            "FAQBOT: Até mais!\n"
          ],
          "name": "stdout"
        }
      ]
    },
    {
      "cell_type": "markdown",
      "metadata": {
        "id": "awh16f6jNIBq"
      },
      "source": [
        "## **Terceira tarefa**: Utilizar web scraping para montar corpus de FAQ automaticamente, ao ler todas as perguntas e respostas diretamente do site do banco.\n",
        "\n",
        "#### **Resposta**: Código para scraping do FAQ do banco Itau, as perguntas \"O que compõe o valor mínimo da minha fatura?\" e \"O que é pagamento mínimo da fatura?\" levam para urls que tem formatação diferente então não foram obtidas as respostas para estas perguntas. As demais perguntas foram todas respondidas.\n",
        "\n",
        "#### Link para FAQ do banco Itau: https://www.itau.com.br/atendimento-itau/para-voce/cartao-de-credito/\n"
      ]
    },
    {
      "cell_type": "code",
      "metadata": {
        "id": "YDKewGm-Zfzh"
      },
      "source": [
        "import requests\n",
        "from bs4 import BeautifulSoup"
      ],
      "execution_count": 72,
      "outputs": []
    },
    {
      "cell_type": "code",
      "metadata": {
        "id": "xkn6xCSCehKX"
      },
      "source": [
        "import requests\n",
        "from bs4 import BeautifulSoup   \n",
        "import os\n",
        "import pandas as pd\n",
        "\n",
        "\n",
        "html_text = requests.get('https://www.itau.com.br/atendimento-itau/para-voce/cartao-de-credito/')\n",
        "soup = BeautifulSoup(html_text.text, 'lxml')\n",
        "\n",
        "lst_perguntas = []\n",
        "divisoes = soup.find_all('div', class_ = 'accordion-item section')\n",
        "\n",
        "for divisao in divisoes:\n",
        "    topicos = divisao.find_all('a')    \n",
        "    for topico in topicos:\n",
        "        link = topico.get('href')\n",
        "        pergunta = topico.text\n",
        "        if pergunta != '':\n",
        "            html_text2 = requests.get(link)\n",
        "            soup2 = BeautifulSoup(html_text2.text, 'lxml')\n",
        "            soup_text = soup2.find('div', class_ = 'richtext aem-GridColumn aem-GridColumn--default--12')\n",
        "            \n",
        "            resposta = ''\n",
        "            if soup_text != None:\n",
        "                for paragraph in soup_text.find_all('p'):\n",
        "                    resposta += paragraph.text\n",
        "        \n",
        "            resposta = resposta.replace(u'\\xa0', u' ')\n",
        "            lst_perguntas.append([pergunta, resposta, link])\n",
        "    \n",
        "\n",
        "df_perguntas = pd.DataFrame(lst_perguntas, columns = ['Pergunta','Resposta','Link'])"
      ],
      "execution_count": 73,
      "outputs": []
    },
    {
      "cell_type": "code",
      "metadata": {
        "colab": {
          "base_uri": "https://localhost:8080/",
          "height": 1000
        },
        "id": "X_h_-tr7--VM",
        "outputId": "e36735e3-10c7-4412-f30a-c298155e743f"
      },
      "source": [
        "pd.set_option(\"display.max_columns\", None)\n",
        "pd.set_option(\"display.max_rows\", None)\n",
        "\n",
        "df_perguntas.head(100)"
      ],
      "execution_count": 74,
      "outputs": [
        {
          "output_type": "execute_result",
          "data": {
            "text/html": [
              "<div>\n",
              "<style scoped>\n",
              "    .dataframe tbody tr th:only-of-type {\n",
              "        vertical-align: middle;\n",
              "    }\n",
              "\n",
              "    .dataframe tbody tr th {\n",
              "        vertical-align: top;\n",
              "    }\n",
              "\n",
              "    .dataframe thead th {\n",
              "        text-align: right;\n",
              "    }\n",
              "</style>\n",
              "<table border=\"1\" class=\"dataframe\">\n",
              "  <thead>\n",
              "    <tr style=\"text-align: right;\">\n",
              "      <th></th>\n",
              "      <th>Pergunta</th>\n",
              "      <th>Resposta</th>\n",
              "      <th>Link</th>\n",
              "    </tr>\n",
              "  </thead>\n",
              "  <tbody>\n",
              "    <tr>\n",
              "      <th>0</th>\n",
              "      <td>Onde consultar a fatura Itaucard e como saber ...</td>\n",
              "      <td>A data de fechamento da fatura varia a cada mê...</td>\n",
              "      <td>https://www.itau.com.br/atendimento-itau/para-...</td>\n",
              "    </tr>\n",
              "    <tr>\n",
              "      <th>1</th>\n",
              "      <td>Posso pagar conta com cartão de crédito?</td>\n",
              "      <td>Sim, você pode pagar conta com cartão de crédi...</td>\n",
              "      <td>https://www.itau.com.br/atendimento-itau/para-...</td>\n",
              "    </tr>\n",
              "    <tr>\n",
              "      <th>2</th>\n",
              "      <td>O que é e como funciona o pagamento por aproxi...</td>\n",
              "      <td>“Aproxime e pague” é uma funcionalidade dispo...</td>\n",
              "      <td>https://www.itau.com.br/atendimento-itau/para-...</td>\n",
              "    </tr>\n",
              "    <tr>\n",
              "      <th>3</th>\n",
              "      <td>Como cadastrar ou cancelar o debito automático...</td>\n",
              "      <td>Você, que tem conta-corrente no Itaú, pode cad...</td>\n",
              "      <td>https://www.itau.com.br/atendimento-itau/para-...</td>\n",
              "    </tr>\n",
              "    <tr>\n",
              "      <th>4</th>\n",
              "      <td>Como antecipar o pagamento de uma compra parce...</td>\n",
              "      <td>Você quer antecipar o pagamento das parcelas d...</td>\n",
              "      <td>https://www.itau.com.br/atendimento-itau/para-...</td>\n",
              "    </tr>\n",
              "    <tr>\n",
              "      <th>5</th>\n",
              "      <td>Onde posso pagar a fatura Itaú?</td>\n",
              "      <td>Pagar a fatura de cartão de credito é muito si...</td>\n",
              "      <td>https://www.itau.com.br/atendimento-itau/para-...</td>\n",
              "    </tr>\n",
              "    <tr>\n",
              "      <th>6</th>\n",
              "      <td>Como alterar a data de vencimento da fatura do...</td>\n",
              "      <td>Veja como alterar a data de vencimento da sua ...</td>\n",
              "      <td>https://www.itau.com.br/atendimento-itau/para-...</td>\n",
              "    </tr>\n",
              "    <tr>\n",
              "      <th>7</th>\n",
              "      <td>Como cadastrar a fatura digital?</td>\n",
              "      <td>Conheça a fatura digital, saiba como cadastrar...</td>\n",
              "      <td>https://www.itau.com.br/atendimento-itau/para-...</td>\n",
              "    </tr>\n",
              "    <tr>\n",
              "      <th>8</th>\n",
              "      <td>Fiz um pagamentos em duplicidade como posso re...</td>\n",
              "      <td>Veja aqui como regularizar um pagamento em dup...</td>\n",
              "      <td>https://www.itau.com.br/atendimento-itau/para-...</td>\n",
              "    </tr>\n",
              "    <tr>\n",
              "      <th>9</th>\n",
              "      <td>O que é pagamento mínimo da fatura?</td>\n",
              "      <td></td>\n",
              "      <td>https://www.itau.com.br/atendimento-itau/para-...</td>\n",
              "    </tr>\n",
              "    <tr>\n",
              "      <th>10</th>\n",
              "      <td>Como eu sei se meu cartão tem a funcionalidade...</td>\n",
              "      <td>Para saber se o seu cartão tem essa funcionali...</td>\n",
              "      <td>https://www.itau.com.br/atendimento-itau/para-...</td>\n",
              "    </tr>\n",
              "    <tr>\n",
              "      <th>11</th>\n",
              "      <td>O que compõe o valor mínimo da minha fatura?</td>\n",
              "      <td></td>\n",
              "      <td>https://www.itau.com.br/atendimento-itau/para-...</td>\n",
              "    </tr>\n",
              "    <tr>\n",
              "      <th>12</th>\n",
              "      <td>Como saber o limite do cartão de crédito e o v...</td>\n",
              "      <td>Veja como é simples conferir o seu limite do c...</td>\n",
              "      <td>https://www.itau.com.br/atendimento-itau/para-...</td>\n",
              "    </tr>\n",
              "    <tr>\n",
              "      <th>13</th>\n",
              "      <td>Como aumento o limite do meu cartão de crédito?</td>\n",
              "      <td>Você pode pedir o aumento de limite do seu car...</td>\n",
              "      <td>https://www.itau.com.br/atendimento-itau/para-...</td>\n",
              "    </tr>\n",
              "    <tr>\n",
              "      <th>14</th>\n",
              "      <td>Quanto tempo leva para o limite de crédito ser...</td>\n",
              "      <td>Quando você paga qualquer valor da sua fatura ...</td>\n",
              "      <td>https://www.itau.com.br/atendimento-itau/para-...</td>\n",
              "    </tr>\n",
              "    <tr>\n",
              "      <th>15</th>\n",
              "      <td>O que é e como funciona o aumento de limite au...</td>\n",
              "      <td>É um serviço gratuito que permite que a gente ...</td>\n",
              "      <td>https://www.itau.com.br/atendimento-itau/para-...</td>\n",
              "    </tr>\n",
              "    <tr>\n",
              "      <th>16</th>\n",
              "      <td>O que é e como funciona o aumento de limite te...</td>\n",
              "      <td>O limite temporário é um processo em que aumen...</td>\n",
              "      <td>https://www.itau.com.br/atendimento-itau/para-...</td>\n",
              "    </tr>\n",
              "    <tr>\n",
              "      <th>17</th>\n",
              "      <td>Como contrato ou cancelo a avaliação emergenci...</td>\n",
              "      <td>A Avaliação Emergencial de Crédito é um benefí...</td>\n",
              "      <td>https://www.itau.com.br/atendimento-itau/para-...</td>\n",
              "    </tr>\n",
              "    <tr>\n",
              "      <th>18</th>\n",
              "      <td>Como defino o limite de crédito para o cartão ...</td>\n",
              "      <td>Você pode definir o quanto do seu limite você ...</td>\n",
              "      <td>https://www.itau.com.br/atendimento-itau/para-...</td>\n",
              "    </tr>\n",
              "    <tr>\n",
              "      <th>19</th>\n",
              "      <td>O limite do cartão de crédito pode ser reduzido?</td>\n",
              "      <td>Sim. O limite do cartão de crédito pode ser re...</td>\n",
              "      <td>https://www.itau.com.br/atendimento-itau/para-...</td>\n",
              "    </tr>\n",
              "    <tr>\n",
              "      <th>20</th>\n",
              "      <td>Como faço o desbloqueio de cartão de débito ou...</td>\n",
              "      <td>Para a sua segurança, o seu cartão de débito o...</td>\n",
              "      <td>https://www.itau.com.br/atendimento-itau/para-...</td>\n",
              "    </tr>\n",
              "    <tr>\n",
              "      <th>21</th>\n",
              "      <td>Como faço para desbloquear meu cartão de crédito?</td>\n",
              "      <td>Para a sua segurança, seu cartão é entregue bl...</td>\n",
              "      <td>https://www.itau.com.br/atendimento-itau/para-...</td>\n",
              "    </tr>\n",
              "    <tr>\n",
              "      <th>22</th>\n",
              "      <td>Como faço para bloquear cartão de crédito, déb...</td>\n",
              "      <td>Veja como bloquear cartão de crédito, débito o...</td>\n",
              "      <td>https://www.itau.com.br/atendimento-itau/para-...</td>\n",
              "    </tr>\n",
              "    <tr>\n",
              "      <th>23</th>\n",
              "      <td>Como faço para cadastrar o aviso viagem?</td>\n",
              "      <td>Você pode fazer saques e compras no exterior c...</td>\n",
              "      <td>https://www.itau.com.br/atendimento-itau/para-...</td>\n",
              "    </tr>\n",
              "    <tr>\n",
              "      <th>24</th>\n",
              "      <td>Como pedir a segunda via do cartão?</td>\n",
              "      <td>Precisando solicitar a segunda via do seu cart...</td>\n",
              "      <td>https://www.itau.com.br/atendimento-itau/para-...</td>\n",
              "    </tr>\n",
              "    <tr>\n",
              "      <th>25</th>\n",
              "      <td>Como posso pedir um cartão de crédito do Itaú?</td>\n",
              "      <td>Para pedir o seu cartão Itaucard, é só consult...</td>\n",
              "      <td>https://www.itau.com.br/atendimento-itau/para-...</td>\n",
              "    </tr>\n",
              "    <tr>\n",
              "      <th>26</th>\n",
              "      <td>Qual o prazo de entrega após soliticar um cart...</td>\n",
              "      <td>Após solicitar cartão de crédito, débito ou mú...</td>\n",
              "      <td>https://www.itau.com.br/atendimento-itau/para-...</td>\n",
              "    </tr>\n",
              "    <tr>\n",
              "      <th>27</th>\n",
              "      <td>Onde acompanho o status do meu pedido de cartão?</td>\n",
              "      <td>Nós enviamos um e-mail com novidades sobre o s...</td>\n",
              "      <td>https://www.itau.com.br/atendimento-itau/para-...</td>\n",
              "    </tr>\n",
              "    <tr>\n",
              "      <th>28</th>\n",
              "      <td>Recebi o e-mail de aprovação, meu cartão chega...</td>\n",
              "      <td>Depois de receber o e-mail de aprovação, o car...</td>\n",
              "      <td>https://www.itau.com.br/atendimento-itau/para-...</td>\n",
              "    </tr>\n",
              "    <tr>\n",
              "      <th>29</th>\n",
              "      <td>Depois que preenchi a proposta do cartão, quan...</td>\n",
              "      <td>Quando terminar de preencher a proposta de ped...</td>\n",
              "      <td>https://www.itau.com.br/atendimento-itau/para-...</td>\n",
              "    </tr>\n",
              "    <tr>\n",
              "      <th>30</th>\n",
              "      <td>Recebi um e-mail aprovando um cartão que pedi ...</td>\n",
              "      <td>Sim, em nosso processo de análise, mesmo se vo...</td>\n",
              "      <td>https://www.itau.com.br/atendimento-itau/para-...</td>\n",
              "    </tr>\n",
              "    <tr>\n",
              "      <th>31</th>\n",
              "      <td>Recebi um e-mail de negativa mas ainda quero o...</td>\n",
              "      <td>Não se preocupe, não é necessário preencher ou...</td>\n",
              "      <td>https://www.itau.com.br/atendimento-itau/para-...</td>\n",
              "    </tr>\n",
              "    <tr>\n",
              "      <th>32</th>\n",
              "      <td>Como funciona o cartão virtual Itaú?</td>\n",
              "      <td>Conheça cartão virtual e saiba como fazer comp...</td>\n",
              "      <td>https://www.itau.com.br/atendimento-itau/para-...</td>\n",
              "    </tr>\n",
              "    <tr>\n",
              "      <th>33</th>\n",
              "      <td>Como confirmar compra com o cartão de crédito?</td>\n",
              "      <td>No app Itaucard você pode confirmar compra e v...</td>\n",
              "      <td>https://www.itau.com.br/atendimento-itau/para-...</td>\n",
              "    </tr>\n",
              "    <tr>\n",
              "      <th>34</th>\n",
              "      <td>Como fazer compras online com meu cartão?</td>\n",
              "      <td>Veja como localizar as informações do seu cart...</td>\n",
              "      <td>https://www.itau.com.br/atendimento-itau/para-...</td>\n",
              "    </tr>\n",
              "    <tr>\n",
              "      <th>35</th>\n",
              "      <td>Como recupero a senha do meu cartão de crédito...</td>\n",
              "      <td>Caso tenha bloqueado ou esquecido sua senha, f...</td>\n",
              "      <td>https://www.itau.com.br/atendimento-itau/para-...</td>\n",
              "    </tr>\n",
              "    <tr>\n",
              "      <th>36</th>\n",
              "      <td>Como altero a senha do meu cartão de crédito, ...</td>\n",
              "      <td>Se você esqueceu ou bloqueou a senha do seu ca...</td>\n",
              "      <td>https://www.itau.com.br/atendimento-itau/para-...</td>\n",
              "    </tr>\n",
              "    <tr>\n",
              "      <th>37</th>\n",
              "      <td>Como cancelar cartão de crédito do titular ou ...</td>\n",
              "      <td>Se você tem uma conta corrente no Itaú e perde...</td>\n",
              "      <td>https://www.itau.com.br/atendimento-itau/para-...</td>\n",
              "    </tr>\n",
              "    <tr>\n",
              "      <th>38</th>\n",
              "      <td>Como faço o cancelamento do cartão de crédito ...</td>\n",
              "      <td>Sentimos muito e sabemos que esse é um momento...</td>\n",
              "      <td>https://www.itau.com.br/atendimento-itau/para-...</td>\n",
              "    </tr>\n",
              "    <tr>\n",
              "      <th>39</th>\n",
              "      <td>Como fazer a renegociação da fatura do meu car...</td>\n",
              "      <td>Quando você precisa de mais tempo para colocar...</td>\n",
              "      <td>https://www.itau.com.br/atendimento-itau/para-...</td>\n",
              "    </tr>\n",
              "    <tr>\n",
              "      <th>40</th>\n",
              "      <td>Como parcelo a fatura do meu cartão de crédito?</td>\n",
              "      <td>Está precisando de um prazo maior para pagar a...</td>\n",
              "      <td>https://www.itau.com.br/atendimento-itau/para-...</td>\n",
              "    </tr>\n",
              "    <tr>\n",
              "      <th>41</th>\n",
              "      <td>Como contrato o Acordo Fatura?</td>\n",
              "      <td>Está em atraso e quer renegociar a fatura do s...</td>\n",
              "      <td>https://www.itau.com.br/atendimento-itau/para-...</td>\n",
              "    </tr>\n",
              "    <tr>\n",
              "      <th>42</th>\n",
              "      <td>O que é anuidade do cartão?</td>\n",
              "      <td>A anuidade do cartão é uma tarifa cobrada pela...</td>\n",
              "      <td>https://www.itau.com.br/atendimento-itau/para-...</td>\n",
              "    </tr>\n",
              "    <tr>\n",
              "      <th>43</th>\n",
              "      <td>Como consulto a taxa de juros do cartão de cré...</td>\n",
              "      <td>A taxa de juros do seu cartão de crédito Itauc...</td>\n",
              "      <td>https://www.itau.com.br/atendimento-itau/para-...</td>\n",
              "    </tr>\n",
              "    <tr>\n",
              "      <th>44</th>\n",
              "      <td>Como contestar uma compra no cartão de crédito?</td>\n",
              "      <td>Precisa de mais informações sobre a compra?Se ...</td>\n",
              "      <td>https://www.itau.com.br/atendimento-itau/para-...</td>\n",
              "    </tr>\n",
              "    <tr>\n",
              "      <th>45</th>\n",
              "      <td>Como funciona o crédito pessoal no cartão de c...</td>\n",
              "      <td>O crédito pessoal é um empréstimo que você con...</td>\n",
              "      <td>https://www.itau.com.br/atendimento-itau/para-...</td>\n",
              "    </tr>\n",
              "    <tr>\n",
              "      <th>46</th>\n",
              "      <td>Quais são as despesas de cobrança?</td>\n",
              "      <td>Conforme disposto no contrato de cartão de cré...</td>\n",
              "      <td>https://www.itau.com.br/atendimento-itau/para-...</td>\n",
              "    </tr>\n",
              "  </tbody>\n",
              "</table>\n",
              "</div>"
            ],
            "text/plain": [
              "                                             Pergunta  \\\n",
              "0   Onde consultar a fatura Itaucard e como saber ...   \n",
              "1            Posso pagar conta com cartão de crédito?   \n",
              "2   O que é e como funciona o pagamento por aproxi...   \n",
              "3   Como cadastrar ou cancelar o debito automático...   \n",
              "4   Como antecipar o pagamento de uma compra parce...   \n",
              "5                     Onde posso pagar a fatura Itaú?   \n",
              "6   Como alterar a data de vencimento da fatura do...   \n",
              "7                    Como cadastrar a fatura digital?   \n",
              "8   Fiz um pagamentos em duplicidade como posso re...   \n",
              "9                O que é pagamento mínimo da fatura?    \n",
              "10  Como eu sei se meu cartão tem a funcionalidade...   \n",
              "11       O que compõe o valor mínimo da minha fatura?   \n",
              "12  Como saber o limite do cartão de crédito e o v...   \n",
              "13    Como aumento o limite do meu cartão de crédito?   \n",
              "14  Quanto tempo leva para o limite de crédito ser...   \n",
              "15  O que é e como funciona o aumento de limite au...   \n",
              "16  O que é e como funciona o aumento de limite te...   \n",
              "17  Como contrato ou cancelo a avaliação emergenci...   \n",
              "18  Como defino o limite de crédito para o cartão ...   \n",
              "19   O limite do cartão de crédito pode ser reduzido?   \n",
              "20  Como faço o desbloqueio de cartão de débito ou...   \n",
              "21  Como faço para desbloquear meu cartão de crédito?   \n",
              "22  Como faço para bloquear cartão de crédito, déb...   \n",
              "23           Como faço para cadastrar o aviso viagem?   \n",
              "24                Como pedir a segunda via do cartão?   \n",
              "25     Como posso pedir um cartão de crédito do Itaú?   \n",
              "26  Qual o prazo de entrega após soliticar um cart...   \n",
              "27   Onde acompanho o status do meu pedido de cartão?   \n",
              "28  Recebi o e-mail de aprovação, meu cartão chega...   \n",
              "29  Depois que preenchi a proposta do cartão, quan...   \n",
              "30  Recebi um e-mail aprovando um cartão que pedi ...   \n",
              "31  Recebi um e-mail de negativa mas ainda quero o...   \n",
              "32               Como funciona o cartão virtual Itaú?   \n",
              "33     Como confirmar compra com o cartão de crédito?   \n",
              "34          Como fazer compras online com meu cartão?   \n",
              "35  Como recupero a senha do meu cartão de crédito...   \n",
              "36  Como altero a senha do meu cartão de crédito, ...   \n",
              "37  Como cancelar cartão de crédito do titular ou ...   \n",
              "38  Como faço o cancelamento do cartão de crédito ...   \n",
              "39  Como fazer a renegociação da fatura do meu car...   \n",
              "40    Como parcelo a fatura do meu cartão de crédito?   \n",
              "41                     Como contrato o Acordo Fatura?   \n",
              "42                        O que é anuidade do cartão?   \n",
              "43  Como consulto a taxa de juros do cartão de cré...   \n",
              "44    Como contestar uma compra no cartão de crédito?   \n",
              "45  Como funciona o crédito pessoal no cartão de c...   \n",
              "46                 Quais são as despesas de cobrança?   \n",
              "\n",
              "                                             Resposta  \\\n",
              "0   A data de fechamento da fatura varia a cada mê...   \n",
              "1   Sim, você pode pagar conta com cartão de crédi...   \n",
              "2    “Aproxime e pague” é uma funcionalidade dispo...   \n",
              "3   Você, que tem conta-corrente no Itaú, pode cad...   \n",
              "4   Você quer antecipar o pagamento das parcelas d...   \n",
              "5   Pagar a fatura de cartão de credito é muito si...   \n",
              "6   Veja como alterar a data de vencimento da sua ...   \n",
              "7   Conheça a fatura digital, saiba como cadastrar...   \n",
              "8   Veja aqui como regularizar um pagamento em dup...   \n",
              "9                                                       \n",
              "10  Para saber se o seu cartão tem essa funcionali...   \n",
              "11                                                      \n",
              "12  Veja como é simples conferir o seu limite do c...   \n",
              "13  Você pode pedir o aumento de limite do seu car...   \n",
              "14  Quando você paga qualquer valor da sua fatura ...   \n",
              "15  É um serviço gratuito que permite que a gente ...   \n",
              "16  O limite temporário é um processo em que aumen...   \n",
              "17  A Avaliação Emergencial de Crédito é um benefí...   \n",
              "18  Você pode definir o quanto do seu limite você ...   \n",
              "19  Sim. O limite do cartão de crédito pode ser re...   \n",
              "20  Para a sua segurança, o seu cartão de débito o...   \n",
              "21  Para a sua segurança, seu cartão é entregue bl...   \n",
              "22  Veja como bloquear cartão de crédito, débito o...   \n",
              "23  Você pode fazer saques e compras no exterior c...   \n",
              "24  Precisando solicitar a segunda via do seu cart...   \n",
              "25  Para pedir o seu cartão Itaucard, é só consult...   \n",
              "26  Após solicitar cartão de crédito, débito ou mú...   \n",
              "27  Nós enviamos um e-mail com novidades sobre o s...   \n",
              "28  Depois de receber o e-mail de aprovação, o car...   \n",
              "29  Quando terminar de preencher a proposta de ped...   \n",
              "30  Sim, em nosso processo de análise, mesmo se vo...   \n",
              "31  Não se preocupe, não é necessário preencher ou...   \n",
              "32  Conheça cartão virtual e saiba como fazer comp...   \n",
              "33  No app Itaucard você pode confirmar compra e v...   \n",
              "34  Veja como localizar as informações do seu cart...   \n",
              "35  Caso tenha bloqueado ou esquecido sua senha, f...   \n",
              "36  Se você esqueceu ou bloqueou a senha do seu ca...   \n",
              "37  Se você tem uma conta corrente no Itaú e perde...   \n",
              "38  Sentimos muito e sabemos que esse é um momento...   \n",
              "39  Quando você precisa de mais tempo para colocar...   \n",
              "40  Está precisando de um prazo maior para pagar a...   \n",
              "41  Está em atraso e quer renegociar a fatura do s...   \n",
              "42  A anuidade do cartão é uma tarifa cobrada pela...   \n",
              "43  A taxa de juros do seu cartão de crédito Itauc...   \n",
              "44  Precisa de mais informações sobre a compra?Se ...   \n",
              "45  O crédito pessoal é um empréstimo que você con...   \n",
              "46  Conforme disposto no contrato de cartão de cré...   \n",
              "\n",
              "                                                 Link  \n",
              "0   https://www.itau.com.br/atendimento-itau/para-...  \n",
              "1   https://www.itau.com.br/atendimento-itau/para-...  \n",
              "2   https://www.itau.com.br/atendimento-itau/para-...  \n",
              "3   https://www.itau.com.br/atendimento-itau/para-...  \n",
              "4   https://www.itau.com.br/atendimento-itau/para-...  \n",
              "5   https://www.itau.com.br/atendimento-itau/para-...  \n",
              "6   https://www.itau.com.br/atendimento-itau/para-...  \n",
              "7   https://www.itau.com.br/atendimento-itau/para-...  \n",
              "8   https://www.itau.com.br/atendimento-itau/para-...  \n",
              "9   https://www.itau.com.br/atendimento-itau/para-...  \n",
              "10  https://www.itau.com.br/atendimento-itau/para-...  \n",
              "11  https://www.itau.com.br/atendimento-itau/para-...  \n",
              "12  https://www.itau.com.br/atendimento-itau/para-...  \n",
              "13  https://www.itau.com.br/atendimento-itau/para-...  \n",
              "14  https://www.itau.com.br/atendimento-itau/para-...  \n",
              "15  https://www.itau.com.br/atendimento-itau/para-...  \n",
              "16  https://www.itau.com.br/atendimento-itau/para-...  \n",
              "17  https://www.itau.com.br/atendimento-itau/para-...  \n",
              "18  https://www.itau.com.br/atendimento-itau/para-...  \n",
              "19  https://www.itau.com.br/atendimento-itau/para-...  \n",
              "20  https://www.itau.com.br/atendimento-itau/para-...  \n",
              "21  https://www.itau.com.br/atendimento-itau/para-...  \n",
              "22  https://www.itau.com.br/atendimento-itau/para-...  \n",
              "23  https://www.itau.com.br/atendimento-itau/para-...  \n",
              "24  https://www.itau.com.br/atendimento-itau/para-...  \n",
              "25  https://www.itau.com.br/atendimento-itau/para-...  \n",
              "26  https://www.itau.com.br/atendimento-itau/para-...  \n",
              "27  https://www.itau.com.br/atendimento-itau/para-...  \n",
              "28  https://www.itau.com.br/atendimento-itau/para-...  \n",
              "29  https://www.itau.com.br/atendimento-itau/para-...  \n",
              "30  https://www.itau.com.br/atendimento-itau/para-...  \n",
              "31  https://www.itau.com.br/atendimento-itau/para-...  \n",
              "32  https://www.itau.com.br/atendimento-itau/para-...  \n",
              "33  https://www.itau.com.br/atendimento-itau/para-...  \n",
              "34  https://www.itau.com.br/atendimento-itau/para-...  \n",
              "35  https://www.itau.com.br/atendimento-itau/para-...  \n",
              "36  https://www.itau.com.br/atendimento-itau/para-...  \n",
              "37  https://www.itau.com.br/atendimento-itau/para-...  \n",
              "38  https://www.itau.com.br/atendimento-itau/para-...  \n",
              "39  https://www.itau.com.br/atendimento-itau/para-...  \n",
              "40  https://www.itau.com.br/atendimento-itau/para-...  \n",
              "41  https://www.itau.com.br/atendimento-itau/para-...  \n",
              "42  https://www.itau.com.br/atendimento-itau/para-...  \n",
              "43  https://www.itau.com.br/atendimento-itau/para-...  \n",
              "44  https://www.itau.com.br/atendimento-itau/para-...  \n",
              "45  https://www.itau.com.br/atendimento-itau/para-...  \n",
              "46  https://www.itau.com.br/atendimento-itau/para-...  "
            ]
          },
          "metadata": {
            "tags": []
          },
          "execution_count": 74
        }
      ]
    },
    {
      "cell_type": "code",
      "metadata": {
        "id": "3CEBrPJHbeNq"
      },
      "source": [
        "df_perguntas = df_perguntas[df_perguntas['Resposta'] != '']"
      ],
      "execution_count": 75,
      "outputs": []
    },
    {
      "cell_type": "code",
      "metadata": {
        "colab": {
          "base_uri": "https://localhost:8080/",
          "height": 1000
        },
        "id": "Leh9o73XbeH9",
        "outputId": "cdd11b40-8d23-4e5c-f065-17b5be37755c"
      },
      "source": [
        "df_perguntas"
      ],
      "execution_count": 76,
      "outputs": [
        {
          "output_type": "execute_result",
          "data": {
            "text/html": [
              "<div>\n",
              "<style scoped>\n",
              "    .dataframe tbody tr th:only-of-type {\n",
              "        vertical-align: middle;\n",
              "    }\n",
              "\n",
              "    .dataframe tbody tr th {\n",
              "        vertical-align: top;\n",
              "    }\n",
              "\n",
              "    .dataframe thead th {\n",
              "        text-align: right;\n",
              "    }\n",
              "</style>\n",
              "<table border=\"1\" class=\"dataframe\">\n",
              "  <thead>\n",
              "    <tr style=\"text-align: right;\">\n",
              "      <th></th>\n",
              "      <th>Pergunta</th>\n",
              "      <th>Resposta</th>\n",
              "      <th>Link</th>\n",
              "    </tr>\n",
              "  </thead>\n",
              "  <tbody>\n",
              "    <tr>\n",
              "      <th>0</th>\n",
              "      <td>Onde consultar a fatura Itaucard e como saber ...</td>\n",
              "      <td>A data de fechamento da fatura varia a cada mê...</td>\n",
              "      <td>https://www.itau.com.br/atendimento-itau/para-...</td>\n",
              "    </tr>\n",
              "    <tr>\n",
              "      <th>1</th>\n",
              "      <td>Posso pagar conta com cartão de crédito?</td>\n",
              "      <td>Sim, você pode pagar conta com cartão de crédi...</td>\n",
              "      <td>https://www.itau.com.br/atendimento-itau/para-...</td>\n",
              "    </tr>\n",
              "    <tr>\n",
              "      <th>2</th>\n",
              "      <td>O que é e como funciona o pagamento por aproxi...</td>\n",
              "      <td>“Aproxime e pague” é uma funcionalidade dispo...</td>\n",
              "      <td>https://www.itau.com.br/atendimento-itau/para-...</td>\n",
              "    </tr>\n",
              "    <tr>\n",
              "      <th>3</th>\n",
              "      <td>Como cadastrar ou cancelar o debito automático...</td>\n",
              "      <td>Você, que tem conta-corrente no Itaú, pode cad...</td>\n",
              "      <td>https://www.itau.com.br/atendimento-itau/para-...</td>\n",
              "    </tr>\n",
              "    <tr>\n",
              "      <th>4</th>\n",
              "      <td>Como antecipar o pagamento de uma compra parce...</td>\n",
              "      <td>Você quer antecipar o pagamento das parcelas d...</td>\n",
              "      <td>https://www.itau.com.br/atendimento-itau/para-...</td>\n",
              "    </tr>\n",
              "    <tr>\n",
              "      <th>5</th>\n",
              "      <td>Onde posso pagar a fatura Itaú?</td>\n",
              "      <td>Pagar a fatura de cartão de credito é muito si...</td>\n",
              "      <td>https://www.itau.com.br/atendimento-itau/para-...</td>\n",
              "    </tr>\n",
              "    <tr>\n",
              "      <th>6</th>\n",
              "      <td>Como alterar a data de vencimento da fatura do...</td>\n",
              "      <td>Veja como alterar a data de vencimento da sua ...</td>\n",
              "      <td>https://www.itau.com.br/atendimento-itau/para-...</td>\n",
              "    </tr>\n",
              "    <tr>\n",
              "      <th>7</th>\n",
              "      <td>Como cadastrar a fatura digital?</td>\n",
              "      <td>Conheça a fatura digital, saiba como cadastrar...</td>\n",
              "      <td>https://www.itau.com.br/atendimento-itau/para-...</td>\n",
              "    </tr>\n",
              "    <tr>\n",
              "      <th>8</th>\n",
              "      <td>Fiz um pagamentos em duplicidade como posso re...</td>\n",
              "      <td>Veja aqui como regularizar um pagamento em dup...</td>\n",
              "      <td>https://www.itau.com.br/atendimento-itau/para-...</td>\n",
              "    </tr>\n",
              "    <tr>\n",
              "      <th>10</th>\n",
              "      <td>Como eu sei se meu cartão tem a funcionalidade...</td>\n",
              "      <td>Para saber se o seu cartão tem essa funcionali...</td>\n",
              "      <td>https://www.itau.com.br/atendimento-itau/para-...</td>\n",
              "    </tr>\n",
              "    <tr>\n",
              "      <th>12</th>\n",
              "      <td>Como saber o limite do cartão de crédito e o v...</td>\n",
              "      <td>Veja como é simples conferir o seu limite do c...</td>\n",
              "      <td>https://www.itau.com.br/atendimento-itau/para-...</td>\n",
              "    </tr>\n",
              "    <tr>\n",
              "      <th>13</th>\n",
              "      <td>Como aumento o limite do meu cartão de crédito?</td>\n",
              "      <td>Você pode pedir o aumento de limite do seu car...</td>\n",
              "      <td>https://www.itau.com.br/atendimento-itau/para-...</td>\n",
              "    </tr>\n",
              "    <tr>\n",
              "      <th>14</th>\n",
              "      <td>Quanto tempo leva para o limite de crédito ser...</td>\n",
              "      <td>Quando você paga qualquer valor da sua fatura ...</td>\n",
              "      <td>https://www.itau.com.br/atendimento-itau/para-...</td>\n",
              "    </tr>\n",
              "    <tr>\n",
              "      <th>15</th>\n",
              "      <td>O que é e como funciona o aumento de limite au...</td>\n",
              "      <td>É um serviço gratuito que permite que a gente ...</td>\n",
              "      <td>https://www.itau.com.br/atendimento-itau/para-...</td>\n",
              "    </tr>\n",
              "    <tr>\n",
              "      <th>16</th>\n",
              "      <td>O que é e como funciona o aumento de limite te...</td>\n",
              "      <td>O limite temporário é um processo em que aumen...</td>\n",
              "      <td>https://www.itau.com.br/atendimento-itau/para-...</td>\n",
              "    </tr>\n",
              "    <tr>\n",
              "      <th>17</th>\n",
              "      <td>Como contrato ou cancelo a avaliação emergenci...</td>\n",
              "      <td>A Avaliação Emergencial de Crédito é um benefí...</td>\n",
              "      <td>https://www.itau.com.br/atendimento-itau/para-...</td>\n",
              "    </tr>\n",
              "    <tr>\n",
              "      <th>18</th>\n",
              "      <td>Como defino o limite de crédito para o cartão ...</td>\n",
              "      <td>Você pode definir o quanto do seu limite você ...</td>\n",
              "      <td>https://www.itau.com.br/atendimento-itau/para-...</td>\n",
              "    </tr>\n",
              "    <tr>\n",
              "      <th>19</th>\n",
              "      <td>O limite do cartão de crédito pode ser reduzido?</td>\n",
              "      <td>Sim. O limite do cartão de crédito pode ser re...</td>\n",
              "      <td>https://www.itau.com.br/atendimento-itau/para-...</td>\n",
              "    </tr>\n",
              "    <tr>\n",
              "      <th>20</th>\n",
              "      <td>Como faço o desbloqueio de cartão de débito ou...</td>\n",
              "      <td>Para a sua segurança, o seu cartão de débito o...</td>\n",
              "      <td>https://www.itau.com.br/atendimento-itau/para-...</td>\n",
              "    </tr>\n",
              "    <tr>\n",
              "      <th>21</th>\n",
              "      <td>Como faço para desbloquear meu cartão de crédito?</td>\n",
              "      <td>Para a sua segurança, seu cartão é entregue bl...</td>\n",
              "      <td>https://www.itau.com.br/atendimento-itau/para-...</td>\n",
              "    </tr>\n",
              "    <tr>\n",
              "      <th>22</th>\n",
              "      <td>Como faço para bloquear cartão de crédito, déb...</td>\n",
              "      <td>Veja como bloquear cartão de crédito, débito o...</td>\n",
              "      <td>https://www.itau.com.br/atendimento-itau/para-...</td>\n",
              "    </tr>\n",
              "    <tr>\n",
              "      <th>23</th>\n",
              "      <td>Como faço para cadastrar o aviso viagem?</td>\n",
              "      <td>Você pode fazer saques e compras no exterior c...</td>\n",
              "      <td>https://www.itau.com.br/atendimento-itau/para-...</td>\n",
              "    </tr>\n",
              "    <tr>\n",
              "      <th>24</th>\n",
              "      <td>Como pedir a segunda via do cartão?</td>\n",
              "      <td>Precisando solicitar a segunda via do seu cart...</td>\n",
              "      <td>https://www.itau.com.br/atendimento-itau/para-...</td>\n",
              "    </tr>\n",
              "    <tr>\n",
              "      <th>25</th>\n",
              "      <td>Como posso pedir um cartão de crédito do Itaú?</td>\n",
              "      <td>Para pedir o seu cartão Itaucard, é só consult...</td>\n",
              "      <td>https://www.itau.com.br/atendimento-itau/para-...</td>\n",
              "    </tr>\n",
              "    <tr>\n",
              "      <th>26</th>\n",
              "      <td>Qual o prazo de entrega após soliticar um cart...</td>\n",
              "      <td>Após solicitar cartão de crédito, débito ou mú...</td>\n",
              "      <td>https://www.itau.com.br/atendimento-itau/para-...</td>\n",
              "    </tr>\n",
              "    <tr>\n",
              "      <th>27</th>\n",
              "      <td>Onde acompanho o status do meu pedido de cartão?</td>\n",
              "      <td>Nós enviamos um e-mail com novidades sobre o s...</td>\n",
              "      <td>https://www.itau.com.br/atendimento-itau/para-...</td>\n",
              "    </tr>\n",
              "    <tr>\n",
              "      <th>28</th>\n",
              "      <td>Recebi o e-mail de aprovação, meu cartão chega...</td>\n",
              "      <td>Depois de receber o e-mail de aprovação, o car...</td>\n",
              "      <td>https://www.itau.com.br/atendimento-itau/para-...</td>\n",
              "    </tr>\n",
              "    <tr>\n",
              "      <th>29</th>\n",
              "      <td>Depois que preenchi a proposta do cartão, quan...</td>\n",
              "      <td>Quando terminar de preencher a proposta de ped...</td>\n",
              "      <td>https://www.itau.com.br/atendimento-itau/para-...</td>\n",
              "    </tr>\n",
              "    <tr>\n",
              "      <th>30</th>\n",
              "      <td>Recebi um e-mail aprovando um cartão que pedi ...</td>\n",
              "      <td>Sim, em nosso processo de análise, mesmo se vo...</td>\n",
              "      <td>https://www.itau.com.br/atendimento-itau/para-...</td>\n",
              "    </tr>\n",
              "    <tr>\n",
              "      <th>31</th>\n",
              "      <td>Recebi um e-mail de negativa mas ainda quero o...</td>\n",
              "      <td>Não se preocupe, não é necessário preencher ou...</td>\n",
              "      <td>https://www.itau.com.br/atendimento-itau/para-...</td>\n",
              "    </tr>\n",
              "    <tr>\n",
              "      <th>32</th>\n",
              "      <td>Como funciona o cartão virtual Itaú?</td>\n",
              "      <td>Conheça cartão virtual e saiba como fazer comp...</td>\n",
              "      <td>https://www.itau.com.br/atendimento-itau/para-...</td>\n",
              "    </tr>\n",
              "    <tr>\n",
              "      <th>33</th>\n",
              "      <td>Como confirmar compra com o cartão de crédito?</td>\n",
              "      <td>No app Itaucard você pode confirmar compra e v...</td>\n",
              "      <td>https://www.itau.com.br/atendimento-itau/para-...</td>\n",
              "    </tr>\n",
              "    <tr>\n",
              "      <th>34</th>\n",
              "      <td>Como fazer compras online com meu cartão?</td>\n",
              "      <td>Veja como localizar as informações do seu cart...</td>\n",
              "      <td>https://www.itau.com.br/atendimento-itau/para-...</td>\n",
              "    </tr>\n",
              "    <tr>\n",
              "      <th>35</th>\n",
              "      <td>Como recupero a senha do meu cartão de crédito...</td>\n",
              "      <td>Caso tenha bloqueado ou esquecido sua senha, f...</td>\n",
              "      <td>https://www.itau.com.br/atendimento-itau/para-...</td>\n",
              "    </tr>\n",
              "    <tr>\n",
              "      <th>36</th>\n",
              "      <td>Como altero a senha do meu cartão de crédito, ...</td>\n",
              "      <td>Se você esqueceu ou bloqueou a senha do seu ca...</td>\n",
              "      <td>https://www.itau.com.br/atendimento-itau/para-...</td>\n",
              "    </tr>\n",
              "    <tr>\n",
              "      <th>37</th>\n",
              "      <td>Como cancelar cartão de crédito do titular ou ...</td>\n",
              "      <td>Se você tem uma conta corrente no Itaú e perde...</td>\n",
              "      <td>https://www.itau.com.br/atendimento-itau/para-...</td>\n",
              "    </tr>\n",
              "    <tr>\n",
              "      <th>38</th>\n",
              "      <td>Como faço o cancelamento do cartão de crédito ...</td>\n",
              "      <td>Sentimos muito e sabemos que esse é um momento...</td>\n",
              "      <td>https://www.itau.com.br/atendimento-itau/para-...</td>\n",
              "    </tr>\n",
              "    <tr>\n",
              "      <th>39</th>\n",
              "      <td>Como fazer a renegociação da fatura do meu car...</td>\n",
              "      <td>Quando você precisa de mais tempo para colocar...</td>\n",
              "      <td>https://www.itau.com.br/atendimento-itau/para-...</td>\n",
              "    </tr>\n",
              "    <tr>\n",
              "      <th>40</th>\n",
              "      <td>Como parcelo a fatura do meu cartão de crédito?</td>\n",
              "      <td>Está precisando de um prazo maior para pagar a...</td>\n",
              "      <td>https://www.itau.com.br/atendimento-itau/para-...</td>\n",
              "    </tr>\n",
              "    <tr>\n",
              "      <th>41</th>\n",
              "      <td>Como contrato o Acordo Fatura?</td>\n",
              "      <td>Está em atraso e quer renegociar a fatura do s...</td>\n",
              "      <td>https://www.itau.com.br/atendimento-itau/para-...</td>\n",
              "    </tr>\n",
              "    <tr>\n",
              "      <th>42</th>\n",
              "      <td>O que é anuidade do cartão?</td>\n",
              "      <td>A anuidade do cartão é uma tarifa cobrada pela...</td>\n",
              "      <td>https://www.itau.com.br/atendimento-itau/para-...</td>\n",
              "    </tr>\n",
              "    <tr>\n",
              "      <th>43</th>\n",
              "      <td>Como consulto a taxa de juros do cartão de cré...</td>\n",
              "      <td>A taxa de juros do seu cartão de crédito Itauc...</td>\n",
              "      <td>https://www.itau.com.br/atendimento-itau/para-...</td>\n",
              "    </tr>\n",
              "    <tr>\n",
              "      <th>44</th>\n",
              "      <td>Como contestar uma compra no cartão de crédito?</td>\n",
              "      <td>Precisa de mais informações sobre a compra?Se ...</td>\n",
              "      <td>https://www.itau.com.br/atendimento-itau/para-...</td>\n",
              "    </tr>\n",
              "    <tr>\n",
              "      <th>45</th>\n",
              "      <td>Como funciona o crédito pessoal no cartão de c...</td>\n",
              "      <td>O crédito pessoal é um empréstimo que você con...</td>\n",
              "      <td>https://www.itau.com.br/atendimento-itau/para-...</td>\n",
              "    </tr>\n",
              "    <tr>\n",
              "      <th>46</th>\n",
              "      <td>Quais são as despesas de cobrança?</td>\n",
              "      <td>Conforme disposto no contrato de cartão de cré...</td>\n",
              "      <td>https://www.itau.com.br/atendimento-itau/para-...</td>\n",
              "    </tr>\n",
              "  </tbody>\n",
              "</table>\n",
              "</div>"
            ],
            "text/plain": [
              "                                             Pergunta  \\\n",
              "0   Onde consultar a fatura Itaucard e como saber ...   \n",
              "1            Posso pagar conta com cartão de crédito?   \n",
              "2   O que é e como funciona o pagamento por aproxi...   \n",
              "3   Como cadastrar ou cancelar o debito automático...   \n",
              "4   Como antecipar o pagamento de uma compra parce...   \n",
              "5                     Onde posso pagar a fatura Itaú?   \n",
              "6   Como alterar a data de vencimento da fatura do...   \n",
              "7                    Como cadastrar a fatura digital?   \n",
              "8   Fiz um pagamentos em duplicidade como posso re...   \n",
              "10  Como eu sei se meu cartão tem a funcionalidade...   \n",
              "12  Como saber o limite do cartão de crédito e o v...   \n",
              "13    Como aumento o limite do meu cartão de crédito?   \n",
              "14  Quanto tempo leva para o limite de crédito ser...   \n",
              "15  O que é e como funciona o aumento de limite au...   \n",
              "16  O que é e como funciona o aumento de limite te...   \n",
              "17  Como contrato ou cancelo a avaliação emergenci...   \n",
              "18  Como defino o limite de crédito para o cartão ...   \n",
              "19   O limite do cartão de crédito pode ser reduzido?   \n",
              "20  Como faço o desbloqueio de cartão de débito ou...   \n",
              "21  Como faço para desbloquear meu cartão de crédito?   \n",
              "22  Como faço para bloquear cartão de crédito, déb...   \n",
              "23           Como faço para cadastrar o aviso viagem?   \n",
              "24                Como pedir a segunda via do cartão?   \n",
              "25     Como posso pedir um cartão de crédito do Itaú?   \n",
              "26  Qual o prazo de entrega após soliticar um cart...   \n",
              "27   Onde acompanho o status do meu pedido de cartão?   \n",
              "28  Recebi o e-mail de aprovação, meu cartão chega...   \n",
              "29  Depois que preenchi a proposta do cartão, quan...   \n",
              "30  Recebi um e-mail aprovando um cartão que pedi ...   \n",
              "31  Recebi um e-mail de negativa mas ainda quero o...   \n",
              "32               Como funciona o cartão virtual Itaú?   \n",
              "33     Como confirmar compra com o cartão de crédito?   \n",
              "34          Como fazer compras online com meu cartão?   \n",
              "35  Como recupero a senha do meu cartão de crédito...   \n",
              "36  Como altero a senha do meu cartão de crédito, ...   \n",
              "37  Como cancelar cartão de crédito do titular ou ...   \n",
              "38  Como faço o cancelamento do cartão de crédito ...   \n",
              "39  Como fazer a renegociação da fatura do meu car...   \n",
              "40    Como parcelo a fatura do meu cartão de crédito?   \n",
              "41                     Como contrato o Acordo Fatura?   \n",
              "42                        O que é anuidade do cartão?   \n",
              "43  Como consulto a taxa de juros do cartão de cré...   \n",
              "44    Como contestar uma compra no cartão de crédito?   \n",
              "45  Como funciona o crédito pessoal no cartão de c...   \n",
              "46                 Quais são as despesas de cobrança?   \n",
              "\n",
              "                                             Resposta  \\\n",
              "0   A data de fechamento da fatura varia a cada mê...   \n",
              "1   Sim, você pode pagar conta com cartão de crédi...   \n",
              "2    “Aproxime e pague” é uma funcionalidade dispo...   \n",
              "3   Você, que tem conta-corrente no Itaú, pode cad...   \n",
              "4   Você quer antecipar o pagamento das parcelas d...   \n",
              "5   Pagar a fatura de cartão de credito é muito si...   \n",
              "6   Veja como alterar a data de vencimento da sua ...   \n",
              "7   Conheça a fatura digital, saiba como cadastrar...   \n",
              "8   Veja aqui como regularizar um pagamento em dup...   \n",
              "10  Para saber se o seu cartão tem essa funcionali...   \n",
              "12  Veja como é simples conferir o seu limite do c...   \n",
              "13  Você pode pedir o aumento de limite do seu car...   \n",
              "14  Quando você paga qualquer valor da sua fatura ...   \n",
              "15  É um serviço gratuito que permite que a gente ...   \n",
              "16  O limite temporário é um processo em que aumen...   \n",
              "17  A Avaliação Emergencial de Crédito é um benefí...   \n",
              "18  Você pode definir o quanto do seu limite você ...   \n",
              "19  Sim. O limite do cartão de crédito pode ser re...   \n",
              "20  Para a sua segurança, o seu cartão de débito o...   \n",
              "21  Para a sua segurança, seu cartão é entregue bl...   \n",
              "22  Veja como bloquear cartão de crédito, débito o...   \n",
              "23  Você pode fazer saques e compras no exterior c...   \n",
              "24  Precisando solicitar a segunda via do seu cart...   \n",
              "25  Para pedir o seu cartão Itaucard, é só consult...   \n",
              "26  Após solicitar cartão de crédito, débito ou mú...   \n",
              "27  Nós enviamos um e-mail com novidades sobre o s...   \n",
              "28  Depois de receber o e-mail de aprovação, o car...   \n",
              "29  Quando terminar de preencher a proposta de ped...   \n",
              "30  Sim, em nosso processo de análise, mesmo se vo...   \n",
              "31  Não se preocupe, não é necessário preencher ou...   \n",
              "32  Conheça cartão virtual e saiba como fazer comp...   \n",
              "33  No app Itaucard você pode confirmar compra e v...   \n",
              "34  Veja como localizar as informações do seu cart...   \n",
              "35  Caso tenha bloqueado ou esquecido sua senha, f...   \n",
              "36  Se você esqueceu ou bloqueou a senha do seu ca...   \n",
              "37  Se você tem uma conta corrente no Itaú e perde...   \n",
              "38  Sentimos muito e sabemos que esse é um momento...   \n",
              "39  Quando você precisa de mais tempo para colocar...   \n",
              "40  Está precisando de um prazo maior para pagar a...   \n",
              "41  Está em atraso e quer renegociar a fatura do s...   \n",
              "42  A anuidade do cartão é uma tarifa cobrada pela...   \n",
              "43  A taxa de juros do seu cartão de crédito Itauc...   \n",
              "44  Precisa de mais informações sobre a compra?Se ...   \n",
              "45  O crédito pessoal é um empréstimo que você con...   \n",
              "46  Conforme disposto no contrato de cartão de cré...   \n",
              "\n",
              "                                                 Link  \n",
              "0   https://www.itau.com.br/atendimento-itau/para-...  \n",
              "1   https://www.itau.com.br/atendimento-itau/para-...  \n",
              "2   https://www.itau.com.br/atendimento-itau/para-...  \n",
              "3   https://www.itau.com.br/atendimento-itau/para-...  \n",
              "4   https://www.itau.com.br/atendimento-itau/para-...  \n",
              "5   https://www.itau.com.br/atendimento-itau/para-...  \n",
              "6   https://www.itau.com.br/atendimento-itau/para-...  \n",
              "7   https://www.itau.com.br/atendimento-itau/para-...  \n",
              "8   https://www.itau.com.br/atendimento-itau/para-...  \n",
              "10  https://www.itau.com.br/atendimento-itau/para-...  \n",
              "12  https://www.itau.com.br/atendimento-itau/para-...  \n",
              "13  https://www.itau.com.br/atendimento-itau/para-...  \n",
              "14  https://www.itau.com.br/atendimento-itau/para-...  \n",
              "15  https://www.itau.com.br/atendimento-itau/para-...  \n",
              "16  https://www.itau.com.br/atendimento-itau/para-...  \n",
              "17  https://www.itau.com.br/atendimento-itau/para-...  \n",
              "18  https://www.itau.com.br/atendimento-itau/para-...  \n",
              "19  https://www.itau.com.br/atendimento-itau/para-...  \n",
              "20  https://www.itau.com.br/atendimento-itau/para-...  \n",
              "21  https://www.itau.com.br/atendimento-itau/para-...  \n",
              "22  https://www.itau.com.br/atendimento-itau/para-...  \n",
              "23  https://www.itau.com.br/atendimento-itau/para-...  \n",
              "24  https://www.itau.com.br/atendimento-itau/para-...  \n",
              "25  https://www.itau.com.br/atendimento-itau/para-...  \n",
              "26  https://www.itau.com.br/atendimento-itau/para-...  \n",
              "27  https://www.itau.com.br/atendimento-itau/para-...  \n",
              "28  https://www.itau.com.br/atendimento-itau/para-...  \n",
              "29  https://www.itau.com.br/atendimento-itau/para-...  \n",
              "30  https://www.itau.com.br/atendimento-itau/para-...  \n",
              "31  https://www.itau.com.br/atendimento-itau/para-...  \n",
              "32  https://www.itau.com.br/atendimento-itau/para-...  \n",
              "33  https://www.itau.com.br/atendimento-itau/para-...  \n",
              "34  https://www.itau.com.br/atendimento-itau/para-...  \n",
              "35  https://www.itau.com.br/atendimento-itau/para-...  \n",
              "36  https://www.itau.com.br/atendimento-itau/para-...  \n",
              "37  https://www.itau.com.br/atendimento-itau/para-...  \n",
              "38  https://www.itau.com.br/atendimento-itau/para-...  \n",
              "39  https://www.itau.com.br/atendimento-itau/para-...  \n",
              "40  https://www.itau.com.br/atendimento-itau/para-...  \n",
              "41  https://www.itau.com.br/atendimento-itau/para-...  \n",
              "42  https://www.itau.com.br/atendimento-itau/para-...  \n",
              "43  https://www.itau.com.br/atendimento-itau/para-...  \n",
              "44  https://www.itau.com.br/atendimento-itau/para-...  \n",
              "45  https://www.itau.com.br/atendimento-itau/para-...  \n",
              "46  https://www.itau.com.br/atendimento-itau/para-...  "
            ]
          },
          "metadata": {
            "tags": []
          },
          "execution_count": 76
        }
      ]
    },
    {
      "cell_type": "code",
      "metadata": {
        "id": "odDg8sl_beBG"
      },
      "source": [
        "perguntas_itau = df_perguntas['Pergunta'].values.tolist()\n",
        "respostas_itau = df_perguntas['Resposta'].values.tolist()"
      ],
      "execution_count": 77,
      "outputs": []
    },
    {
      "cell_type": "code",
      "metadata": {
        "colab": {
          "base_uri": "https://localhost:8080/"
        },
        "id": "gJFRruT9cR8H",
        "outputId": "b1f2bd6f-7444-46fd-fd87-2f7b43b89ffe"
      },
      "source": [
        "perguntas_itau"
      ],
      "execution_count": 78,
      "outputs": [
        {
          "output_type": "execute_result",
          "data": {
            "text/plain": [
              "['Onde consultar a fatura Itaucard e como saber se ela já fechou?',\n",
              " 'Posso pagar conta com cartão de crédito?',\n",
              " 'O que é e como funciona o pagamento por aproximação?',\n",
              " 'Como cadastrar ou cancelar o debito automático da minha fatura?',\n",
              " 'Como antecipar o pagamento de uma compra parcelada no cartão?',\n",
              " 'Onde posso pagar a fatura Itaú?',\n",
              " 'Como alterar a data de vencimento da fatura do cartão de crédito?',\n",
              " 'Como cadastrar a fatura digital?',\n",
              " 'Fiz um pagamentos em duplicidade como posso regularizar?',\n",
              " 'Como eu sei se meu cartão tem a funcionalidade de pagamento por aproximação?',\n",
              " 'Como saber o limite do cartão de crédito e o valor disponível para compra?',\n",
              " 'Como aumento o limite do meu cartão de crédito?',\n",
              " 'Quanto tempo leva para o limite de crédito ser liberado após o pagamento?',\n",
              " 'O que é e como funciona o aumento de limite automático?',\n",
              " 'O que é e como funciona o aumento de limite temporário do cartão de crédito?',\n",
              " 'Como contrato ou cancelo a avaliação emergencial de crédito?',\n",
              " 'Como defino o limite de crédito para o cartão adicional?',\n",
              " 'O limite do cartão de crédito pode ser reduzido?',\n",
              " 'Como faço o desbloqueio de cartão de débito ou múltiplo?',\n",
              " 'Como faço para desbloquear meu cartão de crédito?',\n",
              " 'Como faço para bloquear cartão de crédito, débito ou múltiplo?',\n",
              " 'Como faço para cadastrar o aviso viagem?',\n",
              " 'Como pedir a segunda via do cartão?',\n",
              " 'Como posso pedir um cartão de crédito do Itaú?',\n",
              " 'Qual o prazo de entrega após soliticar um cartão de crédito, débito ou múltiplo?',\n",
              " 'Onde acompanho o status do meu pedido de cartão?',\n",
              " 'Recebi o e-mail de aprovação, meu cartão chegará em quanto tempo?',\n",
              " 'Depois que preenchi a proposta do cartão, quanto tempo demora a análise?',\n",
              " 'Recebi um e-mail aprovando um cartão que pedi há meses atrás. E agora?',\n",
              " 'Recebi um e-mail de negativa mas ainda quero o cartão. E agora?',\n",
              " 'Como funciona o cartão virtual Itaú?',\n",
              " 'Como confirmar compra com o cartão de crédito?',\n",
              " 'Como fazer compras online com meu cartão?',\n",
              " 'Como recupero a senha do meu cartão de crédito, débito ou múltiplo?',\n",
              " 'Como altero a senha do meu cartão de crédito, débito ou múltiplo?',\n",
              " 'Como cancelar cartão de crédito do titular ou adicionais?',\n",
              " 'Como faço o cancelamento do cartão de crédito do titular falecido?',\n",
              " 'Como fazer a renegociação da fatura do meu cartão de crédito?',\n",
              " 'Como parcelo a fatura do meu cartão de crédito?',\n",
              " 'Como contrato o Acordo Fatura?',\n",
              " 'O que é anuidade do cartão?',\n",
              " 'Como consulto a taxa de juros do cartão de crédito?',\n",
              " 'Como contestar uma compra no cartão de crédito?',\n",
              " 'Como funciona o crédito pessoal no cartão de crédito',\n",
              " 'Quais são as despesas de cobrança?']"
            ]
          },
          "metadata": {
            "tags": []
          },
          "execution_count": 78
        }
      ]
    },
    {
      "cell_type": "code",
      "metadata": {
        "colab": {
          "base_uri": "https://localhost:8080/"
        },
        "id": "EmWpoZZKbd5c",
        "outputId": "938cfd9b-6b16-4f9d-b0ab-e8a18a353a79"
      },
      "source": [
        "respostas_itau"
      ],
      "execution_count": 79,
      "outputs": [
        {
          "output_type": "execute_result",
          "data": {
            "text/plain": [
              "['A data de fechamento da fatura varia a cada mês, sendo geralmente 10 dias corridos antes do vencimento. Você consegue consultar a sua fatura Itaú através dos nossos canais digitais, ou até mesmo pelo WhatsApp, é só seguir o passo a passo aqui embaixo: - Pelo WhatsApp Itaucard:Escaneie o código QR ou clique aqui para conversar com o WhatsApp Itaucard. Se preferir, salve o número (11) 3003-3030 e chame a gente direto por lá. - Pelo App Itaucard:1. Abra o aplicativo Itaucard e faça login, com o número do seu cartão e senha.2. Na tela inicial toque no botão “ver fatura”.Agora você tem acesso a sua fatura em aberto e as dos meses anteriores. - Pelo Itaú na Internet:1. Acesse o site do Itaú e faça login. Se for correntista acesse com sua agência, conta corrente e senha eletrônica, mas caso só tenha o cartão Itaucard, acesse com o número dele e sua senha.2. Na página inicial, clique na aba “Cartões” e em seguida no cartão que deseja conferir a fatura.Pronto! Agora você tem acesso a sua fatura e consegue imprimi-la ou pagá-la, direto pelo site.  Se você preferir, também pode enviar um SMS gratuito com a palavra BOLETO para 4828 e receber o número do código de barras no seu celular, caso tenha o serviço cadastrado. Você também pode ir até o caixa eletrônico Itaú mais próximo, com seu cartão e consultar seus lançamentos. Se você não tiver os dados para acessar o seu cartão pela internet ou pelo app, você pode ligar para a central de atendimento a cartões.',\n",
              " 'Sim, você pode pagar conta com cartão de crédito e concentrar as suas contas na data de vencimento da sua fatura. Veja como é simples:É só acessar a sua conta-corrente, com agência e senha eletrônica, ou acessar o cartão, com número e senha do cartão de crédito, e digitar “pague contas” no campo de busca.Se preferir, você também pode pagar conta com cartão de crédito no guichê de qualquer agência Itaú. Para isso, é só levar o cartão de crédito, um documento com foto e a conta que deseja pagar.Importante: Para os cartões de crédito Hipercard, Sam’s Club Itaucard e Walmart Itaucard, o serviço está disponível exclusivamente pela central de atendimento a cartões e somente para contas de concessionárias (água, luz, telefone, gás e TV a cabo). Para o cartão Ipiranga Itaucard, o serviço só está disponível para cliente que possua conta-corrente no Itaú.Esse serviço está sujeito a encargos (juros e IOF), desde o momento de pagamento da conta até a data de pagamento da fatura. Antes da contratação, consulte o CET (Custo Efetivo Total).Você pode pagar contas que tenham código de barras, e o pagamento deve ser feito até a data de vencimento da conta. Contas de água, luz, gás, TV a cabo (exceto Sky) e telefone podem ser pagas após o vencimento.Os pagamentos feitos nos finais de semana ou feriados serão acatados no próximo dia útil.',\n",
              " ' “Aproxime e pague” é uma funcionalidade disponível em alguns cartões Itaucard. Com ele, você paga suas compras de até R$ 200,00 só aproximando o cartão da maquininha. Para compras acima desse valor, você aproxima o cartão e digita a senha de 4 dígitos.Para ativar, quando fizer a primeira compra com o cartão, você precisa pagar inserindo seu cartão na maquininha e digitando a senha. Depois disso, as próximas compras já podem ser feitas por aproximação.',\n",
              " 'Você, que tem conta-corrente no Itaú, pode cadastrar a sua fatura em débito automático para garantir o pagamento da fatura em dia. Veja como é simples: Para cadastrar:É só acessar sua conta na internet, com agência, conta e senha eletrônica, e digitar “cadastrar débito automático” no campo de busca. Se você não tiver os dados para acessar sua conta na internet, ligue para o Itaú no telefone.Se, em algum mês, você fizer o pagamento antecipado, não se esqueça de suspender o débito até as 18h (horário de Brasília) do dia do vencimento da fatura, pois o pagamento antecipado não inibe o débito automático. Para cancelar:Na internet, você pode cancelar definitivamente o serviço ou suspender o débito de um mês específico. É só acessar sua conta-corrente no Itaú na internet, com agência, conta e senha eletrônica, e digitar “cancelar débito automático” no campo de busca. Se você não tiver os dados para acessar sua conta na internet, ligue para o Itaú no telefone.O cancelamento ou suspensão deve ser feito até as 18h (horário de Brasília) do dia do vencimento da fatura. Se o vencimento ocorrer em dia não útil, o cancelamento ou suspensão deve ser feito 1 dia útil antes da data de vencimento.Lembre-se: com o débito automático você garante o pagamento da fatura em dia, de forma segura. Caso não tenha conta-corrente no Itaú, o serviço ainda não está disponível para você, mas é possível pagar sua fatura nos caixas eletrônicos e agências do Itaú, usando o cartão de débito de outros bancos. Ou, se preferir, nos bancos conveniados ou nas casas lotéricas. Não se esqueça! Você pode baixar o app Itaucard no celular e acompanhar os seus gastos e o limite do cartão pela linha do tempo. É uma forma prática e segura de conferir o seu cartão, de qualquer lugar, e a qualquer momento.Baixe o app Itaucard agora: Para Android ou iOS. Ainda tem dúvida? Assista o vídeo abaixo e veja o passo a passo sobre como cadastrar sua fatura no débito automático:',\n",
              " 'Você quer antecipar o pagamento das parcelas do seu cartão de crédito? Eu te ajudo! Você pode fazer isso de duas formas:Nesses canais, você vai falar com um de nossos especialistas, em nosso chat. Ao ser atendido, informe que você deseja fazer a antecipação das parcelas de uma compra feita no cartão.Caso não tenha os dados para acessar sua conta pela internet, você pode ligar para a central de atendimento a cartões, que te ajudamos por lá.Mas fique ligado, pois para que a antecipação ocorra na próxima fatura, você deve fazer o pedido até 15 dias antes do fechamento. O pagamento será feito normalmente, pela fatura do seu Itaucard.\\nSe você fizer a antecipação parcial, o abatimento ocorre sempre da última parcela para a primeira.Pronto! Após o pagamento da fatura, o seu limite do cartão será recomposto para você fazer novas compras. Você ainda não baixou o app Itaucard? Lá você pode acompanhar os seus gastos de forma prática e segura, com ele, você tem o controle do uso do seu cartão, de onde estiver, 24 horas por dia. É muito mais simples!Baixe agora mesmo: Para Android ou iOS.',\n",
              " 'Pagar a fatura de cartão de credito é muito simples. Mesmo sem ter conta no Itaú, você pode fazer o pagamento em nossos caixas eletrônicos e agências. Veja como: Facilite o seu dia a dia! Você que tem conta-corrente no Itaú pode cadastrar o débito automático para garantir o pagamento da fatura Itaú em dia, sem precisar se preocupar com a data de vencimento. Lembre-se: com o seu cartão Itaucard, você tem muitos benefícios.Além de 50% de desconto em diversos teatros e cinemas, você pode contratar o programa de pontos. Com ele, as suas compras viram pontos que podem ser trocados por descontos, prêmios e viagens.E não se esqueça: você também pode fazer compras online com descontos.É só conferir os parceiros participantes ;-)',\n",
              " 'Veja como alterar a data de vencimento da sua fatura Itaú para organizar as suas finanças. Além disso, confira o melhor dia para fazer compras, para que o valor venha na fatura do mês seguinte. Alterar data de vencimento:É só acessar a sua conta-corrente, com agência, conta e senha eletrônica, ou acessar o cartão, com número e senha do cartão de crédito, e digitar “data de vencimento” no campo de busca.Se a fatura já estiver fechada, a nova data será válida a partir do próximo vencimento.Uma nova alteração da data de vencimento só poderá ser feita depois de 6 meses.Se você não tiver os dados para acessar sua conta pela internet, ligue para a central de atendimento a cartões. Melhor dia de compra:O fechamento de fatura ocorre aproximadamente 10 dias corridos antes do seu vencimento. As compras feitas a partir desse período serão cobradas no vencimento seguinte.Para consultar se a sua fatura fechou, é só acessar a sua conta-corrente, com agência e senha eletrônica, ou acessar o cartão, com número e senha do cartão de crédito, e digitar “consultar fatura” no campo de busca. Se preferir, use o app Itaú ou Itaucard no celular.Se você não tiver os dados para acessar sua conta pela internet ou app, você pode ligar para o Itaú no telefone. Quer acompanhar os seus gastos de forma prática?Se você ainda não tem, é só baixar o app Itaucard no celular e acompanhar os seus gastos e o limite do cartão pela linha do tempo. Com ele, você tem o controle do uso do seu cartão, de onde estiver, 24 horas por dia. É muito mais simples!Baixe o app Itaucard agora: Para Android ou iOS. Lembre-se: com o seu Itaucard você conta com benefícios exclusivos! Pode fazer compras online com descontos especiais. É só conferir os parceiros e pagar a compra com o seu Itaucard.Além disso, você tem 50% de desconto em diversos teatros e cinemas e pode contratar o programa de pontos. Veja os detalhes ;-)Ainda com dúvidas? Assista o vídeo abaixo e veja o passo a passo para alterar a data de vencimento da fatura: ',\n",
              " 'Conheça a fatura digital, saiba como cadastrar e como acompanhar os seus gastos. O que éCom a fatura digital Itaucard você deixa de acumular papel e passa receber avisos grátis, no seu e-mail ou celular, sobre o fechamento, pagamento e vencimento da fatura.Além disso, você garante o controle e a segurança da sua fatura, pois só você pode acessá-la, no computador ou no celular, de dia ou de noite, na hora que você preferir. Como cadastrarVocê pode cadastrar de um jeito rápido e simples nos canais abaixo:Como cancelarNão se esqueça que ao cancelar você deixa de receber os alertas sobre a sua fatura por SMS ou e-mail e passa a receber a fatura pelos Correios.Você pode cancelar da seguinte forma: Ainda não tem o aplicativo Itaucard?Se você ainda não tem, baixe o app Itaucard no celular e acompanhe os seus gastos e o limite do cartão pela linha do tempo. É uma forma prática e segura.Baixe o app Itaucard agora: Para Android ou iOS.',\n",
              " 'Veja aqui como regularizar um pagamento em duplicidade da fatura:É só acessar a sua conta-corrente, com agência e senha eletrônica, ou acessar o cartão, com número e senha do cartão de crédito, e digitar “atendimento online” no campo de busca.Você também pode acessar o atendimento online pelo App Itaucard. É só tocar em “atendimento > chat”.Você vai falar com um de nossos especialistas, em nosso chat. Ao ser atendido, informe o valor e a data do pagamento em duplicidade.Caso não tenha os dados para acessar sua conta pela internet, você pode ligar para a central de atendimento a cartões.Se você tem conta-corrente no Itaú, evite o pagamento duplicado. É só cadastrar o débito automático da fatura.Lembre-se: com o seu cartão Itaucard, você tem benefícios exclusivos nas compras online em lojas parceiras. Além de poder comprar sem sair de casa, pagando com o seu Itaucard, você conta com descontos especiais.Você tem também 50% de desconto em diversos teatros e cinemas e pode contratar o programa de pontos. Com ele, as suas compras viram pontos que podem ser trocados por descontos, prêmios e viagens.Confira todos os benefícios feitos para você ;-)',\n",
              " 'Para saber se o seu cartão tem essa funcionalidade, procure pelo símbolo de uma antena (parecido com o de Wi-Fi) na parte da frente do cartão. Ah, para o pagamento dar certo, a maquininha também precisa ter essa opção de pagamento. É só procurar pelo símbolo na maquininha e pronto!',\n",
              " 'Veja como é simples conferir o seu limite do cartão de crédito e o valor que você tem disponível para compras. É só escolher a forma mais fácil para você:● Internet – Você acessa a sua conta-corrente, com agência, conta e senha eletrônica, ou acessa o cartão, com número e senha do cartão de crédito, e digita “limite do cartão de crédito” no campo de busca. Você pode consultar o seu limite Itaucard total e o limite disponível para compras.● App Itaucard – Você acessa o aplicativo com a senha do cartão de crédito e, na página inicial, confere o seu limite total, limite utilizado e o limite disponível para compras. Se ainda não tem, pode baixar o app Itaucard agora para Para Android ou iOS.● App Itaú – Basta acessar o app com a sua senha eletrônica e tocar em Cartões > Limites.● SMS – Se preferir, você pode enviar um SMS com a palavra LIMITE para 4828 e receber gratuitamente o seu limite de cartão de crédito disponível para compras. Se você não tiver o serviço cadastrado, é só acessar a sua conta-corrente, com agência, conta e senha eletrônica, ou o seu cartão, com número e senha do cartão de crédito, e digitar “SMS cartão” no campo de busca.Se você não tiver os dados para acessar as opções acima, você pode ligar para a central de atendimento a cartões, que consultaremos o seu limite por lá.Não esqueça de que, com o seu cartão Itaucard, você tem benefícios exclusivos, além de poder comprar sem sair de casa com descontos especiais! Confira todos os benefícios feitos para você ;-)',\n",
              " 'Você pode pedir o aumento de limite do seu cartão aqui mesmo pela internet. Veja como fazer:\\nSe você não tem conta corrente no ItaúAcesse o cartão, digite \"aumentar limite\" no campo de busca, escolha o cartão e o valor que você precisa e, se você tiver crédito disponível, o aumento é liberado na hora.Se você tem conta-corrente no ItaúAcesse a sua conta corrente, com agência, conta e senha eletrônica, depois digite “alterar limite” no campo de busca e siga o passo a passo.Se não conseguir o aumento que precisa, você tem a opção de transferir o limite entre produtos. Por exemplo, você pode transferir uma parte do limite do seu cheque especial (LIS) para o seu cartão de crédito. Para isso, é só acessar a sua conta corrente , com agência, conta e senha eletrônica, e digitar “transferir limites de crédito” no campo de busca.Temos algumas dicas para você:- Se quiser, você pode ativar o aumento de limite automático, que é um serviço gratuito que permite que a gente avalie o seu perfil regularmente e aumente o seu limite de forma automática, sempre que um valor estiver disponível. Para ativar, acesse o seu cartão (se você não tiver conta corrente no Itaú) ou sua conta corrente (se você tiver conta corrente no Itaú), chama a gente no chat e digite \"aumento de limite automático\".  Ah, o aceite não garante o aumento imediato.- Se você não tiver limite pré-aprovado, continue pagando as suas faturas em dia e procure usar o limite disponível do seu cartão nas compras à vista ou parceladas,  assim fica cada vez mais fácil ter um limite maior.Ainda tem dúvidas? Assista o vídeo abaixo e veja o passo a passo para pedir o aumento de limite:\\n',\n",
              " 'Quando você paga qualquer valor da sua fatura em qualquer momento aqui no itaú, o limite do seu cartão é liberado no valor que foi pago no mesmo dia e, se fizer o pagamento em outros bancos ou aplicativos, o prazo é de 3 a 5 dias úteis.Mas fique ligado, lembre-se de descadastrar a fatura do débito automático, aí é só fazer o pagamento antes do vencimento, e se quiser, efetuar o cadastro do débito automático novamente. Eu tenho algumas dicas que podem te ajudar a organizar sua vida financeira:Organizar o seu orçamento é fundamental, tente sempre balancear seus gastos com as entradas de cada mês, e lembre-se, o dinheiro que sobra cada mês pode te ajudar a fazer aquela viagem nas férias, ou até mesmo dar entrada naquele carro dos seus sonhos.Centralizar seus gastos também ajuda muito na organização, juntar todas as despesas em um só lugar pode te ajudar a controlar seu consumo e te ajudar a economizar muito :) . ',\n",
              " 'É um serviço gratuito que permite que a gente avalie seu perfil regularmente para aumentar seu limite. Se você ativar o serviço, a gente aumenta o seu limite automaticamente quando um novo valor estiver disponível, sem que você precise pedir. Ah, o aceite não garante o aumento imediato.“E como eu ativo o serviço? ”Você consegue ativar pelo chat ou via SMS. Se você receber um SMS perguntando se deseja ter o aumento de limite automático, pode responder com a palavra SIM se quiser aceitar o serviço. Agora, se você não recebeu o SMS e quiser ativar, fique tranquilo! Basta acessar o cartão (se você não tiver conta corrente no Itaú) ou sua acessar a sua conta corrente (se você tiver conta corrente no Itaú), chama a gente no chat e digite “aumento de limite automático” , depois clique em aumentar limite do cartão de crédito e selecione a opção aguardar aumento de limite automático.Você pode cancelar o serviço a qualquer momento chamando a gente no chat. Ah, depois que cancelar, para ter aumento de limite, você precisará pedir.',\n",
              " 'O limite temporário é um processo em que aumentamos o limite temporariamente de clientes selecionados. Nós iremos enviar um SMS avisando que seu limite será aumentado durante alguns dias, depois ele volta ao normal. O valor do aumento é definido de acordo com o perfil do cliente.Assim, é possível aproveitar um limite maior pelo período estabelecido e, acabando o prazo, nós iremos comunicar e o limite voltará ao valor anterior. Além disso, continuamos analisando a possibilidade para oferecer um aumento definitivo. Você pode consultar o aumento pelo aplicativo Itaú no celular e no computador. Ah, fique atento ao seu novo limite para utilizar de forma consciente. Se não quiser que o seu limite seja aumentado temporariamente, é só responder o SMS com a palavra “NÃO” ou ligue na central de atendimento.',\n",
              " 'A Avaliação Emergencial de Crédito é um benefício que possibilita a avaliação individual de compras que ultrapassem o limite de crédito disponível no seu cartão sem qualquer cobrança adicional de tarifa.Caso não tenha a Avaliação Emergencial de Crédito ativada em seu cartão, basta acessar o site itau.com.br pelo computador.  Se tiver uma conta-corrente conosco, acesse com agência, conta e senha eletrônica. Caso contrário, acesse através do número e senha do cartão de crédito. Após isso, basta digitar “Avaliação Emergencial de Crédito” no campo de busca do ambiente logado. Você também pode habilitar o benefício pelo chat do App Itaú ou pela central de atendimento. Se você quiser cancelar o serviço, basta acessar novamente a sua conta-corrente ou cartão pelo internet banking, digitar “chat” no campo de busca, e falar com um de nossos especialistas para solicitar o cancelamento. Também é possível cancelar através da central de atendimento. Lembrando que a liberação do seu crédito emergencial está sujeita à análise e, após fazer o cancelamento, sua compra pode ser negada por falta de limite.',\n",
              " 'Você pode definir o quanto do seu limite você quer dividir com o cartão adicional e pedir o ajuste agora mesmo.É só você acessar a sua conta-corrente, com agência, conta e senha eletrônica, ou acessar o cartão, com número e senha do cartão de crédito, e digitar “limite dos adicionais” no campo de busca.Você pode aumentar ou diminuir o limite do cartão adicional quantas vezes quiser, desde que esteja dentro do limite total do cartão titular.Se você não tem os dados para acessar o seu cartão pela internet, é só ligar para a central de atendimento de cartões, que definiremos o limite dos adicionais por lá.O usuário do cartão de crédito adicional pode acompanhar o limite disponível para compras pelo aplicativo Itaucard. É só baixar o app no celular, acessar com o número e senha do cartão de crédito, e tocar em “limites”.Se ainda não tem, pode aproveitar para baixar o app Itaucard Para Android ou iOS.',\n",
              " 'Sim. O limite do cartão de crédito pode ser reduzido atendendo à sua solicitação ou por decisão do banco. Veja detalhes:\\nAtendendo à sua solicitação – Você pode pedir a redução a qualquer momento. Para isso, é só acessar a sua conta-corrente, com agência, conta e senha eletrônica, ou acessar o cartão, com número e senha de 4 dígitos do cartão de crédito, e digitar “atendimento online” no campo de busca.Por decisão do banco – O banco pode fazer a redução de limite do cartão e você será comunicado antes, como combinado nas Condições Gerais do Contrato de Cartão de Crédito.Seu limite pode ser reduzido para auxiliar você no controle do seu orçamento. Analisamos diversos fatores (como, por exemplo, atraso no pagamento das faturas, pagamento parcial das faturas, endividamento em outros produtos de crédito no Itaú e em outras instituições) e o controle de gastos junto com a redução do limite são maneiras de ajudar a prevenir o endividamento. Isso também está combinado no Contrato do Cartão de Crédito.Se preferir, pode ver outras sugestões na nossa página de uso consciente do dinheiro.',\n",
              " 'Para a sua segurança, o seu cartão de débito ou múltiplo (função débito e crédito) é entregue bloqueado. É preciso fazer o desbloqueio de cartão antes de usá-lo. É só escolher a forma mais simples para você:Se o seu cartão for múltiplo, se preferir, você pode desbloquear uma função por vez (débito ou crédito). Desbloqueando a função crédito, a anuidade do cartão passará a ser cobrada.',\n",
              " 'Para a sua segurança, seu cartão é entregue bloqueado e você precisa fazer o desbloqueio antes de usá-lo. Veja como desbloquear seu novo cartão:Se você não tem conta no Itaú:● App Itaucard – É só você baixar o app Itaucard no seu celular, entrar com o número do seu cartão e senha, que você recebeu por SMS ou carta, e você já será encaminhado para o fluxo de desbloqueio. Se você não puder desbloquear seu cartão naquele momento, não se preocupe, na aba serviços é só tocar em desbloquear novo cartão, escolher o cartão que quer desbloquear e seguir o passo a passo.',\n",
              " 'Veja como bloquear cartão de crédito, débito ou múltiplo por perda, roubo ou outro motivo: Cartão de crédito – Na internet, você pode acessar a sua conta-corrente, com agência, conta e senha eletrônica, ou acessar o cartão, com número e senha do cartão de crédito, e digitar “aviso de perda ou roubo” no campo de busca.Após bloquear cartão de crédito, aproveite e peça a 2ª via. É só digitar “solicitar 2ª via de cartão” no campo de busca. Cartão de débito ou múltiplo – Você pode bloquear cartão na internet. É só acessar a sua conta-corrente, com agência, conta e senha eletrônica, e digitar “bloquear cartão de débito” no campo de busca. Depois, você escolhe a opção “bloquear cartão” e insere a senha do cartão de débito.Para pedir a 2ª via do cartão, você pode ligar para o Itaú no telefone ou ir até a sua agência.Se você não tiver os dados para acessar a internet, basta ligar para o Itaú no telefone. Por lá, bloqueamos a função de débito e de crédito e emitimos a 2ª via do cartão.',\n",
              " 'Você pode fazer saques e compras no exterior com o seu cartão de crédito ou débito. Para isso, basta cadastrar o Aviso Viagem no seu cartão. Veja como:Se você tem conta-corrente no Itaú, pode escolher uma destas formas:<Se você ainda não tem conta corrente no Itaú> O Aviso Viagem é feito para a sua segurança. Quando você nos avisa que vai para o exterior e o período que vai ficar por lá, você evita que suas compras sejam negadas por suspeita de uso indevido do seu cartão internacional.Confira outras soluções para viagem ;-)',\n",
              " 'Precisando solicitar a segunda via do seu cartão? Eu te ajudo, é só seguir o passo a passo abaixo:- Cartão de crédito:Se você for correntista do Itaú, pode solicitar sua segunda via pelo aplicativo do Itaú.1.       Acesse sua conta com sua agência, conta e senha eletrônica.2.       Clique em serviços.3.       Em seguida, selecione cartões.4.      Toque em segunda via.Aí basta escolher o cartão e efetuar o pedido. Caso não seja correntista, você pode pedir através do aplicativo Itaucard, veja o passo a passo aqui embaixo:1.       Acesse com seu cartão e senha.\\n2.       Toque em serviços.3.       Clique em pedir 2ª via do cartão.Aí basta escolher o cartão e efetuar o pedido.  - Cartão múltiplo (crédito e débito) e Cartão de débito: você pode solicitar sua segunda via pelo aplicativo do Itaú.1.       Acesse sua conta com sua agência, conta e senha eletrônica.2.       Clique na aba ajuda.3.       Procure pelo chat.4.      Selecione conta corrente.5.       Digite “segunda via de cartão”.Aí é só seguir as instruções na conversa.Pronto! Agora você já sabe como pedir a seguna via do seu cartão direto pelo aplicativo Itaú :) .',\n",
              " 'Para pedir o seu cartão Itaucard, é só consultar nossos cartões e escolher a melhor opção para você.\\n\\nVeja em nosso site os benefícios do cartão, a renda mínima necessária e o valor da anuidade. Se ficar em dúvida, você pode comparar os cartões que mais combinam com você e conferir as diferenças entre eles, como serviços inclusos e programa fidelidade.\\n\\nDepois de escolher o cartão, é só preencher os seus dados e aguardar nossa análise, que entraremos em contato em breve.',\n",
              " 'Após solicitar cartão de crédito, débito ou múltiplo, sendo um cartão novo ou 2ª via, veja em quantos dias você vai recebê-lo em seu endereço: Cartão de crédito:O prazo de entrega, após solicitar cartão de crédito, varia de acordo com a cidade em que você mora e o tipo de cartão escolhido, podendo ser de até 15 dias corridos. Porém, devido ao momento atual, pode ser que demore um pouco mais.Se o seu cartão foi aprovado há mais de 10 dias corridos e ele ainda não chegou, é só acessar a sua conta-corrente, com agência e senha eletrônica e digitar “chat” no campo de busca.Se preferir, você pode acessar o aplicativo Itaucard e tocar na opção “atendimento > chat”.Se você não tem os dados para acessar o seu cartão pela internet, é só ligar para a central de atendimento a cartões, que verificamos por lá. Cartão de débito e múltiplo (débito e crédito no mesmo cartão):O prazo de entrega é de até 10 dias corridos nas capitais e regiões metropolitanas e de até 15 dias corridos nas demais regiões.Após esse prazo, caso não receba o cartão, basta ligar para o Itaú no telefone e pedir um novo cartão.Se a entrega do cartão de débito Itaú for na agência, você pode ligar para o Itaú no telefone e confirmar se ele já está disponível para retirada. Importante: antes de usar o cartão, faça o desbloqueio.Ao pagar com seu cartão Itaú, você tem 50% de desconto em diversos cinemas e teatros. Veja os benefícios do seu cartão de débito e os benefícios do seu cartão de crédito.',\n",
              " 'Nós enviamos um e-mail com novidades sobre o seu pedido em até 45 dias após o preenchimento da proposta do cartão. Então, fique de olho nos seus e-mails, inclusive na caixa de spam.',\n",
              " 'Depois de receber o e-mail de aprovação, o cartão chega em até 15 dias úteis no endereço que você cadastrou na hora do preenchimento da proposta. O prazo para a entrega do cartão depende dos Correios.',\n",
              " 'Quando terminar de preencher a proposta de pedido do cartão, a confirmação vai aparecer na tela, e já começamos a analisar seu pedido. Durante a análise, podemos entrar em contato para confirmar algumas informações. Em até 45 dias corridos enviamos um e-mail informando se você foi aprovado ou ainda não.',\n",
              " 'Sim, em nosso processo de análise, mesmo se você recebeu um e-mail de negativa no primeiro mês, continuamos te avaliando por até 6 meses para tentar a aprovação. E o melhor, como você já preencheu as suas informações anteriormente, não precisará informar mais nada, é só aguardar o cartão chegar na sua casa.',\n",
              " 'Não se preocupe, não é necessário preencher outra proposta. Se o cartão não puder ser liberado para você naquele momento, continuamos analisando o seu perfil por até 6 meses para tentar a aprovação.\\n\\nSe você não for aprovado no primeiro mês e receber um e-mail de negativa, pode ser que nos meses seguintes você receba um e-mail com a aprovação do cartão.',\n",
              " 'Conheça cartão virtual e saiba como fazer compras pela internet ou telefone com ainda mais segurança. O que é\\nO cartão virtual é um número de cartão temporário, gerado pelo aplicativo Itaucard ou pelo app Itaú. Você não precisa estar com o seu cartão físico em mãos para gerar o virtual. Você usa esse número exclusivamente para compras pela internet (em sites do Brasil e do exterior) ou por telefone.É mais prático e ainda mais seguro, pois vale apenas para uma compra. Como gerar o cartão virtual\\nVocê pode gerar o cartão virtual no app Itaucard ou, se tiver conta corrente com a gente, no app Itaú.\\nO serviço não está disponível para cartão adicional. App Itaucard1) Primeiro, acesse o app Itaucard.2) No menu, escolha a opção cartão virtual.3) Aí, selecione o seu cartão e, a partir dele, gera um número de cartão virtual.4) Depois, digite a senha do seu cartão físico.5) Pronto! Agora você já pode comprar na internet com mais segurança e praticidade. Se você ainda não tem, baixe o app Itaucard: Android ou iOS. App Itaú no celular1) Acesse a sua conta corrente no app Itaú.2) Depois, digite “cartão virtual” no campo de busca.3) Selecione o seu cartão e, a partir dele, gere um número de cartão virtual.4) Para terminar, digite a senha do seu cartão de débito.5) Feito! Só usar o número do seu cartão temporário.Se precisar, baixe o app Itaú: Android ou iOS.Dica: recomendamos gerar o cartão virtual próximo ao momento da compra. Dessa forma não há o risco de perder o número e o prazo de validade do cartão. Como usar o cartão virtual\\nDá para fazer qualquer compra na internet ou telefone?\\nPor ser virtual, não utilize esse cartão temporário para comprar ingressos que necessitem de leitura da tarja ou de apresentação do cartão na entrada do evento. Além disso, o cartão virtual vale para uma única compra. Por isso, não deve ser usado para assinatura de serviços com pagamento mensal, como revistas, jornais, canais de TV, sites de conteúdo, músicas, filmes.Validade do cartão\\nO cartão virtual é válido por 48 horas, a partir do momento em que for gerado ou para uma única compra.Limite do cartãoO limite do cartão virtual é o mesmo do seu cartão físico.Pontuação Programa de PontosSe você tem Programa de Fidelidade no seu cartão físico, os pontos serão creditados normalmente. Identificar compra na faturaNa fatura, aparecerá um ícone \"@\" sinalizando a compra com cartão virtual. Cada compra estará sinalizada com os 4 últimos dígitos do cartão virtual usado.Desbloqueio do cartãoNão precisa desbloquear, você pode usar o cartão assim que o seu número for gerado.TarifaO gasto é atrelado ao seu cartão de crédito e não há cobrança de tarifa adicional.Compra parceladaSua compra pode ser parcelada conforme a possibilidade do estabelecimento comercial.SenhaPara fazer compras, você vai usar os dados do cartão gerado: número do cartão, data de validade e o código de segurança de 3 dígitos.Conheça nossa página e use o seu cartão virtual hoje mesmo. ',\n",
              " 'No app Itaucard você pode confirmar compra e ver se houve autorização de pagamento!  Quando você faz uma compra com o seu cartão de crédito, em instantes ela aparece na linha do tempo, que fica na home do seu app.Ao logar no app, você pode acompanhar em tempo real os lançamentos de seu cartão de crédito. Pela linha do tempo você consegue ver o detalhe de todas as suas compras, a data em que foram feitas, o valor, se elas foram feitas por você ou pelo adicional do cartão, se foram parceladas, canceladas e a taxa de conversão do dólar, nos casos de compras no exterior.Se ainda não tem o app, baixe agora: Android ou iOS.Importante: compra aprovada aparece em instantes apenas na linha do tempo, na fatura elas são apresentadas em até 2 dias úteis.Se preferir, no computador, é só acessar sua conta ou acessar seu cartão, digitar “chat” no campo de busca para falar com nossos especialistas de cartão para confirmar a autorização de compra.No app Itaú no celular ainda não dá para confirmar compra em tempo real.',\n",
              " 'Veja como localizar as informações do seu cartão, saiba o que é CVV e confira nossas dicas para você conseguir finalizar a suas compras online.Como localizar as informações do cartãoData de validade do cartão\\nPara fazer compras online, você precisa digitar a data de validade que fica estampada na parte da frente do seu cartão.\\n\\nQuando o seu cartão está próximo da data de vencimento, automaticamente enviamos um novo para a sua residência. Se o seu cartão venceu e você ainda não recebeu o novo, pode pedir a segunda via do cartão de crédito.Como localizar as informações do cartãoDesbloqueio do cartão\\nPara a sua segurança, seu cartão é entregue bloqueado. Para fazer compras, veja como desbloquear o cartão de crédito.Cartão cancelado\\nSe enviamos para você um novo cartão e você já fez o desbloqueio, para a sua segurança, a sua via anterior é cancelada automaticamente.Fique tranquilo! É só usar o novo cartão para fazer as compras.Limite do cartão\\nVeja como acompanhar o limite do seu cartão e conferir se você tem limite disponível para fazer novas compras.Lembre-se que após o pagamento da fatura seu limite de crédito será liberado para novas compras em até 5 dias úteis.Cartão Virtual\\nO cartão virtual é um número de cartão temporário, gerado pelo aplicativo Itaucard. Você não precisa estar com o seu cartão físico em mãos e pode usar esse número exclusivamente para compras online. Saiba como gerar o cartão virtual.Se após seguir todas essas dicas a sua compra não for finalizada, entre em contato com a central de cartões para ajudarmos você.\\n',\n",
              " 'Caso tenha bloqueado ou esquecido sua senha, fique tranquilo, recuperá-la é bem simples.Se você é correntista do Itaú, você consegue recuperar sua senha através do aplicativo do Itaú. 1.       Acesse o app com sua agência, conta e senha eletrônica2.       Toque no menu serviços3.       Selecione cartões4.      Em seguida, clique em recuperação de senha.Aí basta escolher qual cartão deseja recuperar a senha e digitar sua senha eletrônica para visualizar a senha do cartão.Agora, se você não for correntista do Itaú você consegue recuperar a senha no aplicativo do seu cartão (Itaucard, Hipercard e Cartão Luiza).1.        Na tela inicial do app insira o número do cartão.2.       Em seguida, clique em esqueci minha senha.Você sempre pode procurar na funcionalidade de busca do seu aplicativo, para esse assunto busque por recuperação de senha e siga as instruções.Mas fique ligado! Para conseguir visualizar a senha pelo aplicativo, você precisa já ter o iToken instalado no seu celular ;) .',\n",
              " 'Se você esqueceu ou bloqueou a senha do seu cartão, fique tranquilo! Eu te mostro como recuperá-la aqui. Agora, você já sabe a sua senha e deseja alterá-la? Vou te ajudar.É possível alterar a senha dos seus cartões em qualquer caixa eletrônico Itaú, basta seguir o passo a passo abaixo:- Cartão de crédito:1. Insira seu cartão no caixa.2. Selecione a opção troca de senha.3. Digite sua senha atual.4. Em seguida, digite a nova senha.Pronto! Sua nova senha já está funcionando.- Cartão de débito ou múltiplo:1. Insira seu cartão no caixa.2. Selecione a opção produtos e serviços.3. Em seguida, escolha segurança.4. Toque em alteração no caixa eletrônico.Pronto! Aí é só continuar com o processo e confirmar a alteração. Agora, lembre-se de tomar todos os cuidados necessários neste momento, use sempre máscara e não se esqueça de higienizar suas mãos antes e após o contato com o caixa eletrônico.',\n",
              " 'Se você tem uma conta corrente no Itaú e perdeu o seu cartão ou foi roubado, você pode pedir o bloqueio dele pelo nosso site. É só acessar com a sua agência, conta e senha eletrônica e digitar \"bloquear cartão\" na barra de busca. Por lá, você consegue bloquear e já aproveitar para pedir uma 2ª via.Para cancelar por qualquer outro motivo, toque na aba ajuda, procure por chat com especialistas e escolha Cartão de crédito. Quando estiver na conversa, digite \"cancelar cartão de crédito\" e siga as orientações. Se você não tem uma conta no Itaú  pode pedir o bloqueio ou cancelamento pelo site da Itaucard.  Para casos de perda ou roubo, digite \"bloquear cartão\" na barra de busca e siga as orientações. Por lá, você pode bloquear e já pedir uma 2º via.Para cancelamentos, clique em ajuda e depois no ícone do chat, que fica no canto inferior direito da sua tela. Quando já estiver na conversa, digite \"cancelar cartão\" e siga o passo a passo. Para cancelar o cartão de um titular falecido, ligue para a nossa Central de atendimento de cartões de crédito. Vamos te ajudar por lá. E se você desistiu da contratação de um cartão, também pode pedir o cancelamento ligando pra gente. Mas isso só vale para cartões novos, bloqueados ou desbloqueados há no máximo 7 dias e que ainda não foram usados, tá?E se quiser, relembre os benefícios de ser cliente da Itaucard: vão desde descontos em cinemas e lojas parcerias até a troca de pontos por milhas aéreas :)',\n",
              " 'Sentimos muito e sabemos que esse é um momento delicado. Vamos te ajudar no que for necessário.Para informar o óbito você precisa enviar a certidão de óbito anexo para o e-mail: atendimentoespolio@itau-unibanco.com.br. No assunto do e-mail, coloque apenas o CPF do titular falecido.Se além de informar o óbito, deseja consultar saldo e ativos do titular falecido, você deve seguir os passos abaixo:1º faça o download do formulário informativo digital por aqui;2º preencha as informações no próprio arquivo e salve em seu computador;3º separe a certidão de óbito do titular da conta e uma cópia simples do seu documento de identificação com foto (RG e CPF, CNH, CTPS ou Passaporte) que comprovem parentesco; caso não seja herdeiro direto enviar também termo de nomeação de inventariante ou determinação judicial (alvará/ofício);4º se for correntista do Itaú pule esta etapa. Caso você (parente ou representante do titular da conta) não seja correntista, envie também uma selfie segurando o mesmo documento de identificação solicitado acima junto com um papel com a data de solicitação escrita no modelo “dd/mm/aaaa”5º  envie todos os documentos acima (formulário, certidão de óbito, documentos de identificação e selfie) anexo para o e-mail: atendimentoespolio@itau-unibanco.com.br;Importante: no assunto do e-mail, coloque apenas o CPF do titular falecido. Caso seja correntista, utilize o mesmo e-mail cadastrado no Itaú.Lembramos que você apenas poderá consultar saldos e ativos do titular se for herdeiro, inventariante ou mediante apresentação de determinação judicial.Para que possamos dar andamento ao processo, é importante que todas as etapas acima sejam seguidas, e os documentos sejam anexados no e-mail para assim conseguirmos prosseguir com o atendimento.Após análise, você receberá o retorno no mesmo e-mail em até 07 dias úteis.',\n",
              " 'Quando você precisa de mais tempo para colocar suas contas em dia, você tem duas opções pra negociar sua fatura.\\nA primeira opção é o Parcelamento de Fatura, ideal pra quem precisa de um fôlego extra no fim do mês. Você pode parcelar sua fatura em até 24 vezes, e continuar usando seu cartão normalmente. Você pode solicitar o parcelamento todos os dias das 8h às 20h (horário de Brasília), e fica disponível entre o fechamento da fatura até 15 dias corridos após o vencimento.Mas lembre-se, o parcelamento comprometerá parcialmente o limite do seu cartão, que será recomposto conforme você paga suas parcelas. E não se esqueça de conferir o Custo Efetivo Total (CET) antes de contratar, pois o parcelamento está sujeito a juros e impostos.Aqui você pode saber mais sobre como fazer o Parcelamento de Fatura. Já a segunda opção é o Acordo Fatura, ideal para clientes que já estão em atraso há mais de 15 dias. Você pode parcelar o saldo total do seu cartão, incluindo compras parceladas em até 48 vezes. Mas nesse caso o seu cartão fica bloqueado até que parte das parcelas sejam pagas, o tempo de bloqueio dependerá da quantidade de parcelas escolhidas.O preço e as condições são as mesmas em todos os canais de contratação, e durante o processo será feito o cálculo do seu saldo devedor total do Acordo Fatura. Ele é formado pela soma de todos os gastos pendentes do seu cartão, faturas fechadas, abertas, lançamentos futuros e compras parceladas. Mas não incluindo no saldo total as anuidades, juros e seguros.Você pode contratar o Acordo Fatura de segunda a sábado das 6h às 20h, e domingo das 6h às 17h (horário de Brasília).Aqui você pode saber mais sobre como contratar o Acordo Fatura.',\n",
              " 'Está precisando de um prazo maior para pagar a fatura do seu cartão? Você consegue fazer o Parcelamento de Fatura direto pelo aplicativo Itaucard e site ou app Itaú, é só seguir o passo a passo abaixo:- Pelo Aplicativo Itaucard1. Abra o aplicativo e faça login, com o número do seu cartão e senha.2. Toque na aba “serviços” e depois em “parcelar fatura”.3. Siga as instruções e faça o parcelamento. - Pelo Aplicativo Itaú1. Abra o aplicativo e acesse sua conta, com sua agência, conta corrente e senha eletrônica.2. Toque na aba “serviços”, depois em “cartões” e por último em “parcelamento de fatura”.3. Siga as instruções e faça o parcelamento. - Pelo Itaú na Internet1. Acesse o site do Itaú e acesse sua conta, com sua agência, conta corrente e senha eletrônica. Se não for correntista, use o número do seu cartão e senha.2. Digite “parcelar fatura” na barra de busca.3. Siga as instruções e faça o parcelamento. Pronto! Agora você consegue fazer o parcelamento da sua fatura direto pelos nossos canais digitais.',\n",
              " 'Está em atraso e quer renegociar a fatura do seu cartão de crédito? O Acordo Fatura é uma forma de renegociação exclusiva para clientes sem conta corrente no Itaú, e você consegue contratar direto pelo aplicativo ou site do seu cartão, é só seguir o passo a passo aqui embaixo:- Pelo app do seu cartão1. Abra o aplicativo do seu cartão e faça login, com o número do seu cartão de crédito e senha.2. Toque na aba “serviços” e depois em “Acordo Fatura”.3. Siga as instruções e escolha a melhor oferta pra você. - Pelo site do seu cartão1. Acesse o site do seu cartão e faça login com o número do seu cartão de crédito e senha.2. Clique em “minha fatura” e em seguida em “renegociação do saldo total”.3. Siga as instruções e escolha a melhor oferta pra você. Mas lembre-se que para o seu cartão ser elegível ao Acordo Fatura ele precisa possuir saldo devedor na fatura. Mas caso seja correntista Itaú e  também queira renegociar as dividas do seu cartão, aqui você conhece mais sobre como fazer o parcelamento da fatura do cartão de crédito.',\n",
              " 'A anuidade do cartão é uma tarifa cobrada pela prestação de serviços como administração, manutenção, gerenciamento e monitoramento do cartão.Na Itaucard, o valor da anuidade do cartão volta para você em benefícios como:Confira os detalhes dos benefícios feitos para você ;-)Para conferir os valores de anuidade, aqui no site, você pode clicar em Produtos > Cartões > Tabela de Tarifas.Para outras informações da anuidade Itaucard, é só acessar a sua conta-corrente, com agência, conta e senha eletrônica, ou acessar o cartão, com número e senha do cartão de crédito, e digitar “atendimento online” no campo de busca.Se preferir, você pode acessar o aplicativo Itaucard e tocar na opção Atendimento > Chat.Se você não tem os dados para acessar o seu cartão pela internet, é só ligar para a central de atendimento a cartões, que tiramos as suas dúvidas por lá.',\n",
              " 'A taxa de juros do seu cartão de crédito Itaucard é informada todos os meses na sua fatura.Para consultar a taxa de juros do cartão de crédito na internet, é só acessar a sua conta-corrente, com agência, conta e senha eletrônica, ou acessar o cartão, com número e senha do cartão de crédito, e digitar “histórico da fatura” no campo de busca.Se preferir, você pode consultar a sua fatura no seu app Itaucard. É só tocar na opção “faturas”.Na última página da fatura, confira os encargos do mês.Se você não tem os dados para acessar o seu cartão pela internet, é só ligar para a central de atendimento a cartões, que verificamos por lá.',\n",
              " 'Precisa de mais informações sobre a compra?Se você não lembra da compra e quer saber os dados do estabelecimento, acesse o app do seu cartão, clique na aba ajuda, acesse o CHAT e digite “não reconheço uma compra”.Ah, se a compra estiver com nome de Pag*, Sumup*, Stelo*, entre outros, você deve falar direto com a empresa para ter mais informações sobre a compra. Criamos uma lista de contatos que podem te ajudar: Confira aqui. Quer saber como contestar uma compra do cartão de crédito?Isso parece muito complicado, não é mesmo?Mas, fique tranquilo! Você consegue resolver tudo pelo app do seu cartão.Você pode fazer a contestação das compras em duas situações:- Encontrou alguma compra que foi aprovada e que não foi feita por você?- Comprou algum produto ou serviço e precisa de ajuda para resolver algum problema com o estabelecimento?Acesse o app, compras recentes, clique na compra, depois em reportar problema e siga o passo a passo.Você também pode ligar para nossa central de atendimento pelos telefones 3003-3030 (regiões metropolitanas) ou 0800 720 3030 (demais localidades) que te ajudaremos por lá.',\n",
              " 'O crédito pessoal é um empréstimo que você contrata pelo cartão de crédito. Se aprovado, o valor é depositado na conta corrente ou poupança que você escolher e as parcelas são lançadas na fatura do seu cartão. E não precisa se preocupar, você pode continuar usando seu Itaucard normalmente, porque ele não compromete o limite de compras.Você pode ver se tem pré-aprovado e fazer a simulação pelo app Itaucard, é só seguir esse passo a passo: no menu serviços, toque em crédito pessoal e, depois, em simular agora. Ah, e no momento da contratação você pode parcelar em até 36x.',\n",
              " 'Conforme disposto no contrato de cartão de crédito, caso o Itaú tenha que realizar a cobrança de quaisquer valores em atraso, as despesas decorrentes da cobrança serão repassadas aos clientes e debitadas na fatura, como \"REEMBOLSO DESP COBRANÇA\", que poderá incluir os seguintes custos:a. Envio de carta de cobrança: R$ 2,08 por carta enviada;b. Negativações: R$ 0,75 por negativação;c. Ligação de cobrança: R$ 2,47 por ligação.Os valores acima estão sujeitos a reajuste e serão atualizados nesta página.']"
            ]
          },
          "metadata": {
            "tags": []
          },
          "execution_count": 79
        }
      ]
    },
    {
      "cell_type": "code",
      "metadata": {
        "id": "pxWyxcEBbds0"
      },
      "source": [
        "IS_DEBUG = False\n",
        "\n",
        "def response_itau(user_response):\n",
        "    warnings.simplefilter('ignore')\n",
        "    robo_response=''\n",
        "    \n",
        "    # Cria uma lista contendo todas sentenças do corpus + a sentença enviada pelo usuário. Assim geramos o TF-IDF de tudo.\n",
        "    sentencas = perguntas_itau + [user_response]\n",
        "    \n",
        "    print('Perguntas disponíveis na base:\\n')\n",
        "    \n",
        "    [print(sentenca) for sentenca in sentencas[:-1]]\n",
        "\n",
        "    print('\\n\\n\\n\\n')\n",
        "    # Inicia tranformação do texto em uma matriz TF-IDF - normaliza texto e retira stop-words\n",
        "    TfidfVec = TfidfVectorizer(tokenizer=LemNormalize, stop_words=nltk.corpus.stopwords.words('portuguese'))\n",
        "\n",
        "    tfidf = TfidfVec.fit_transform(sentencas)\n",
        "    # Efetua cálculo de similaridade de cosseno entre o texto do usuário, e as sentenças do corpus\n",
        "    vals = cosine_similarity(tfidf[-1], tfidf)\n",
        "    # Obtém índice/posição da termo com maior grau de similaridade com o texto do usuário\n",
        "    idx = vals.argsort()[0][-2]\n",
        "    # Ordena vetor de similaridade\n",
        "    flat = vals.flatten()\n",
        "    flat.sort()\n",
        "    # Obtém o valor de similaridade do penúltimo item no vetor\n",
        "    # Pois o último item é o próprio texto do usuário, que obtém sempre grau máximo de similaridade\n",
        "    # Portanto, obtemos a segunda maior similaridade, pois não queremos o próprio texto enviado pelo usuário\n",
        "    req_tfidf = flat[-2]\n",
        "\n",
        "    if IS_DEBUG:\n",
        "      print(\"Vetor de similaridade (último valor é o próprio texto do usuário): \")\n",
        "      print(vals)\n",
        "      print(\"Índice da maior similaridade: \")\n",
        "      print(idx)\n",
        "      print(\"Vetor de similaridade ordenado: \")\n",
        "      print(flat)\n",
        "      print(\"Similaridade da sentença mais similar encontrada: \")\n",
        "      print(req_tfidf)\n",
        "\n",
        "    # Caso não seja encontrada similaridade para nenhum item do corpus\n",
        "    if(req_tfidf==0):\n",
        "        robo_response=robo_response+\"Você poderia reformular sua pergunta?\"\n",
        "        return robo_response\n",
        "    else:\n",
        "        robo_response = robo_response+ 'PERGUNTA SELECIONADA: ' + perguntas_itau[idx] + ' RESPOSTA SELECIONADA: ' + respostas_itau[idx]\n",
        "        return robo_response"
      ],
      "execution_count": 86,
      "outputs": []
    },
    {
      "cell_type": "code",
      "metadata": {
        "colab": {
          "base_uri": "https://localhost:8080/",
          "height": 970
        },
        "id": "KhjsCNh2cfgq",
        "outputId": "c15abd6c-bd80-49fa-deec-a82cf930fef7"
      },
      "source": [
        "response_itau('como posso abrir uma conta?')"
      ],
      "execution_count": 87,
      "outputs": [
        {
          "output_type": "stream",
          "text": [
            "Perguntas disponíveis na base:\n",
            "\n",
            "Onde consultar a fatura Itaucard e como saber se ela já fechou?\n",
            "Posso pagar conta com cartão de crédito?\n",
            "O que é e como funciona o pagamento por aproximação?\n",
            "Como cadastrar ou cancelar o debito automático da minha fatura?\n",
            "Como antecipar o pagamento de uma compra parcelada no cartão?\n",
            "Onde posso pagar a fatura Itaú?\n",
            "Como alterar a data de vencimento da fatura do cartão de crédito?\n",
            "Como cadastrar a fatura digital?\n",
            "Fiz um pagamentos em duplicidade como posso regularizar?\n",
            "Como eu sei se meu cartão tem a funcionalidade de pagamento por aproximação?\n",
            "Como saber o limite do cartão de crédito e o valor disponível para compra?\n",
            "Como aumento o limite do meu cartão de crédito?\n",
            "Quanto tempo leva para o limite de crédito ser liberado após o pagamento?\n",
            "O que é e como funciona o aumento de limite automático?\n",
            "O que é e como funciona o aumento de limite temporário do cartão de crédito?\n",
            "Como contrato ou cancelo a avaliação emergencial de crédito?\n",
            "Como defino o limite de crédito para o cartão adicional?\n",
            "O limite do cartão de crédito pode ser reduzido?\n",
            "Como faço o desbloqueio de cartão de débito ou múltiplo?\n",
            "Como faço para desbloquear meu cartão de crédito?\n",
            "Como faço para bloquear cartão de crédito, débito ou múltiplo?\n",
            "Como faço para cadastrar o aviso viagem?\n",
            "Como pedir a segunda via do cartão?\n",
            "Como posso pedir um cartão de crédito do Itaú?\n",
            "Qual o prazo de entrega após soliticar um cartão de crédito, débito ou múltiplo?\n",
            "Onde acompanho o status do meu pedido de cartão?\n",
            "Recebi o e-mail de aprovação, meu cartão chegará em quanto tempo?\n",
            "Depois que preenchi a proposta do cartão, quanto tempo demora a análise?\n",
            "Recebi um e-mail aprovando um cartão que pedi há meses atrás. E agora?\n",
            "Recebi um e-mail de negativa mas ainda quero o cartão. E agora?\n",
            "Como funciona o cartão virtual Itaú?\n",
            "Como confirmar compra com o cartão de crédito?\n",
            "Como fazer compras online com meu cartão?\n",
            "Como recupero a senha do meu cartão de crédito, débito ou múltiplo?\n",
            "Como altero a senha do meu cartão de crédito, débito ou múltiplo?\n",
            "Como cancelar cartão de crédito do titular ou adicionais?\n",
            "Como faço o cancelamento do cartão de crédito do titular falecido?\n",
            "Como fazer a renegociação da fatura do meu cartão de crédito?\n",
            "Como parcelo a fatura do meu cartão de crédito?\n",
            "Como contrato o Acordo Fatura?\n",
            "O que é anuidade do cartão?\n",
            "Como consulto a taxa de juros do cartão de crédito?\n",
            "Como contestar uma compra no cartão de crédito?\n",
            "Como funciona o crédito pessoal no cartão de crédito\n",
            "Quais são as despesas de cobrança?\n",
            "\n",
            "\n",
            "\n",
            "\n",
            "\n"
          ],
          "name": "stdout"
        },
        {
          "output_type": "execute_result",
          "data": {
            "application/vnd.google.colaboratory.intrinsic+json": {
              "type": "string"
            },
            "text/plain": [
              "'PERGUNTA SELECIONADA: Posso pagar conta com cartão de crédito? RESPOSTA SELECIONADA: Sim, você pode pagar conta com cartão de crédito e concentrar as suas contas na data de vencimento da sua fatura. Veja como é simples:É só acessar a sua conta-corrente, com agência e senha eletrônica, ou acessar o cartão, com número e senha do cartão de crédito, e digitar “pague contas” no campo de busca.Se preferir, você também pode pagar conta com cartão de crédito no guichê de qualquer agência Itaú. Para isso, é só levar o cartão de crédito, um documento com foto e a conta que deseja pagar.Importante: Para os cartões de crédito Hipercard, Sam’s Club Itaucard e Walmart Itaucard, o serviço está disponível exclusivamente pela central de atendimento a cartões e somente para contas de concessionárias (água, luz, telefone, gás e TV a cabo). Para o cartão Ipiranga Itaucard, o serviço só está disponível para cliente que possua conta-corrente no Itaú.Esse serviço está sujeito a encargos (juros e IOF), desde o momento de pagamento da conta até a data de pagamento da fatura. Antes da contratação, consulte o CET (Custo Efetivo Total).Você pode pagar contas que tenham código de barras, e o pagamento deve ser feito até a data de vencimento da conta. Contas de água, luz, gás, TV a cabo (exceto Sky) e telefone podem ser pagas após o vencimento.Os pagamentos feitos nos finais de semana ou feriados serão acatados no próximo dia útil.'"
            ]
          },
          "metadata": {
            "tags": []
          },
          "execution_count": 87
        }
      ]
    },
    {
      "cell_type": "code",
      "metadata": {
        "colab": {
          "base_uri": "https://localhost:8080/",
          "height": 970
        },
        "id": "lXY1jEPbdHRc",
        "outputId": "916fee61-8ef4-4d77-a2ef-bfb5c443649e"
      },
      "source": [
        "response_itau('como posso pedir a segunda via do meu cartão itau?')"
      ],
      "execution_count": 88,
      "outputs": [
        {
          "output_type": "stream",
          "text": [
            "Perguntas disponíveis na base:\n",
            "\n",
            "Onde consultar a fatura Itaucard e como saber se ela já fechou?\n",
            "Posso pagar conta com cartão de crédito?\n",
            "O que é e como funciona o pagamento por aproximação?\n",
            "Como cadastrar ou cancelar o debito automático da minha fatura?\n",
            "Como antecipar o pagamento de uma compra parcelada no cartão?\n",
            "Onde posso pagar a fatura Itaú?\n",
            "Como alterar a data de vencimento da fatura do cartão de crédito?\n",
            "Como cadastrar a fatura digital?\n",
            "Fiz um pagamentos em duplicidade como posso regularizar?\n",
            "Como eu sei se meu cartão tem a funcionalidade de pagamento por aproximação?\n",
            "Como saber o limite do cartão de crédito e o valor disponível para compra?\n",
            "Como aumento o limite do meu cartão de crédito?\n",
            "Quanto tempo leva para o limite de crédito ser liberado após o pagamento?\n",
            "O que é e como funciona o aumento de limite automático?\n",
            "O que é e como funciona o aumento de limite temporário do cartão de crédito?\n",
            "Como contrato ou cancelo a avaliação emergencial de crédito?\n",
            "Como defino o limite de crédito para o cartão adicional?\n",
            "O limite do cartão de crédito pode ser reduzido?\n",
            "Como faço o desbloqueio de cartão de débito ou múltiplo?\n",
            "Como faço para desbloquear meu cartão de crédito?\n",
            "Como faço para bloquear cartão de crédito, débito ou múltiplo?\n",
            "Como faço para cadastrar o aviso viagem?\n",
            "Como pedir a segunda via do cartão?\n",
            "Como posso pedir um cartão de crédito do Itaú?\n",
            "Qual o prazo de entrega após soliticar um cartão de crédito, débito ou múltiplo?\n",
            "Onde acompanho o status do meu pedido de cartão?\n",
            "Recebi o e-mail de aprovação, meu cartão chegará em quanto tempo?\n",
            "Depois que preenchi a proposta do cartão, quanto tempo demora a análise?\n",
            "Recebi um e-mail aprovando um cartão que pedi há meses atrás. E agora?\n",
            "Recebi um e-mail de negativa mas ainda quero o cartão. E agora?\n",
            "Como funciona o cartão virtual Itaú?\n",
            "Como confirmar compra com o cartão de crédito?\n",
            "Como fazer compras online com meu cartão?\n",
            "Como recupero a senha do meu cartão de crédito, débito ou múltiplo?\n",
            "Como altero a senha do meu cartão de crédito, débito ou múltiplo?\n",
            "Como cancelar cartão de crédito do titular ou adicionais?\n",
            "Como faço o cancelamento do cartão de crédito do titular falecido?\n",
            "Como fazer a renegociação da fatura do meu cartão de crédito?\n",
            "Como parcelo a fatura do meu cartão de crédito?\n",
            "Como contrato o Acordo Fatura?\n",
            "O que é anuidade do cartão?\n",
            "Como consulto a taxa de juros do cartão de crédito?\n",
            "Como contestar uma compra no cartão de crédito?\n",
            "Como funciona o crédito pessoal no cartão de crédito\n",
            "Quais são as despesas de cobrança?\n",
            "\n",
            "\n",
            "\n",
            "\n",
            "\n"
          ],
          "name": "stdout"
        },
        {
          "output_type": "execute_result",
          "data": {
            "application/vnd.google.colaboratory.intrinsic+json": {
              "type": "string"
            },
            "text/plain": [
              "'PERGUNTA SELECIONADA: Como pedir a segunda via do cartão? RESPOSTA SELECIONADA: Precisando solicitar a segunda via do seu cartão? Eu te ajudo, é só seguir o passo a passo abaixo:- Cartão de crédito:Se você for correntista do Itaú, pode solicitar sua segunda via pelo aplicativo do Itaú.1.       Acesse sua conta com sua agência, conta e senha eletrônica.2.       Clique em serviços.3.       Em seguida, selecione cartões.4.      Toque em segunda via.Aí basta escolher o cartão e efetuar o pedido. Caso não seja correntista, você pode pedir através do aplicativo Itaucard, veja o passo a passo aqui embaixo:1.       Acesse com seu cartão e senha.\\n2.       Toque em serviços.3.       Clique em pedir 2ª via do cartão.Aí basta escolher o cartão e efetuar o pedido.  - Cartão múltiplo (crédito e débito) e Cartão de débito: você pode solicitar sua segunda via pelo aplicativo do Itaú.1.       Acesse sua conta com sua agência, conta e senha eletrônica.2.       Clique na aba ajuda.3.       Procure pelo chat.4.      Selecione conta corrente.5.       Digite “segunda via de cartão”.Aí é só seguir as instruções na conversa.Pronto! Agora você já sabe como pedir a seguna via do seu cartão direto pelo aplicativo Itaú :) .'"
            ]
          },
          "metadata": {
            "tags": []
          },
          "execution_count": 88
        }
      ]
    },
    {
      "cell_type": "code",
      "metadata": {
        "colab": {
          "base_uri": "https://localhost:8080/",
          "height": 953
        },
        "id": "gEJ9ltcCd5iA",
        "outputId": "8a42fcdf-33ca-4356-c10e-811fa18226c3"
      },
      "source": [
        "response_itau('qual lugar eu pago fatura itau?')"
      ],
      "execution_count": 89,
      "outputs": [
        {
          "output_type": "stream",
          "text": [
            "Perguntas disponíveis na base:\n",
            "\n",
            "Onde consultar a fatura Itaucard e como saber se ela já fechou?\n",
            "Posso pagar conta com cartão de crédito?\n",
            "O que é e como funciona o pagamento por aproximação?\n",
            "Como cadastrar ou cancelar o debito automático da minha fatura?\n",
            "Como antecipar o pagamento de uma compra parcelada no cartão?\n",
            "Onde posso pagar a fatura Itaú?\n",
            "Como alterar a data de vencimento da fatura do cartão de crédito?\n",
            "Como cadastrar a fatura digital?\n",
            "Fiz um pagamentos em duplicidade como posso regularizar?\n",
            "Como eu sei se meu cartão tem a funcionalidade de pagamento por aproximação?\n",
            "Como saber o limite do cartão de crédito e o valor disponível para compra?\n",
            "Como aumento o limite do meu cartão de crédito?\n",
            "Quanto tempo leva para o limite de crédito ser liberado após o pagamento?\n",
            "O que é e como funciona o aumento de limite automático?\n",
            "O que é e como funciona o aumento de limite temporário do cartão de crédito?\n",
            "Como contrato ou cancelo a avaliação emergencial de crédito?\n",
            "Como defino o limite de crédito para o cartão adicional?\n",
            "O limite do cartão de crédito pode ser reduzido?\n",
            "Como faço o desbloqueio de cartão de débito ou múltiplo?\n",
            "Como faço para desbloquear meu cartão de crédito?\n",
            "Como faço para bloquear cartão de crédito, débito ou múltiplo?\n",
            "Como faço para cadastrar o aviso viagem?\n",
            "Como pedir a segunda via do cartão?\n",
            "Como posso pedir um cartão de crédito do Itaú?\n",
            "Qual o prazo de entrega após soliticar um cartão de crédito, débito ou múltiplo?\n",
            "Onde acompanho o status do meu pedido de cartão?\n",
            "Recebi o e-mail de aprovação, meu cartão chegará em quanto tempo?\n",
            "Depois que preenchi a proposta do cartão, quanto tempo demora a análise?\n",
            "Recebi um e-mail aprovando um cartão que pedi há meses atrás. E agora?\n",
            "Recebi um e-mail de negativa mas ainda quero o cartão. E agora?\n",
            "Como funciona o cartão virtual Itaú?\n",
            "Como confirmar compra com o cartão de crédito?\n",
            "Como fazer compras online com meu cartão?\n",
            "Como recupero a senha do meu cartão de crédito, débito ou múltiplo?\n",
            "Como altero a senha do meu cartão de crédito, débito ou múltiplo?\n",
            "Como cancelar cartão de crédito do titular ou adicionais?\n",
            "Como faço o cancelamento do cartão de crédito do titular falecido?\n",
            "Como fazer a renegociação da fatura do meu cartão de crédito?\n",
            "Como parcelo a fatura do meu cartão de crédito?\n",
            "Como contrato o Acordo Fatura?\n",
            "O que é anuidade do cartão?\n",
            "Como consulto a taxa de juros do cartão de crédito?\n",
            "Como contestar uma compra no cartão de crédito?\n",
            "Como funciona o crédito pessoal no cartão de crédito\n",
            "Quais são as despesas de cobrança?\n",
            "\n",
            "\n",
            "\n",
            "\n",
            "\n"
          ],
          "name": "stdout"
        },
        {
          "output_type": "execute_result",
          "data": {
            "application/vnd.google.colaboratory.intrinsic+json": {
              "type": "string"
            },
            "text/plain": [
              "'PERGUNTA SELECIONADA: Onde posso pagar a fatura Itaú? RESPOSTA SELECIONADA: Pagar a fatura de cartão de credito é muito simples. Mesmo sem ter conta no Itaú, você pode fazer o pagamento em nossos caixas eletrônicos e agências. Veja como: Facilite o seu dia a dia! Você que tem conta-corrente no Itaú pode cadastrar o débito automático para garantir o pagamento da fatura Itaú em dia, sem precisar se preocupar com a data de vencimento. Lembre-se: com o seu cartão Itaucard, você tem muitos benefícios.Além de 50% de desconto em diversos teatros e cinemas, você pode contratar o programa de pontos. Com ele, as suas compras viram pontos que podem ser trocados por descontos, prêmios e viagens.E não se esqueça: você também pode fazer compras online com descontos.É só conferir os parceiros participantes ;-)'"
            ]
          },
          "metadata": {
            "tags": []
          },
          "execution_count": 89
        }
      ]
    },
    {
      "cell_type": "code",
      "metadata": {
        "colab": {
          "base_uri": "https://localhost:8080/",
          "height": 970
        },
        "id": "oW_a82Xid_Yw",
        "outputId": "55461825-531e-4670-ac47-fdf7c70962a3"
      },
      "source": [
        "response_itau('o que essa tal de anuidade?')"
      ],
      "execution_count": 90,
      "outputs": [
        {
          "output_type": "stream",
          "text": [
            "Perguntas disponíveis na base:\n",
            "\n",
            "Onde consultar a fatura Itaucard e como saber se ela já fechou?\n",
            "Posso pagar conta com cartão de crédito?\n",
            "O que é e como funciona o pagamento por aproximação?\n",
            "Como cadastrar ou cancelar o debito automático da minha fatura?\n",
            "Como antecipar o pagamento de uma compra parcelada no cartão?\n",
            "Onde posso pagar a fatura Itaú?\n",
            "Como alterar a data de vencimento da fatura do cartão de crédito?\n",
            "Como cadastrar a fatura digital?\n",
            "Fiz um pagamentos em duplicidade como posso regularizar?\n",
            "Como eu sei se meu cartão tem a funcionalidade de pagamento por aproximação?\n",
            "Como saber o limite do cartão de crédito e o valor disponível para compra?\n",
            "Como aumento o limite do meu cartão de crédito?\n",
            "Quanto tempo leva para o limite de crédito ser liberado após o pagamento?\n",
            "O que é e como funciona o aumento de limite automático?\n",
            "O que é e como funciona o aumento de limite temporário do cartão de crédito?\n",
            "Como contrato ou cancelo a avaliação emergencial de crédito?\n",
            "Como defino o limite de crédito para o cartão adicional?\n",
            "O limite do cartão de crédito pode ser reduzido?\n",
            "Como faço o desbloqueio de cartão de débito ou múltiplo?\n",
            "Como faço para desbloquear meu cartão de crédito?\n",
            "Como faço para bloquear cartão de crédito, débito ou múltiplo?\n",
            "Como faço para cadastrar o aviso viagem?\n",
            "Como pedir a segunda via do cartão?\n",
            "Como posso pedir um cartão de crédito do Itaú?\n",
            "Qual o prazo de entrega após soliticar um cartão de crédito, débito ou múltiplo?\n",
            "Onde acompanho o status do meu pedido de cartão?\n",
            "Recebi o e-mail de aprovação, meu cartão chegará em quanto tempo?\n",
            "Depois que preenchi a proposta do cartão, quanto tempo demora a análise?\n",
            "Recebi um e-mail aprovando um cartão que pedi há meses atrás. E agora?\n",
            "Recebi um e-mail de negativa mas ainda quero o cartão. E agora?\n",
            "Como funciona o cartão virtual Itaú?\n",
            "Como confirmar compra com o cartão de crédito?\n",
            "Como fazer compras online com meu cartão?\n",
            "Como recupero a senha do meu cartão de crédito, débito ou múltiplo?\n",
            "Como altero a senha do meu cartão de crédito, débito ou múltiplo?\n",
            "Como cancelar cartão de crédito do titular ou adicionais?\n",
            "Como faço o cancelamento do cartão de crédito do titular falecido?\n",
            "Como fazer a renegociação da fatura do meu cartão de crédito?\n",
            "Como parcelo a fatura do meu cartão de crédito?\n",
            "Como contrato o Acordo Fatura?\n",
            "O que é anuidade do cartão?\n",
            "Como consulto a taxa de juros do cartão de crédito?\n",
            "Como contestar uma compra no cartão de crédito?\n",
            "Como funciona o crédito pessoal no cartão de crédito\n",
            "Quais são as despesas de cobrança?\n",
            "\n",
            "\n",
            "\n",
            "\n",
            "\n"
          ],
          "name": "stdout"
        },
        {
          "output_type": "execute_result",
          "data": {
            "application/vnd.google.colaboratory.intrinsic+json": {
              "type": "string"
            },
            "text/plain": [
              "'PERGUNTA SELECIONADA: O que é anuidade do cartão? RESPOSTA SELECIONADA: A anuidade do cartão é uma tarifa cobrada pela prestação de serviços como administração, manutenção, gerenciamento e monitoramento do cartão.Na Itaucard, o valor da anuidade do cartão volta para você em benefícios como:Confira os detalhes dos benefícios feitos para você ;-)Para conferir os valores de anuidade, aqui no site, você pode clicar em Produtos > Cartões > Tabela de Tarifas.Para outras informações da anuidade Itaucard, é só acessar a sua conta-corrente, com agência, conta e senha eletrônica, ou acessar o cartão, com número e senha do cartão de crédito, e digitar “atendimento online” no campo de busca.Se preferir, você pode acessar o aplicativo Itaucard e tocar na opção Atendimento > Chat.Se você não tem os dados para acessar o seu cartão pela internet, é só ligar para a central de atendimento a cartões, que tiramos as suas dúvidas por lá.'"
            ]
          },
          "metadata": {
            "tags": []
          },
          "execution_count": 90
        }
      ]
    },
    {
      "cell_type": "code",
      "metadata": {
        "colab": {
          "base_uri": "https://localhost:8080/"
        },
        "id": "WCcUhjGIeTKg",
        "outputId": "e3f3fcfd-994d-43a9-b60c-a3815cf2c62a"
      },
      "source": [
        "flag=True\n",
        "\n",
        "print(\"FAQBOT: Olá, eu sou o faqbot. Posso responder suas perguntas referentes a abertura de conta no banco.\")\n",
        "\n",
        "while(flag==True):\n",
        "    # Obtém entrada do usuário\n",
        "    user_response = input()\n",
        "    user_response=user_response.lower()\n",
        "\n",
        "    saudacao, agradecimento, despedida = dialog(user_response)\n",
        "    if despedida == False:\n",
        "        if agradecimento == True:\n",
        "            flag = False\n",
        "            print(\"FAQBOT: Disponha. Estou aqui para lhe ajudar.\")\n",
        "        else:\n",
        "            if saudacao == True:\n",
        "                print(\"FAQBOT: \" +  random.choice(respostas_bot))\n",
        "            else:\n",
        "                # Caso seja um pergunta válida\n",
        "                print(\"FAQBOT: \",end=\"\")\n",
        "                print('\\x1b[1;31m'+ response_itau(user_response) +'\\x1b[0m')\n",
        "    else:\n",
        "        flag = False\n",
        "        print(\"FAQBOT: Até mais!\")"
      ],
      "execution_count": 91,
      "outputs": [
        {
          "output_type": "stream",
          "text": [
            "FAQBOT: Olá, eu sou o faqbot. Posso responder suas perguntas referentes a abertura de conta no banco.\n",
            "olá\n",
            "FAQBOT: Oi\n",
            "o que é essa tal de anuidade?\n",
            "FAQBOT: Perguntas disponíveis na base:\n",
            "\n",
            "Onde consultar a fatura Itaucard e como saber se ela já fechou?\n",
            "Posso pagar conta com cartão de crédito?\n",
            "O que é e como funciona o pagamento por aproximação?\n",
            "Como cadastrar ou cancelar o debito automático da minha fatura?\n",
            "Como antecipar o pagamento de uma compra parcelada no cartão?\n",
            "Onde posso pagar a fatura Itaú?\n",
            "Como alterar a data de vencimento da fatura do cartão de crédito?\n",
            "Como cadastrar a fatura digital?\n",
            "Fiz um pagamentos em duplicidade como posso regularizar?\n",
            "Como eu sei se meu cartão tem a funcionalidade de pagamento por aproximação?\n",
            "Como saber o limite do cartão de crédito e o valor disponível para compra?\n",
            "Como aumento o limite do meu cartão de crédito?\n",
            "Quanto tempo leva para o limite de crédito ser liberado após o pagamento?\n",
            "O que é e como funciona o aumento de limite automático?\n",
            "O que é e como funciona o aumento de limite temporário do cartão de crédito?\n",
            "Como contrato ou cancelo a avaliação emergencial de crédito?\n",
            "Como defino o limite de crédito para o cartão adicional?\n",
            "O limite do cartão de crédito pode ser reduzido?\n",
            "Como faço o desbloqueio de cartão de débito ou múltiplo?\n",
            "Como faço para desbloquear meu cartão de crédito?\n",
            "Como faço para bloquear cartão de crédito, débito ou múltiplo?\n",
            "Como faço para cadastrar o aviso viagem?\n",
            "Como pedir a segunda via do cartão?\n",
            "Como posso pedir um cartão de crédito do Itaú?\n",
            "Qual o prazo de entrega após soliticar um cartão de crédito, débito ou múltiplo?\n",
            "Onde acompanho o status do meu pedido de cartão?\n",
            "Recebi o e-mail de aprovação, meu cartão chegará em quanto tempo?\n",
            "Depois que preenchi a proposta do cartão, quanto tempo demora a análise?\n",
            "Recebi um e-mail aprovando um cartão que pedi há meses atrás. E agora?\n",
            "Recebi um e-mail de negativa mas ainda quero o cartão. E agora?\n",
            "Como funciona o cartão virtual Itaú?\n",
            "Como confirmar compra com o cartão de crédito?\n",
            "Como fazer compras online com meu cartão?\n",
            "Como recupero a senha do meu cartão de crédito, débito ou múltiplo?\n",
            "Como altero a senha do meu cartão de crédito, débito ou múltiplo?\n",
            "Como cancelar cartão de crédito do titular ou adicionais?\n",
            "Como faço o cancelamento do cartão de crédito do titular falecido?\n",
            "Como fazer a renegociação da fatura do meu cartão de crédito?\n",
            "Como parcelo a fatura do meu cartão de crédito?\n",
            "Como contrato o Acordo Fatura?\n",
            "O que é anuidade do cartão?\n",
            "Como consulto a taxa de juros do cartão de crédito?\n",
            "Como contestar uma compra no cartão de crédito?\n",
            "Como funciona o crédito pessoal no cartão de crédito\n",
            "Quais são as despesas de cobrança?\n",
            "\n",
            "\n",
            "\n",
            "\n",
            "\n",
            "\u001b[1;31mPERGUNTA SELECIONADA: O que é anuidade do cartão? RESPOSTA SELECIONADA: A anuidade do cartão é uma tarifa cobrada pela prestação de serviços como administração, manutenção, gerenciamento e monitoramento do cartão.Na Itaucard, o valor da anuidade do cartão volta para você em benefícios como:Confira os detalhes dos benefícios feitos para você ;-)Para conferir os valores de anuidade, aqui no site, você pode clicar em Produtos > Cartões > Tabela de Tarifas.Para outras informações da anuidade Itaucard, é só acessar a sua conta-corrente, com agência, conta e senha eletrônica, ou acessar o cartão, com número e senha do cartão de crédito, e digitar “atendimento online” no campo de busca.Se preferir, você pode acessar o aplicativo Itaucard e tocar na opção Atendimento > Chat.Se você não tem os dados para acessar o seu cartão pela internet, é só ligar para a central de atendimento a cartões, que tiramos as suas dúvidas por lá.\u001b[0m\n",
            "tchau\n",
            "FAQBOT: Até mais!\n"
          ],
          "name": "stdout"
        }
      ]
    },
    {
      "cell_type": "markdown",
      "metadata": {
        "id": "nVfYIchSJ7ib"
      },
      "source": [
        "## Referências e Material complementar\n",
        "\n",
        "* [Chatbot simples com NLTK e scikit-learn](https://github.com/kunkaweb/Chatbot)\n",
        "* [scikit-learn - TfidfVectorizer](https://scikit-learn.org/stable/modules/generated/sklearn.feature_extraction.text.TfidfVectorizer.html)\n",
        "* [scikit-learn - cosine_similarity](https://scikit-learn.org/stable/modules/generated/sklearn.metrics.pairwise.cosine_similarity.html)"
      ]
    },
    {
      "cell_type": "code",
      "metadata": {
        "id": "7zWrc2ffJbzF"
      },
      "source": [
        ""
      ],
      "execution_count": null,
      "outputs": []
    }
  ]
}